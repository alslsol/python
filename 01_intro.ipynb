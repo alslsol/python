{
 "cells": [
  {
   "cell_type": "markdown",
   "id": "07109675-083b-42cc-ace8-b5f3b2fb05f1",
   "metadata": {},
   "source": [
    "# 0. intro\n",
    "\n",
    "## 단축키(shortcut)\n",
    "- ctrl + enter: 현재 셀 실행\n",
    "- shift + enter: 현재 셀 실행 >> 아래로 이동\n",
    "- alt + enter: 현재 셀 실행 >> 아래 새 셀 추가\n",
    "- esc: 방향키로 셀 선택 가능 >> enter: 셀 선택\n",
    "      m: markdown으로 변경\n"
   ]
  },
  {
   "cell_type": "markdown",
   "id": "593c99f7-c60d-4c11-8232-458ebb0d4910",
   "metadata": {},
   "source": [
    "## 주의사항\n",
    "1. 대소문자 주의: ex. Apple <-> apple\n",
    "2. 띄어쓰기 주의: ex. `git add.` <-> `git add .`\n",
    "3. 오타 주의: ex. message <-> massage"
   ]
  },
  {
   "cell_type": "markdown",
   "id": "121f39be-b8f6-4d37-9969-1a2640035203",
   "metadata": {},
   "source": [
    "## 1. 변수\n",
    "```python\n",
    "var_name = value #변수명에 특정 값을 입력한단 것 의미\n",
    "```\n",
    "- 변수명은 뭐든 사용O\n",
    "    - 다만 영어, 숫자, _만 이용할 것\n",
    "    - 키워드는 불가능\n",
    "- **개념 원리**: 객체라는 상자가 있음 >> 이 상자의 이름을 a라고 할 때 >> a에 1이라는 값을 부여하는 것\n",
    "- 파이썬: 컴파일/링크 단계 생략 가능한 인터프리터 언어 >> 대화형으로 사용 가능\n",
    "- 컴파일: 자연어를 컴퓨터가 이해 가능한 언어로 전환/번역하는 작업 >> 통번역하는 방식\n",
    "    - 이를 생략하니 파이썬은 빠르게 작업 가능한 것 >> 파일은 줄마다 실시간 번역\n",
    "    - 대신 파이썬은 개발 시간은 빨라도, 실행 시간은 느림 >> C/Java: 개발 시간 길지만, 실행 시간 빠름\n"
   ]
  },
  {
   "cell_type": "code",
   "execution_count": 105,
   "id": "bf7ea29b-52ac-4367-bbc5-226224e33f25",
   "metadata": {},
   "outputs": [
    {
     "name": "stdout",
     "output_type": "stream",
     "text": [
      "1\n"
     ]
    }
   ],
   "source": [
    "a = 1 #1이라는 값을 변수a에 담은 것\n",
    "print(a)"
   ]
  },
  {
   "cell_type": "code",
   "execution_count": 106,
   "id": "572de73a-3358-4353-9796-ee5b420988d8",
   "metadata": {},
   "outputs": [
    {
     "data": {
      "text/plain": [
       "['False',\n",
       " 'None',\n",
       " 'True',\n",
       " 'and',\n",
       " 'as',\n",
       " 'assert',\n",
       " 'async',\n",
       " 'await',\n",
       " 'break',\n",
       " 'class',\n",
       " 'continue',\n",
       " 'def',\n",
       " 'del',\n",
       " 'elif',\n",
       " 'else',\n",
       " 'except',\n",
       " 'finally',\n",
       " 'for',\n",
       " 'from',\n",
       " 'global',\n",
       " 'if',\n",
       " 'import',\n",
       " 'in',\n",
       " 'is',\n",
       " 'lambda',\n",
       " 'nonlocal',\n",
       " 'not',\n",
       " 'or',\n",
       " 'pass',\n",
       " 'raise',\n",
       " 'return',\n",
       " 'try',\n",
       " 'while',\n",
       " 'with',\n",
       " 'yield']"
      ]
     },
     "execution_count": 106,
     "metadata": {},
     "output_type": "execute_result"
    }
   ],
   "source": [
    "#파이썬의 기본명사인 '키워드'는 변수명X\n",
    "import keyword\n",
    "keyword.kwlist"
   ]
  },
  {
   "cell_type": "code",
   "execution_count": 107,
   "id": "e3d84dd7-8b3e-4fe9-83dc-bb190cd14c84",
   "metadata": {},
   "outputs": [
    {
     "name": "stdout",
     "output_type": "stream",
     "text": [
      "150\n"
     ]
    }
   ],
   "source": [
    "#단어 띄어쓰기X >> 언더바로 연결하기\n",
    "seoul_dust_rate = 150\n",
    "print(seoul_dust_rate)"
   ]
  },
  {
   "cell_type": "markdown",
   "id": "f3c65eee-f601-4d81-b7ff-6a0ce75adf02",
   "metadata": {},
   "source": [
    "## 1-1. number"
   ]
  },
  {
   "cell_type": "markdown",
   "id": "02b6fae1-fffd-4233-989d-8e54368cade3",
   "metadata": {},
   "source": [
    "- 파이썬: 상자(객체) 만들면 숫자든 문자든 뭐든 넣을 수 있음\n",
    "    - 이외 언어: `int a` 등 숫자만 넣을 수 있는 객체 등 별도로 있음\n",
    "- int: 정수\n",
    "- float: 실수\n",
    "- complex: 복소수"
   ]
  },
  {
   "cell_type": "code",
   "execution_count": 109,
   "id": "8438a313-b985-42b4-a522-4e7c9c4648e7",
   "metadata": {},
   "outputs": [
    {
     "name": "stdout",
     "output_type": "stream",
     "text": [
      "100\n",
      "1.1\n",
      "(1+1j)\n"
     ]
    }
   ],
   "source": [
    "a = 100\n",
    "b = 1.1\n",
    "c = 1 + 1j #j: 복소수 >> 실수보다 넓은 개념\n",
    "\n",
    "print(a)\n",
    "print(b)\n",
    "print(c)"
   ]
  },
  {
   "cell_type": "code",
   "execution_count": 112,
   "id": "7582e119-ad5d-4be3-b591-c3b643145523",
   "metadata": {},
   "outputs": [
    {
     "name": "stdout",
     "output_type": "stream",
     "text": [
      "<class 'int'>\n",
      "<class 'float'>\n",
      "<class 'complex'>\n"
     ]
    }
   ],
   "source": [
    "print(type(a)) #type():변수 실행하는 함수 >> a라는 변수의 유형을 알려달라는 함수 >> int: 정수\n",
    "print(type(b)) #float: 실수\n",
    "print(type(c)) #복소수(complex)"
   ]
  },
  {
   "cell_type": "markdown",
   "id": "a082a306-9f16-434b-8e27-bb1f1f652566",
   "metadata": {},
   "source": [
    "## 1-2. boolean"
   ]
  },
  {
   "cell_type": "code",
   "execution_count": 120,
   "id": "52ad59bc-da64-401b-8ac1-a2aef38b45ab",
   "metadata": {},
   "outputs": [
    {
     "name": "stdout",
     "output_type": "stream",
     "text": [
      "True\n",
      "False\n",
      "<class 'bool'>\n",
      "<class 'bool'>\n"
     ]
    }
   ],
   "source": [
    "a = True #대문자로 적어야 함\n",
    "b = False\n",
    "\n",
    "print(a)\n",
    "print(b)\n",
    "\n",
    "print(type(a))\n",
    "print(type(b))"
   ]
  },
  {
   "cell_type": "markdown",
   "id": "d6ef1ee2-ec31-4cac-9841-3d5a7436beee",
   "metadata": {},
   "source": [
    "## 1-3. string(문자열)\n",
    "- `'`, `\"` 이용해 표현"
   ]
  },
  {
   "cell_type": "code",
   "execution_count": 132,
   "id": "4ad39eb0-0a78-4319-9db1-66246c97a951",
   "metadata": {},
   "outputs": [
    {
     "name": "stdout",
     "output_type": "stream",
     "text": [
      "hello\n",
      "hi\n"
     ]
    }
   ],
   "source": [
    "a = 'hello'\n",
    "b = \"hi\"\n",
    "print(a)\n",
    "print(b)"
   ]
  },
  {
   "cell_type": "code",
   "execution_count": 58,
   "id": "0f383a17-9a6a-46b2-b0b7-fd33d67a3e24",
   "metadata": {},
   "outputs": [
    {
     "name": "stdout",
     "output_type": "stream",
     "text": [
      "hello my name is 'sori'\n"
     ]
    }
   ],
   "source": [
    "#특정 단어 강조할 때, 문자열과 강조하려는 단어 서로 다른 기호 써야 함\n",
    "print(\"hello my name is 'sori'\")"
   ]
  },
  {
   "cell_type": "code",
   "execution_count": 114,
   "id": "289029c5-3efb-45e2-bedd-25cb2ed39f4d",
   "metadata": {},
   "outputs": [
    {
     "name": "stdout",
     "output_type": "stream",
     "text": [
      "\n",
      "hello\n",
      "my\n",
      "name\n",
      "\n"
     ]
    }
   ],
   "source": [
    "#줄바꿈 하고 싶다면\n",
    "a = '''\n",
    "hello\n",
    "my\n",
    "name\n",
    "'''\n",
    "#근데 앞에 n 등 붙는 이유는, 이게 파이썬 언어기 때문\n",
    "\n",
    "print(a)"
   ]
  },
  {
   "cell_type": "markdown",
   "id": "190f3f67-88e0-4e0d-8680-9241cf09344e",
   "metadata": {},
   "source": [
    "### string interpolation: 문자열 사이에 변수 넣기\n",
    "\n",
    "- %-formatting\n",
    "- str.format()\n",
    "- f-string"
   ]
  },
  {
   "cell_type": "code",
   "execution_count": 71,
   "id": "73ad81f7-a049-4b58-acd3-5c6d235b8097",
   "metadata": {},
   "outputs": [],
   "source": [
    "age = 10"
   ]
  },
  {
   "cell_type": "code",
   "execution_count": 131,
   "id": "5c77c1b2-586c-4783-bf52-0ba20419a361",
   "metadata": {},
   "outputs": [
    {
     "name": "stdout",
     "output_type": "stream",
     "text": [
      "홍길동은 10살입니다.\n",
      "홍길동은 10살 입니다.\n",
      "홍길동은 10살 입니다.\n"
     ]
    }
   ],
   "source": [
    "# 1. %-formatting 방식\n",
    "print('홍길동은 %s살입니다.' % age) #age 상자를 앞에 대입해서 a값에 따라 답 달라지게 만든 것\n",
    "\n",
    "# 2. str.format() 방식\n",
    "print('홍길동은 {}살 입니다.' .format(age))\n",
    "\n",
    "# 3. f-strng 방식 >> 우리가 가장 많이 쓸 방식임\n",
    "print(f'홍길동은 {age}살 입니다.')    "
   ]
  },
  {
   "cell_type": "markdown",
   "id": "046b49e4-6e46-4fa4-8fc2-e0f03d640e3e",
   "metadata": {},
   "source": [
    "## 2. 연산자"
   ]
  },
  {
   "cell_type": "markdown",
   "id": "bfb1e1b8-f75a-44fd-b4b9-7338184e6de3",
   "metadata": {},
   "source": [
    "### 2-1. 산술 연산자"
   ]
  },
  {
   "cell_type": "code",
   "execution_count": 92,
   "id": "335ea51b-c1b9-4b47-bc3b-0558c275f7d6",
   "metadata": {},
   "outputs": [],
   "source": [
    "a = 2\n",
    "b = 5"
   ]
  },
  {
   "cell_type": "code",
   "execution_count": 83,
   "id": "3e7816ed-2cde-4f0e-b2a3-9525b8883b94",
   "metadata": {},
   "outputs": [
    {
     "name": "stdout",
     "output_type": "stream",
     "text": [
      "7\n",
      "-3\n",
      "10\n",
      "0.4\n"
     ]
    }
   ],
   "source": [
    "print(a + b)\n",
    "print(a - b)\n",
    "print(a * b)\n",
    "print(a / b)"
   ]
  },
  {
   "cell_type": "code",
   "execution_count": 96,
   "id": "c2847ccc-12c4-479c-bf99-fc6fc1782097",
   "metadata": {},
   "outputs": [
    {
     "name": "stdout",
     "output_type": "stream",
     "text": [
      "32\n",
      "0\n",
      "2\n"
     ]
    }
   ],
   "source": [
    "print(a ** b) #제곱\n",
    "print(a // b) #몫\n",
    "print(a % b) #나머지"
   ]
  },
  {
   "cell_type": "code",
   "execution_count": 97,
   "id": "e0d2bfe6-94a0-4976-8aba-56c2dc5e492c",
   "metadata": {},
   "outputs": [
    {
     "name": "stdout",
     "output_type": "stream",
     "text": [
      "(0, 2)\n"
     ]
    }
   ],
   "source": [
    "result = divmod(a, b) #divmod(): 나눗셈 도구 >> a를 b로 나눈 뒤, 몫 and 나머지 세트 도출하는 함수\n",
    "print(result)"
   ]
  },
  {
   "cell_type": "markdown",
   "id": "8fd5e440-f37c-4194-8ce3-0db28d63e0e9",
   "metadata": {},
   "source": [
    "### 2-2. 비교 연산자"
   ]
  },
  {
   "cell_type": "code",
   "execution_count": 102,
   "id": "c90ed7be-9f8d-48f3-9dc2-d0da785c3f06",
   "metadata": {},
   "outputs": [
    {
     "name": "stdout",
     "output_type": "stream",
     "text": [
      "False\n",
      "True\n",
      "False\n",
      "True\n",
      "False\n"
     ]
    }
   ],
   "source": [
    "a = 5\n",
    "b = 10\n",
    "#a > b가 맞는지 확인하는 연산자 >> T or F 값 도출\n",
    "print(a > b)\n",
    "print(a < b)\n",
    "print(a >= b)\n",
    "print(a <= b)"
   ]
  },
  {
   "cell_type": "code",
   "execution_count": 103,
   "id": "f48b74f8-ff08-4e04-8068-235754cd12f2",
   "metadata": {},
   "outputs": [
    {
     "name": "stdout",
     "output_type": "stream",
     "text": [
      "False\n",
      "True\n"
     ]
    }
   ],
   "source": [
    "# a=b인지 확인하는 연산자\n",
    "print(a == b) \n",
    "\n",
    "#a와 b가 다른지 확인하는 연산자\n",
    "print(a != b)"
   ]
  },
  {
   "cell_type": "code",
   "execution_count": 104,
   "id": "f25ee891-4b35-423f-9ac0-bf85cb5a88ba",
   "metadata": {},
   "outputs": [
    {
     "name": "stdout",
     "output_type": "stream",
     "text": [
      "True\n",
      "False\n"
     ]
    }
   ],
   "source": [
    "#문자열에도 비교연산자 활용 가능\n",
    "print('hi' == 'hi')\n",
    "print('hi' == 'Hi')"
   ]
  },
  {
   "cell_type": "markdown",
   "id": "62e5c550-dc63-4c97-a276-6e26d7993b4b",
   "metadata": {},
   "source": [
    "### 2-3. 논리연산자\n",
    "- **and**: 양쪽 모두 `True`일 때, `True` 반환\n",
    "- **or**: 둘 중 하나라도 `True` 있을 때, `True` 반환 >> 반대로 양쪽 모두 `False`일 때, `False` 반환\n",
    "- **not**: 상태를 부정하는 역할함"
   ]
  },
  {
   "cell_type": "code",
   "execution_count": 117,
   "id": "5c426e81-7dff-416d-9c1b-14241270a1ff",
   "metadata": {},
   "outputs": [
    {
     "name": "stdout",
     "output_type": "stream",
     "text": [
      "True\n",
      "False\n",
      "False\n",
      "False\n"
     ]
    }
   ],
   "source": [
    "print(True and True) #둘다 T여서 T반환\n",
    "print(True and False)\n",
    "print(False and True)\n",
    "print(False and False) #둘다 F여서 F반환"
   ]
  },
  {
   "cell_type": "code",
   "execution_count": 119,
   "id": "330a32d4-4a5a-41d7-9ef3-e82073fcc6d2",
   "metadata": {},
   "outputs": [
    {
     "name": "stdout",
     "output_type": "stream",
     "text": [
      "True\n",
      "True\n",
      "True\n",
      "False\n"
     ]
    }
   ],
   "source": [
    "print(True or True)\n",
    "print(True or False)\n",
    "print(False or True)\n",
    "print(False or False)"
   ]
  },
  {
   "cell_type": "code",
   "execution_count": 121,
   "id": "7dca32bc-f192-40b9-a8f4-86faef584214",
   "metadata": {},
   "outputs": [
    {
     "name": "stdout",
     "output_type": "stream",
     "text": [
      "False\n"
     ]
    }
   ],
   "source": [
    "a = True\n",
    "print(not a)"
   ]
  },
  {
   "cell_type": "code",
   "execution_count": 129,
   "id": "d2e49faf-357d-4a3b-8a24-3492ec7c7097",
   "metadata": {},
   "outputs": [
    {
     "name": "stdout",
     "output_type": "stream",
     "text": [
      "5\n",
      "0\n",
      "0\n",
      "0\n"
     ]
    }
   ],
   "source": [
    "#단축평가: and\n",
    "print(3 and 5)\n",
    "print(3 and 0)\n",
    "print(0 and 5)\n",
    "print(0 and 0)"
   ]
  },
  {
   "cell_type": "code",
   "execution_count": 130,
   "id": "52e04562-3e56-4179-be44-daefca837d4b",
   "metadata": {},
   "outputs": [
    {
     "name": "stdout",
     "output_type": "stream",
     "text": [
      "3\n",
      "3\n",
      "5\n",
      "0\n"
     ]
    }
   ],
   "source": [
    "#단축평가: or\n",
    "print(3 or 5)\n",
    "print(3 or 0)\n",
    "print(0 or 5)\n",
    "print(0 or 0)"
   ]
  },
  {
   "cell_type": "markdown",
   "id": "12de5971-7704-4fac-9763-b530e0e88c96",
   "metadata": {},
   "source": [
    "## 2-4. 복합연산자"
   ]
  },
  {
   "cell_type": "code",
   "execution_count": 144,
   "id": "98fdeb55-9aca-4cad-b3f2-0a462a23a5ab",
   "metadata": {},
   "outputs": [],
   "source": [
    "a = 2\n",
    "b = 3"
   ]
  },
  {
   "cell_type": "code",
   "execution_count": 143,
   "id": "c679030a-e6bf-4325-ac34-7ad8f9d39f71",
   "metadata": {},
   "outputs": [
    {
     "name": "stdout",
     "output_type": "stream",
     "text": [
      "5\n"
     ]
    }
   ],
   "source": [
    "a = a + b #등호: a+b 값을 변수a에 저장한단 의미\n",
    "print(a)"
   ]
  },
  {
   "cell_type": "code",
   "execution_count": 148,
   "id": "13ab7593-8dcf-4fca-b093-d30cacbe2ebb",
   "metadata": {},
   "outputs": [
    {
     "data": {
      "text/plain": [
       "18.0"
      ]
     },
     "execution_count": 148,
     "metadata": {},
     "output_type": "execute_result"
    }
   ],
   "source": [
    "a += b\n",
    "a -= b\n",
    "a *= b\n",
    "a /+ b"
   ]
  },
  {
   "cell_type": "markdown",
   "id": "69b4f609-25cb-4a6e-ac4f-9029d0c588bc",
   "metadata": {},
   "source": [
    "## 2-5. 기타연산자"
   ]
  },
  {
   "cell_type": "code",
   "execution_count": 151,
   "id": "8b41173d-8ab4-4fb8-b183-aa4dffc426ca",
   "metadata": {},
   "outputs": [
    {
     "name": "stdout",
     "output_type": "stream",
     "text": [
      "hihello\n"
     ]
    }
   ],
   "source": [
    "#문자열에서 +: 연결(concatenation) >> 숫자의 경우 산술연산자\n",
    "a = 'hi'\n",
    "b = 'hello'\n",
    "print(a + b)\n",
    "#처음에 나온 게 문자/숫자인지 따라 연산자 역할 달라짐 >> `1 + b` 일 경우, 먼저 나온 게 숫자이므로 산술연산자로 쓰이므로 >> 오류 나게 됨"
   ]
  },
  {
   "cell_type": "code",
   "execution_count": 154,
   "id": "480fb9c0-d09b-47e3-8eb6-ea63dbae7f4d",
   "metadata": {},
   "outputs": [
    {
     "name": "stdout",
     "output_type": "stream",
     "text": [
      "[1, 2, 3, 2, 3, 4]\n",
      "True\n"
     ]
    }
   ],
   "source": [
    "#list일 경우: 동일히 연결하는 기타연산자로 쓰임\n",
    "a = [1, 2, 3]\n",
    "b = [2, 3, 4]\n",
    "print(a + b)\n",
    "print(1 in a) #in: 숫자 1이 list a 내에 포함돼 있는지"
   ]
  },
  {
   "cell_type": "code",
   "execution_count": 157,
   "id": "7b69410d-ef76-4196-ad67-a9f7b009ef46",
   "metadata": {},
   "outputs": [
    {
     "name": "stdout",
     "output_type": "stream",
     "text": [
      "True\n",
      "False\n"
     ]
    }
   ],
   "source": [
    "a = 500\n",
    "b = 500\n",
    "print(a == b) #a와 b의 값이 동일한지 묻는 연산자\n",
    "print(a is b) #a가 b와 동일한 객체인지 묻는 연산자\n",
    "#둘다 비교하는 건 같지만, 구체적인 역할이 다름"
   ]
  },
  {
   "cell_type": "markdown",
   "id": "f70a4cee-2f31-4512-ae9c-8d04c931e498",
   "metadata": {},
   "source": [
    "- 컴퓨터의 RAM: 높을수록 멀티태스킹 잘 됨 >> RAM 큰 것 = 부엌의 조리대가 큰 것과 비슷\n",
    "- `is`: 데이터 값 자체는 같을지라도, 메모리 상 객체 저장되는 위치 다르면 두 값이 같지 않다고 인식 >> 그래서 False 도출하는 것\n",
    "    - 256까지는 자주 쓰는 값으로 인식 >> 그래서 객체 다르더라도, 여기까지 값은 위치 동일하게 저장토록 미리 지정 >> 256까지는 `is` 하면 `True` 값 나옴"
   ]
  },
  {
   "cell_type": "markdown",
   "id": "0289a757-c7d2-49a1-91a3-ad18fea44e03",
   "metadata": {},
   "source": [
    "### 연산자 우선순위\n",
    "0. ()로 그룹화된 경우\n",
    "1. **(제곱)\n",
    "2. 산술연산자(*, /)\n",
    "3. 산술연산자(+, -)\n",
    "4. 비교연산자, in, is\n",
    "5. not\n",
    "6. and\n",
    "7. or"
   ]
  },
  {
   "cell_type": "markdown",
   "id": "87afcca7-5992-48c4-b740-5edfee31a808",
   "metadata": {},
   "source": [
    "## 3. 형변환"
   ]
  },
  {
   "cell_type": "markdown",
   "id": "eb882fa2-cfae-4e51-a0fe-7c9e3cec2d73",
   "metadata": {},
   "source": [
    "## 3.1 암시적 형변환\n",
    "- 파이썬이 자동으로 형변환해주는 것 의미"
   ]
  },
  {
   "cell_type": "code",
   "execution_count": 164,
   "id": "77f14b1b-bdbf-4680-a387-6a809c3217a6",
   "metadata": {},
   "outputs": [
    {
     "name": "stdout",
     "output_type": "stream",
     "text": [
      "1\n",
      "2\n",
      "hello\n"
     ]
    }
   ],
   "source": [
    "a = True\n",
    "b = False\n",
    "c= 1\n",
    "\n",
    "print(a + b) # T=1(전기 흐름), F=0(전기 안 흐름) >> 이렇게 자동으로 인식해 계산한 것\n",
    "print(a + c)\n",
    "\n",
    "if 1:\n",
    "    print('hello') # 1=True로 자동으로 파이썬이 인식해서 값 도출한 것"
   ]
  },
  {
   "cell_type": "markdown",
   "id": "faf87cdc-1606-4066-9f1d-51016a564831",
   "metadata": {},
   "source": [
    "## 3.2 명시적 형변환\n",
    "- int(): 괄호 안 숫자를 정수로 변환\n",
    "- float(): 실수로 변환\n",
    "- str(): 숫자로 변환\n",
    "- bool(): 분리형으로 변환"
   ]
  },
  {
   "cell_type": "code",
   "execution_count": 178,
   "id": "2bee3e39-bb34-4c99-8188-c9b64e5dff9a",
   "metadata": {},
   "outputs": [
    {
     "name": "stdout",
     "output_type": "stream",
     "text": [
      "<class 'str'>\n",
      "3\n"
     ]
    }
   ],
   "source": [
    "# 1. int()\n",
    "a = '3'\n",
    "print(type(a)) #a의 값이 문자형 3이기 때문\n",
    "print(int(a)) #문자형인 a를 숫자형으로 바꿔서 출력 >> 숫자형으로 바꿀 수 있는 문자형만 int() 가능"
   ]
  },
  {
   "cell_type": "code",
   "execution_count": 179,
   "id": "68b860b0-097d-4ae9-bcdd-47d4a9445ee3",
   "metadata": {},
   "outputs": [
    {
     "name": "stdout",
     "output_type": "stream",
     "text": [
      "1반\n"
     ]
    }
   ],
   "source": [
    "# 2. str()\n",
    "a = 1\n",
    "b = '반'\n",
    "\n",
    "#원데이터는 유지한 채, 사용할 때만 데이터 형태 바꾸기\n",
    "print(str(a) + b) #숫자형인 a를 문자형으로 데이터 형태 바꾼 뒤 계산"
   ]
  },
  {
   "cell_type": "code",
   "execution_count": 180,
   "id": "2e1710b2-5349-47dc-812c-09d767680f94",
   "metadata": {},
   "outputs": [
    {
     "name": "stdout",
     "output_type": "stream",
     "text": [
      "True\n",
      "False\n",
      "True\n"
     ]
    }
   ],
   "source": [
    "# 3. bool()\n",
    "a = 1\n",
    "b = 0\n",
    "c = 123\n",
    "print(bool(a))\n",
    "print(bool(b))\n",
    "print(bool(c))\n",
    "\n",
    "# 0만 F, 이외 음수 포함 모든 수는 T"
   ]
  },
  {
   "cell_type": "code",
   "execution_count": 188,
   "id": "2280d56b-6cb1-44e8-8830-f9767e6b27ce",
   "metadata": {},
   "outputs": [
    {
     "name": "stdout",
     "output_type": "stream",
     "text": [
      "False\n",
      "True\n"
     ]
    }
   ],
   "source": [
    "# 리스트의 경우: 리스트는 데이터의 집합체 >> 리스트 내 데이터 1개라도 있으면 T, 없으면 F로 인식\n",
    "print(bool([ ]))\n",
    "print(bool([1, 2, 3]))"
   ]
  },
  {
   "cell_type": "code",
   "execution_count": null,
   "id": "6413099e-dd81-4888-9966-1e01e4444602",
   "metadata": {},
   "outputs": [],
   "source": []
  },
  {
   "cell_type": "code",
   "execution_count": null,
   "id": "1c48a1af-bbba-4745-a61d-7957e382355f",
   "metadata": {},
   "outputs": [],
   "source": []
  }
 ],
 "metadata": {
  "kernelspec": {
   "display_name": "Python 3 (ipykernel)",
   "language": "python",
   "name": "python3"
  },
  "language_info": {
   "codemirror_mode": {
    "name": "ipython",
    "version": 3
   },
   "file_extension": ".py",
   "mimetype": "text/x-python",
   "name": "python",
   "nbconvert_exporter": "python",
   "pygments_lexer": "ipython3",
   "version": "3.13.2"
  }
 },
 "nbformat": 4,
 "nbformat_minor": 5
}
