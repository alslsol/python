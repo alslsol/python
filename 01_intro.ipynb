{
 "cells": [
  {
   "cell_type": "markdown",
   "id": "07109675-083b-42cc-ace8-b5f3b2fb05f1",
   "metadata": {},
   "source": [
    "# 0. intro\n",
    "\n",
    "## 단축키(shortcut)\n",
    "- ctrl + enter: 현재 셀 실행\n",
    "- shift + enter: 현재 셀 실행 >> 아래로 이동\n",
    "- alt + enter: 현재 셀 실행 >> 아래 새 셀 추가\n",
    "- esc: 방향키로 셀 선택 가능 >> enter: 셀 선택\n",
    "      m: markdown으로 변경\n"
   ]
  },
  {
   "cell_type": "markdown",
   "id": "593c99f7-c60d-4c11-8232-458ebb0d4910",
   "metadata": {},
   "source": [
    "## 주의사항\n",
    "1. 대소문자 주의: ex. Apple <-> apple\n",
    "2. 띄어쓰기 주의: ex. `git add.` <-> `git add .`\n",
    "3. 오타 주의: ex. message <-> massage"
   ]
  },
  {
   "cell_type": "markdown",
   "id": "121f39be-b8f6-4d37-9969-1a2640035203",
   "metadata": {},
   "source": [
    "## 1. 변수\n",
    "```python\n",
    "var_name = value #변수명에 특정 값을 입력한단 것 의미\n",
    "```\n",
    "- 변수명은 뭐든 사용O\n",
    "    - 다만 영어, 숫자, _만 이용할 것\n",
    "    - 키워드는 불가능\n",
    "- **개념 원리**: 객체라는 상자가 있음 >> 이 상자의 이름을 a라고 할 때 >> a에 1이라는 값을 부여하는 것\n",
    "- 파이썬: 컴파일/링크 단계 생략 가능한 인터프리터 언어 >> 대화형으로 사용 가능\n",
    "- 컴파일: 자연어를 컴퓨터가 이해 가능한 언어로 전환/번역하는 작업 >> 통번역하는 방식\n",
    "    - 이를 생략하니 파이썬은 빠르게 작업 가능한 것 >> 파일은 줄마다 실시간 번역\n",
    "    - 대신 파이썬은 개발 시간은 빨라도, 실행 시간은 느림 >> C/Java: 개발 시간 길지만, 실행 시간 빠름\n"
   ]
  },
  {
   "cell_type": "code",
   "execution_count": 105,
   "id": "bf7ea29b-52ac-4367-bbc5-226224e33f25",
   "metadata": {},
   "outputs": [
    {
     "name": "stdout",
     "output_type": "stream",
     "text": [
      "1\n"
     ]
    }
   ],
   "source": [
    "a = 1 #1이라는 값을 변수a에 담은 것\n",
    "print(a)"
   ]
  },
  {
   "cell_type": "code",
   "execution_count": 106,
   "id": "572de73a-3358-4353-9796-ee5b420988d8",
   "metadata": {},
   "outputs": [
    {
     "data": {
      "text/plain": [
       "['False',\n",
       " 'None',\n",
       " 'True',\n",
       " 'and',\n",
       " 'as',\n",
       " 'assert',\n",
       " 'async',\n",
       " 'await',\n",
       " 'break',\n",
       " 'class',\n",
       " 'continue',\n",
       " 'def',\n",
       " 'del',\n",
       " 'elif',\n",
       " 'else',\n",
       " 'except',\n",
       " 'finally',\n",
       " 'for',\n",
       " 'from',\n",
       " 'global',\n",
       " 'if',\n",
       " 'import',\n",
       " 'in',\n",
       " 'is',\n",
       " 'lambda',\n",
       " 'nonlocal',\n",
       " 'not',\n",
       " 'or',\n",
       " 'pass',\n",
       " 'raise',\n",
       " 'return',\n",
       " 'try',\n",
       " 'while',\n",
       " 'with',\n",
       " 'yield']"
      ]
     },
     "execution_count": 106,
     "metadata": {},
     "output_type": "execute_result"
    }
   ],
   "source": [
    "#파이썬의 기본명사인 '키워드'는 변수명X\n",
    "import keyword\n",
    "keyword.kwlist"
   ]
  },
  {
   "cell_type": "code",
   "execution_count": 107,
   "id": "e3d84dd7-8b3e-4fe9-83dc-bb190cd14c84",
   "metadata": {},
   "outputs": [
    {
     "name": "stdout",
     "output_type": "stream",
     "text": [
      "150\n"
     ]
    }
   ],
   "source": [
    "#단어 띄어쓰기X >> 언더바로 연결하기\n",
    "seoul_dust_rate = 150\n",
    "print(seoul_dust_rate)"
   ]
  },
  {
   "cell_type": "markdown",
   "id": "f3c65eee-f601-4d81-b7ff-6a0ce75adf02",
   "metadata": {},
   "source": [
    "## 1-1. number"
   ]
  },
  {
   "cell_type": "markdown",
   "id": "02b6fae1-fffd-4233-989d-8e54368cade3",
   "metadata": {},
   "source": [
    "- 파이썬: 상자(객체) 만들면 숫자든 문자든 뭐든 넣을 수 있음\n",
    "    - 이외 언어: `int a` 등 숫자만 넣을 수 있는 객체 등 별도로 있음\n",
    "- int: 정수\n",
    "- float: 실수\n",
    "- complex: 복소수"
   ]
  },
  {
   "cell_type": "code",
   "execution_count": 109,
   "id": "8438a313-b985-42b4-a522-4e7c9c4648e7",
   "metadata": {},
   "outputs": [
    {
     "name": "stdout",
     "output_type": "stream",
     "text": [
      "100\n",
      "1.1\n",
      "(1+1j)\n"
     ]
    }
   ],
   "source": [
    "a = 100\n",
    "b = 1.1\n",
    "c = 1 + 1j #j: 복소수 >> 실수보다 넓은 개념\n",
    "\n",
    "print(a)\n",
    "print(b)\n",
    "print(c)"
   ]
  },
  {
   "cell_type": "code",
   "execution_count": 112,
   "id": "7582e119-ad5d-4be3-b591-c3b643145523",
   "metadata": {},
   "outputs": [
    {
     "name": "stdout",
     "output_type": "stream",
     "text": [
      "<class 'int'>\n",
      "<class 'float'>\n",
      "<class 'complex'>\n"
     ]
    }
   ],
   "source": [
    "print(type(a)) #type():변수 실행하는 함수 >> a라는 변수의 유형을 알려달라는 함수 >> int: 정수\n",
    "print(type(b)) #float: 실수\n",
    "print(type(c)) #복소수(complex)"
   ]
  },
  {
   "cell_type": "markdown",
   "id": "a082a306-9f16-434b-8e27-bb1f1f652566",
   "metadata": {},
   "source": [
    "## 1-2. boolean"
   ]
  },
  {
   "cell_type": "code",
   "execution_count": 120,
   "id": "52ad59bc-da64-401b-8ac1-a2aef38b45ab",
   "metadata": {},
   "outputs": [
    {
     "name": "stdout",
     "output_type": "stream",
     "text": [
      "True\n",
      "False\n",
      "<class 'bool'>\n",
      "<class 'bool'>\n"
     ]
    }
   ],
   "source": [
    "a = True #대문자로 적어야 함\n",
    "b = False\n",
    "\n",
    "print(a)\n",
    "print(b)\n",
    "\n",
    "print(type(a))\n",
    "print(type(b))"
   ]
  },
  {
   "cell_type": "markdown",
   "id": "d6ef1ee2-ec31-4cac-9841-3d5a7436beee",
   "metadata": {},
   "source": [
    "## 1-3. string(문자열)\n",
    "- `'`, `\"` 이용해 표현"
   ]
  },
  {
   "cell_type": "code",
   "execution_count": 132,
   "id": "4ad39eb0-0a78-4319-9db1-66246c97a951",
   "metadata": {},
   "outputs": [
    {
     "name": "stdout",
     "output_type": "stream",
     "text": [
      "hello\n",
      "hi\n"
     ]
    }
   ],
   "source": [
    "a = 'hello'\n",
    "b = \"hi\"\n",
    "print(a)\n",
    "print(b)"
   ]
  },
  {
   "cell_type": "code",
   "execution_count": 58,
   "id": "0f383a17-9a6a-46b2-b0b7-fd33d67a3e24",
   "metadata": {},
   "outputs": [
    {
     "name": "stdout",
     "output_type": "stream",
     "text": [
      "hello my name is 'sori'\n"
     ]
    }
   ],
   "source": [
    "#특정 단어 강조할 때, 문자열과 강조하려는 단어 서로 다른 기호 써야 함\n",
    "print(\"hello my name is 'sori'\")"
   ]
  },
  {
   "cell_type": "code",
   "execution_count": 114,
   "id": "289029c5-3efb-45e2-bedd-25cb2ed39f4d",
   "metadata": {},
   "outputs": [
    {
     "name": "stdout",
     "output_type": "stream",
     "text": [
      "\n",
      "hello\n",
      "my\n",
      "name\n",
      "\n"
     ]
    }
   ],
   "source": [
    "#줄바꿈 하고 싶다면\n",
    "a = '''\n",
    "hello\n",
    "my\n",
    "name\n",
    "'''\n",
    "#근데 앞에 n 등 붙는 이유는, 이게 파이썬 언어기 때문\n",
    "\n",
    "print(a)"
   ]
  },
  {
   "cell_type": "markdown",
   "id": "190f3f67-88e0-4e0d-8680-9241cf09344e",
   "metadata": {},
   "source": [
    "### string interpolation: 문자열 사이에 변수 넣기\n",
    "\n",
    "- %-formatting\n",
    "- str.format()\n",
    "- f-string"
   ]
  },
  {
   "cell_type": "code",
   "execution_count": 71,
   "id": "73ad81f7-a049-4b58-acd3-5c6d235b8097",
   "metadata": {},
   "outputs": [],
   "source": [
    "age = 10"
   ]
  },
  {
   "cell_type": "code",
   "execution_count": 131,
   "id": "5c77c1b2-586c-4783-bf52-0ba20419a361",
   "metadata": {},
   "outputs": [
    {
     "name": "stdout",
     "output_type": "stream",
     "text": [
      "홍길동은 10살입니다.\n",
      "홍길동은 10살 입니다.\n",
      "홍길동은 10살 입니다.\n"
     ]
    }
   ],
   "source": [
    "# 1. %-formatting 방식\n",
    "print('홍길동은 %s살입니다.' % age) #age 상자를 앞에 대입해서 a값에 따라 답 달라지게 만든 것\n",
    "\n",
    "# 2. str.format() 방식\n",
    "print('홍길동은 {}살 입니다.' .format(age))\n",
    "\n",
    "# 3. f-strng 방식 >> 우리가 가장 많이 쓸 방식임\n",
    "print(f'홍길동은 {age}살 입니다.')"
   ]
  },
  {
   "cell_type": "markdown",
   "id": "046b49e4-6e46-4fa4-8fc2-e0f03d640e3e",
   "metadata": {},
   "source": [
    "## 2. 연산자"
   ]
  },
  {
   "cell_type": "markdown",
   "id": "bfb1e1b8-f75a-44fd-b4b9-7338184e6de3",
   "metadata": {},
   "source": [
    "### 2-1. 산술 연산자"
   ]
  },
  {
   "cell_type": "code",
   "execution_count": 92,
   "id": "335ea51b-c1b9-4b47-bc3b-0558c275f7d6",
   "metadata": {},
   "outputs": [],
   "source": [
    "a = 2\n",
    "b = 5"
   ]
  },
  {
   "cell_type": "code",
   "execution_count": 83,
   "id": "3e7816ed-2cde-4f0e-b2a3-9525b8883b94",
   "metadata": {},
   "outputs": [
    {
     "name": "stdout",
     "output_type": "stream",
     "text": [
      "7\n",
      "-3\n",
      "10\n",
      "0.4\n"
     ]
    }
   ],
   "source": [
    "print(a + b)\n",
    "print(a - b)\n",
    "print(a * b)\n",
    "print(a / b)"
   ]
  },
  {
   "cell_type": "code",
   "execution_count": 96,
   "id": "c2847ccc-12c4-479c-bf99-fc6fc1782097",
   "metadata": {},
   "outputs": [
    {
     "name": "stdout",
     "output_type": "stream",
     "text": [
      "32\n",
      "0\n",
      "2\n"
     ]
    }
   ],
   "source": [
    "print(a ** b) #제곱\n",
    "print(a // b) #몫\n",
    "print(a % b) #나머지"
   ]
  },
  {
   "cell_type": "code",
   "execution_count": 97,
   "id": "e0d2bfe6-94a0-4976-8aba-56c2dc5e492c",
   "metadata": {},
   "outputs": [
    {
     "name": "stdout",
     "output_type": "stream",
     "text": [
      "(0, 2)\n"
     ]
    }
   ],
   "source": [
    "result = divmod(a, b) #divmod(): 나눗셈 도구 >> a를 b로 나눈 뒤, 몫 and 나머지 세트 도출하는 함수\n",
    "print(result)"
   ]
  },
  {
   "cell_type": "markdown",
   "id": "8fd5e440-f37c-4194-8ce3-0db28d63e0e9",
   "metadata": {},
   "source": [
    "### 2-2. 비교 연산자"
   ]
  },
  {
   "cell_type": "code",
   "execution_count": 102,
   "id": "c90ed7be-9f8d-48f3-9dc2-d0da785c3f06",
   "metadata": {},
   "outputs": [
    {
     "name": "stdout",
     "output_type": "stream",
     "text": [
      "False\n",
      "True\n",
      "False\n",
      "True\n",
      "False\n"
     ]
    }
   ],
   "source": [
    "a = 5\n",
    "b = 10\n",
    "#a > b가 맞는지 확인하는 연산자 >> T or F 값 도출\n",
    "print(a > b)\n",
    "print(a < b)\n",
    "print(a >= b)\n",
    "print(a <= b)"
   ]
  },
  {
   "cell_type": "code",
   "execution_count": 103,
   "id": "f48b74f8-ff08-4e04-8068-235754cd12f2",
   "metadata": {},
   "outputs": [
    {
     "name": "stdout",
     "output_type": "stream",
     "text": [
      "False\n",
      "True\n"
     ]
    }
   ],
   "source": [
    "# a=b인지 확인하는 연산자\n",
    "print(a == b) \n",
    "\n",
    "#a와 b가 다른지 확인하는 연산자\n",
    "print(a != b)"
   ]
  },
  {
   "cell_type": "code",
   "execution_count": 104,
   "id": "f25ee891-4b35-423f-9ac0-bf85cb5a88ba",
   "metadata": {},
   "outputs": [
    {
     "name": "stdout",
     "output_type": "stream",
     "text": [
      "True\n",
      "False\n"
     ]
    }
   ],
   "source": [
    "#문자열에도 비교연산자 활용 가능\n",
    "print('hi' == 'hi')\n",
    "print('hi' == 'Hi')"
   ]
  },
  {
   "cell_type": "markdown",
   "id": "62e5c550-dc63-4c97-a276-6e26d7993b4b",
   "metadata": {},
   "source": [
    "### 2-3. 논리연산자\n",
    "- **and**: 양쪽 모두 `True`일 때, `True` 반환\n",
    "- **or**: 둘 중 하나라도 `True` 있을 때, `True` 반환 >> 반대로 양쪽 모두 `False`일 때, `False` 반환\n",
    "- **not**: 상태를 부정하는 역할함"
   ]
  },
  {
   "cell_type": "code",
   "execution_count": 117,
   "id": "5c426e81-7dff-416d-9c1b-14241270a1ff",
   "metadata": {},
   "outputs": [
    {
     "name": "stdout",
     "output_type": "stream",
     "text": [
      "True\n",
      "False\n",
      "False\n",
      "False\n"
     ]
    }
   ],
   "source": [
    "print(True and True) #둘다 T여서 T반환\n",
    "print(True and False)\n",
    "print(False and True)\n",
    "print(False and False) #둘다 F여서 F반환"
   ]
  },
  {
   "cell_type": "code",
   "execution_count": 119,
   "id": "330a32d4-4a5a-41d7-9ef3-e82073fcc6d2",
   "metadata": {},
   "outputs": [
    {
     "name": "stdout",
     "output_type": "stream",
     "text": [
      "True\n",
      "True\n",
      "True\n",
      "False\n"
     ]
    }
   ],
   "source": [
    "print(True or True)\n",
    "print(True or False)\n",
    "print(False or True)\n",
    "print(False or False)"
   ]
  },
  {
   "cell_type": "code",
   "execution_count": 121,
   "id": "7dca32bc-f192-40b9-a8f4-86faef584214",
   "metadata": {},
   "outputs": [
    {
     "name": "stdout",
     "output_type": "stream",
     "text": [
      "False\n"
     ]
    }
   ],
   "source": [
    "a = True\n",
    "print(not a)"
   ]
  },
  {
   "cell_type": "code",
   "execution_count": 129,
   "id": "d2e49faf-357d-4a3b-8a24-3492ec7c7097",
   "metadata": {},
   "outputs": [
    {
     "name": "stdout",
     "output_type": "stream",
     "text": [
      "5\n",
      "0\n",
      "0\n",
      "0\n"
     ]
    }
   ],
   "source": [
    "#단축평가: and\n",
    "print(3 and 5)\n",
    "print(3 and 0)\n",
    "print(0 and 5)\n",
    "print(0 and 0)"
   ]
  },
  {
   "cell_type": "code",
   "execution_count": 130,
   "id": "52e04562-3e56-4179-be44-daefca837d4b",
   "metadata": {},
   "outputs": [
    {
     "name": "stdout",
     "output_type": "stream",
     "text": [
      "3\n",
      "3\n",
      "5\n",
      "0\n"
     ]
    }
   ],
   "source": [
    "#단축평가: or\n",
    "print(3 or 5)\n",
    "print(3 or 0)\n",
    "print(0 or 5)\n",
    "print(0 or 0)"
   ]
  },
  {
   "cell_type": "markdown",
   "id": "12de5971-7704-4fac-9763-b530e0e88c96",
   "metadata": {},
   "source": [
    "## 2-4. 복합연산자"
   ]
  },
  {
   "cell_type": "code",
   "execution_count": 144,
   "id": "98fdeb55-9aca-4cad-b3f2-0a462a23a5ab",
   "metadata": {},
   "outputs": [],
   "source": [
    "a = 2\n",
    "b = 3"
   ]
  },
  {
   "cell_type": "code",
   "execution_count": 143,
   "id": "c679030a-e6bf-4325-ac34-7ad8f9d39f71",
   "metadata": {},
   "outputs": [
    {
     "name": "stdout",
     "output_type": "stream",
     "text": [
      "5\n"
     ]
    }
   ],
   "source": [
    "a = a + b #등호: a+b 값을 변수a에 저장한단 의미\n",
    "print(a)"
   ]
  },
  {
   "cell_type": "code",
   "execution_count": 148,
   "id": "13ab7593-8dcf-4fca-b093-d30cacbe2ebb",
   "metadata": {},
   "outputs": [
    {
     "data": {
      "text/plain": [
       "18.0"
      ]
     },
     "execution_count": 148,
     "metadata": {},
     "output_type": "execute_result"
    }
   ],
   "source": [
    "a += b\n",
    "a -= b\n",
    "a *= b\n",
    "a /+ b"
   ]
  },
  {
   "cell_type": "markdown",
   "id": "69b4f609-25cb-4a6e-ac4f-9029d0c588bc",
   "metadata": {},
   "source": [
    "## 2-5. 기타연산자"
   ]
  },
  {
   "cell_type": "code",
   "execution_count": 151,
   "id": "8b41173d-8ab4-4fb8-b183-aa4dffc426ca",
   "metadata": {},
   "outputs": [
    {
     "name": "stdout",
     "output_type": "stream",
     "text": [
      "hihello\n"
     ]
    }
   ],
   "source": [
    "#문자열에서 +: 연결(concatenation) >> 숫자의 경우 산술연산자\n",
    "a = 'hi'\n",
    "b = 'hello'\n",
    "print(a + b)\n",
    "#처음에 나온 게 문자/숫자인지 따라 연산자 역할 달라짐 >> `1 + b` 일 경우, 먼저 나온 게 숫자이므로 산술연산자로 쓰이므로 >> 오류 나게 됨"
   ]
  },
  {
   "cell_type": "code",
   "execution_count": 154,
   "id": "480fb9c0-d09b-47e3-8eb6-ea63dbae7f4d",
   "metadata": {},
   "outputs": [
    {
     "name": "stdout",
     "output_type": "stream",
     "text": [
      "[1, 2, 3, 2, 3, 4]\n",
      "True\n"
     ]
    }
   ],
   "source": [
    "#list일 경우: 동일히 연결하는 기타연산자로 쓰임\n",
    "a = [1, 2, 3]\n",
    "b = [2, 3, 4]\n",
    "print(a + b)\n",
    "print(1 in a) #in: 숫자 1이 list a 내에 포함돼 있는지"
   ]
  },
  {
   "cell_type": "code",
   "execution_count": 157,
   "id": "7b69410d-ef76-4196-ad67-a9f7b009ef46",
   "metadata": {},
   "outputs": [
    {
     "name": "stdout",
     "output_type": "stream",
     "text": [
      "True\n",
      "False\n"
     ]
    }
   ],
   "source": [
    "a = 500\n",
    "b = 500\n",
    "print(a == b) #a와 b의 값이 동일한지 묻는 연산자\n",
    "print(a is b) #a가 b와 동일한 객체인지 묻는 연산자\n",
    "#둘다 비교하는 건 같지만, 구체적인 역할이 다름"
   ]
  },
  {
   "cell_type": "markdown",
   "id": "f70a4cee-2f31-4512-ae9c-8d04c931e498",
   "metadata": {},
   "source": [
    "- 컴퓨터의 RAM: 높을수록 멀티태스킹 잘 됨 >> RAM 큰 것 = 부엌의 조리대가 큰 것과 비슷\n",
    "- `is`: 데이터 값 자체는 같을지라도, 메모리 상 객체 저장되는 위치 다르면 두 값이 같지 않다고 인식 >> 그래서 False 도출하는 것\n",
    "    - 256까지는 자주 쓰는 값으로 인식 >> 그래서 객체 다르더라도, 여기까지 값은 위치 동일하게 저장토록 미리 지정 >> 256까지는 `is` 하면 `True` 값 나옴"
   ]
  },
  {
   "cell_type": "markdown",
   "id": "0289a757-c7d2-49a1-91a3-ad18fea44e03",
   "metadata": {},
   "source": [
    "### 연산자 우선순위\n",
    "0. ()로 그룹화된 경우\n",
    "1. **(제곱)\n",
    "2. 산술연산자(*, /)\n",
    "3. 산술연산자(+, -)\n",
    "4. 비교연산자, in, is\n",
    "5. not\n",
    "6. and\n",
    "7. or"
   ]
  },
  {
   "cell_type": "markdown",
   "id": "87afcca7-5992-48c4-b740-5edfee31a808",
   "metadata": {},
   "source": [
    "## 3. 형변환"
   ]
  },
  {
   "cell_type": "markdown",
   "id": "eb882fa2-cfae-4e51-a0fe-7c9e3cec2d73",
   "metadata": {},
   "source": [
    "## 3.1 암시적 형변환\n",
    "- 파이썬이 자동으로 형변환해주는 것 의미"
   ]
  },
  {
   "cell_type": "code",
   "execution_count": 164,
   "id": "77f14b1b-bdbf-4680-a387-6a809c3217a6",
   "metadata": {},
   "outputs": [
    {
     "name": "stdout",
     "output_type": "stream",
     "text": [
      "1\n",
      "2\n",
      "hello\n"
     ]
    }
   ],
   "source": [
    "a = True\n",
    "b = False\n",
    "c= 1\n",
    "\n",
    "print(a + b) # T=1(전기 흐름), F=0(전기 안 흐름) >> 이렇게 자동으로 인식해 계산한 것\n",
    "print(a + c)\n",
    "\n",
    "if 1:\n",
    "    print('hello') # 1=True로 자동으로 파이썬이 인식해서 값 도출한 것"
   ]
  },
  {
   "cell_type": "markdown",
   "id": "faf87cdc-1606-4066-9f1d-51016a564831",
   "metadata": {},
   "source": [
    "## 3.2 명시적 형변환\n",
    "- int(): 괄호 안 숫자를 정수로 변환\n",
    "- float(): 실수로 변환\n",
    "- str(): 숫자로 변환\n",
    "- bool(): 분리형으로 변환"
   ]
  },
  {
   "cell_type": "code",
   "execution_count": 178,
   "id": "2bee3e39-bb34-4c99-8188-c9b64e5dff9a",
   "metadata": {},
   "outputs": [
    {
     "name": "stdout",
     "output_type": "stream",
     "text": [
      "<class 'str'>\n",
      "3\n"
     ]
    }
   ],
   "source": [
    "# 1. int()\n",
    "a = '3'\n",
    "print(type(a)) #a의 값이 문자형 3이기 때문\n",
    "print(int(a)) #문자형인 a를 숫자형으로 바꿔서 출력 >> 숫자형으로 바꿀 수 있는 문자형만 int() 가능"
   ]
  },
  {
   "cell_type": "code",
   "execution_count": 179,
   "id": "68b860b0-097d-4ae9-bcdd-47d4a9445ee3",
   "metadata": {},
   "outputs": [
    {
     "name": "stdout",
     "output_type": "stream",
     "text": [
      "1반\n"
     ]
    }
   ],
   "source": [
    "# 2. str()\n",
    "a = 1\n",
    "b = '반'\n",
    "\n",
    "#원데이터는 유지한 채, 사용할 때만 데이터 형태 바꾸기\n",
    "print(str(a) + b) #숫자형인 a를 문자형으로 데이터 형태 바꾼 뒤 계산"
   ]
  },
  {
   "cell_type": "code",
   "execution_count": 180,
   "id": "2e1710b2-5349-47dc-812c-09d767680f94",
   "metadata": {},
   "outputs": [
    {
     "name": "stdout",
     "output_type": "stream",
     "text": [
      "True\n",
      "False\n",
      "True\n"
     ]
    }
   ],
   "source": [
    "# 3. bool()\n",
    "a = 1\n",
    "b = 0\n",
    "c = 123\n",
    "print(bool(a))\n",
    "print(bool(b))\n",
    "print(bool(c))\n",
    "\n",
    "# 0만 F, 이외 음수 포함 모든 수는 T"
   ]
  },
  {
   "cell_type": "code",
   "execution_count": 188,
   "id": "2280d56b-6cb1-44e8-8830-f9767e6b27ce",
   "metadata": {},
   "outputs": [
    {
     "name": "stdout",
     "output_type": "stream",
     "text": [
      "False\n",
      "True\n"
     ]
    }
   ],
   "source": [
    "# 리스트의 경우: 리스트는 데이터의 집합체 >> 리스트 내 데이터 1개라도 있으면 T, 없으면 F로 인식\n",
    "print(bool([ ]))\n",
    "print(bool([1, 2, 3]))"
   ]
  },
  {
   "cell_type": "markdown",
   "id": "f8c8ad68-647f-4554-ab82-73f369a40ef5",
   "metadata": {},
   "source": [
    "## 4. 시퀀스 자료형"
   ]
  },
  {
   "cell_type": "code",
   "execution_count": 7,
   "id": "1c48a1af-bbba-4745-a61d-7957e382355f",
   "metadata": {},
   "outputs": [
    {
     "name": "stdout",
     "output_type": "stream",
     "text": [
      "[]\n",
      "<class 'list'>\n"
     ]
    }
   ],
   "source": [
    "l = []\n",
    "print(l)\n",
    "print(type(l))"
   ]
  },
  {
   "cell_type": "code",
   "execution_count": 15,
   "id": "b9615e23-0802-45c2-9bb8-7e6239a485f0",
   "metadata": {},
   "outputs": [
    {
     "name": "stdout",
     "output_type": "stream",
     "text": [
      "['seoul', 'busan', 'incheon']\n",
      "seoul\n",
      "['seoul', 'deogu', 'incheon']\n"
     ]
    }
   ],
   "source": [
    "location = ['seoul', 'busan', 'incheon']\n",
    "print(location) # list 내 모든 데이터 출력\n",
    "print(location[0]) #파이썬은 0부터 시작하므로, 첫 번째 데이터만 출력\n",
    "\n",
    "location[1] = 'deogu' # 다른 데이터로 교체\n",
    "print(location)"
   ]
  },
  {
   "cell_type": "code",
   "execution_count": null,
   "id": "3015666b-6def-4f2e-bb94-daeb971d7830",
   "metadata": {},
   "outputs": [],
   "source": [
    "## 4.2 tuple(튜플)"
   ]
  },
  {
   "cell_type": "code",
   "execution_count": 17,
   "id": "dab21a29-3ce1-4ac9-a8bd-bc443ebf647b",
   "metadata": {},
   "outputs": [
    {
     "name": "stdout",
     "output_type": "stream",
     "text": [
      "('seoul', 'busan', 'incheon')\n",
      "seoul\n"
     ]
    }
   ],
   "source": [
    "location = ('seoul', 'busan', 'incheon')\n",
    "print(location)\n",
    "print(location[0])"
   ]
  },
  {
   "cell_type": "code",
   "execution_count": 18,
   "id": "9123b0fe-ede4-4543-bb38-5e82dd7f5e91",
   "metadata": {},
   "outputs": [
    {
     "ename": "TypeError",
     "evalue": "'tuple' object does not support item assignment",
     "output_type": "error",
     "traceback": [
      "\u001b[1;31m---------------------------------------------------------------------------\u001b[0m",
      "\u001b[1;31mTypeError\u001b[0m                                 Traceback (most recent call last)",
      "Cell \u001b[1;32mIn[18], line 1\u001b[0m\n\u001b[1;32m----> 1\u001b[0m \u001b[43mlocation\u001b[49m\u001b[43m[\u001b[49m\u001b[38;5;241;43m2\u001b[39;49m\u001b[43m]\u001b[49m \u001b[38;5;241m=\u001b[39m \u001b[38;5;124m'\u001b[39m\u001b[38;5;124m부산\u001b[39m\u001b[38;5;124m'\u001b[39m\n\u001b[0;32m      2\u001b[0m \u001b[38;5;28mprint\u001b[39m(location[\u001b[38;5;241m0\u001b[39m])\n",
      "\u001b[1;31mTypeError\u001b[0m: 'tuple' object does not support item assignment"
     ]
    }
   ],
   "source": [
    "location[2] = '부산'\n",
    "print(location[0])"
   ]
  },
  {
   "cell_type": "markdown",
   "id": "35d7c288-17e1-493d-bc51-0495cdff73f9",
   "metadata": {},
   "source": [
    "## 4.3 range"
   ]
  },
  {
   "cell_type": "code",
   "execution_count": 22,
   "id": "bdce557b-3830-4217-9448-581c1a747f84",
   "metadata": {},
   "outputs": [
    {
     "name": "stdout",
     "output_type": "stream",
     "text": [
      "range(0, 45)\n",
      "[0, 1, 2, 3, 4, 5, 6, 7, 8, 9, 10, 11, 12, 13, 14, 15, 16, 17, 18, 19, 20, 21, 22, 23, 24, 25, 26, 27, 28, 29, 30, 31, 32, 33, 34, 35, 36, 37, 38, 39, 40, 41, 42, 43, 44]\n",
      "range(1, 46)\n",
      "[1, 2, 3, 4, 5, 6, 7, 8, 9, 10, 11, 12, 13, 14, 15, 16, 17, 18, 19, 20, 21, 22, 23, 24, 25, 26, 27, 28, 29, 30, 31, 32, 33, 34, 35, 36, 37, 38, 39, 40, 41, 42, 43, 44, 45]\n"
     ]
    }
   ],
   "source": [
    "lotto = range(45)\n",
    "print(lotto)\n",
    "\n",
    "print(list(lotto)) # lotto 속에 어떤 데이터 있는지 모두 보여줌 >> 0부터 44까지 있음\n",
    "\n",
    "# 1부터 45까지의 숫자를 저장하고 싶다면?\n",
    "lotto = range(1, 46)\n",
    "print(lotto)\n",
    "print(list(lotto))"
   ]
  },
  {
   "cell_type": "code",
   "execution_count": 28,
   "id": "62c1907a-5233-418e-ba09-3eea22e3e831",
   "metadata": {},
   "outputs": [
    {
     "name": "stdout",
     "output_type": "stream",
     "text": [
      "[2, 4, 6, 8, 10, 12, 14, 16, 18]\n",
      "[0, -2, -4, -6, -8, -10, -12, -14, -16, -18]\n"
     ]
    }
   ],
   "source": [
    "even = range(2, 20, 2) # 2~19 숫자 중 2씩 증가한 범위만 포함 >> 그래서 2~18까지 짝수만 출력됨\n",
    "print(list(even))\n",
    "\n",
    "numbers = range(0, -20, -2) # -19~0 숫자 중 -2씩 감소한 범위만 포함 >> -18~0까지 짝수만 출력\n",
    "print(list(numbers))"
   ]
  },
  {
   "cell_type": "markdown",
   "id": "1c887999-ef10-47e8-80b8-d617d1e1a19c",
   "metadata": {},
   "source": [
    "## 4.4 string: 기본 데이터 구조 내용 참고"
   ]
  },
  {
   "cell_type": "markdown",
   "id": "38f27f8e-fe63-4be1-8d20-fbd32c685304",
   "metadata": {},
   "source": [
    "## 4.5 시퀀스에서 활용 가능한 연산/함수"
   ]
  },
  {
   "cell_type": "code",
   "execution_count": 35,
   "id": "6d276fb3-3dab-49d7-b492-86de15d9e09a",
   "metadata": {},
   "outputs": [],
   "source": [
    "my_list = ['a', 'b', 'c', 'd', 'e']\n",
    "my_tuple = (6, 7, 8, 9, 10)\n",
    "my_range = range(5)\n",
    "my_string = '가나다라마'"
   ]
  },
  {
   "cell_type": "code",
   "execution_count": 33,
   "id": "8cc1faf7-4177-4761-b374-44ec4375e4e4",
   "metadata": {},
   "outputs": [
    {
     "name": "stdout",
     "output_type": "stream",
     "text": [
      "a\n",
      "6\n",
      "0\n",
      "가\n"
     ]
    }
   ],
   "source": [
    "# indexing: 단일 데이터에 접근하는 방법\n",
    "print(my_list[0])\n",
    "print(my_tuple[0])\n",
    "print(my_range[0])\n",
    "print(my_string[0])"
   ]
  },
  {
   "cell_type": "code",
   "execution_count": 37,
   "id": "6c483825-aeee-4b1d-9d13-1572e03e81b0",
   "metadata": {},
   "outputs": [
    {
     "name": "stdout",
     "output_type": "stream",
     "text": [
      "['a', 'b']\n",
      "(6, 7)\n",
      "range(0, 2)\n",
      "가나\n"
     ]
    }
   ],
   "source": [
    "#slicing: 일정 범위 데이터에 접근하는 방법\n",
    "#var_name[index1:index2]\n",
    "print(my_list[0:2]) #0번째부터 1번째까지의 데이터 출력됨\n",
    "print(my_tuple[0:2])\n",
    "print(my_range[0:2])\n",
    "print(my_string[0:2])"
   ]
  },
  {
   "cell_type": "code",
   "execution_count": 43,
   "id": "d0fe9866-e123-4196-a023-9e89981e5909",
   "metadata": {},
   "outputs": [
    {
     "name": "stdout",
     "output_type": "stream",
     "text": [
      "['d', 'e']\n",
      "['a', 'b', 'c']\n"
     ]
    }
   ],
   "source": [
    "#index 생략\n",
    "print(my_list[3:]) # 뒤에 비워놓으면 자동으로 끝까지 출력함\n",
    "print(my_list[:3]) # 맨 앞부터 특정 범위까지 자르는 것"
   ]
  },
  {
   "cell_type": "code",
   "execution_count": 45,
   "id": "76693268-2bab-4cc1-9c6d-b0a6a15fc1fc",
   "metadata": {},
   "outputs": [
    {
     "name": "stdout",
     "output_type": "stream",
     "text": [
      "e\n",
      "['c', 'd']\n"
     ]
    }
   ],
   "source": [
    "# 음수 인텍스: 뒤에서부터 숫자를 세는 방식\n",
    "print(my_list[-1]) # 뒤에서 첫 번째 데이터 출력\n",
    "print(my_list[-3:-1]) # 뒤에서 1번째부터 2번째까지 출력\n",
    "#음수 인덱스로 할 때 -1은 맨 뒤의 데이터 의미, 0으로 시작하는 게 아님"
   ]
  },
  {
   "cell_type": "code",
   "execution_count": 47,
   "id": "186ebc2a-f0d1-4665-88ea-548283e923ca",
   "metadata": {},
   "outputs": [
    {
     "name": "stdout",
     "output_type": "stream",
     "text": [
      "['a', 'c', 'e']\n"
     ]
    }
   ],
   "source": [
    "# step: 특정 간격만큼만 출력할 때\n",
    "print(my_list[::2]) # 맨 앞부터 2칸씩 증가한 범위만 출력"
   ]
  },
  {
   "cell_type": "code",
   "execution_count": 50,
   "id": "10efa550-6aa4-4403-a357-b9ea637b33f0",
   "metadata": {},
   "outputs": [
    {
     "name": "stdout",
     "output_type": "stream",
     "text": [
      "False\n",
      "True\n"
     ]
    }
   ],
   "source": [
    "# in: 모두 동일한 시퀸스에서 가능함\n",
    "print(1 in my_list) # my_list에 1이라는 숫자 들어있는지 묻는 것\n",
    "\n",
    "# no in\n",
    "print(1 not in my_list) # 1이라는 숫자가 my_list에 없는지 묻는 것"
   ]
  },
  {
   "cell_type": "code",
   "execution_count": 52,
   "id": "10dae716-2338-40d6-be7d-a8a8ddbc6813",
   "metadata": {},
   "outputs": [
    {
     "name": "stdout",
     "output_type": "stream",
     "text": [
      "['a', 'b', 'c', 'd', 'e', 1, 2, 3, 4, 5]\n"
     ]
    }
   ],
   "source": [
    "# comcatennation(연결): 시퀸스형 자료는 전부 연결 가능함 >> 동일한 자료끼리만 연결 가능 >> 리스트+리스트, 튜플+튜플 등\n",
    "print(my_list + [1, 2, 3, 4, 5]) # 리스트 2개 연결한 것"
   ]
  },
  {
   "cell_type": "code",
   "execution_count": 58,
   "id": "f07ce984-4c5d-4660-8322-f1f9d57b1b49",
   "metadata": {},
   "outputs": [
    {
     "name": "stdout",
     "output_type": "stream",
     "text": [
      "['a', 'b', 'c', 'd', 'e', 'a', 'b', 'c', 'd', 'e']\n",
      "가가가가가\n",
      "[0, 0, 0, 0, 0, 0, 0, 0, 0, 0]\n"
     ]
    }
   ],
   "source": [
    "# 곱셈(*)\n",
    "print(my_list * 2) # 곱셈 사칙연산이 아닌, 2번 반복해달란 것 >> 곱셈이 아닌, 연결을 몇 번 할 것인지인 것\n",
    "print('가' * 5)\n",
    "print([0] * 10) # 0 들어있는 리스트를 10번 연결하는 것 >> 그러면 0 10개 들어 있는 리스트 만들어짐\n"
   ]
  },
  {
   "cell_type": "code",
   "execution_count": 63,
   "id": "ea728bb8-007c-4e8d-9ace-c4b612ae198b",
   "metadata": {},
   "outputs": [
    {
     "data": {
      "text/plain": [
       "'a'"
      ]
     },
     "execution_count": 63,
     "metadata": {},
     "output_type": "execute_result"
    }
   ],
   "source": [
    "len(my_list) # 길이 출력해줌\n",
    "max(my_list) # 가장 큰 수를 도출함 >> 문자도 가장 뒷 순서의 문자를 큰 수로 인식해 도출\n",
    "min(my_list) # 가장 작은 값 출력"
   ]
  },
  {
   "cell_type": "markdown",
   "id": "33fab59c-8fed-4d1a-9d2d-79fdbc657528",
   "metadata": {},
   "source": [
    "## 5. 시퀀스 이외 자료구조"
   ]
  },
  {
   "cell_type": "code",
   "execution_count": 65,
   "id": "9e15306e-da3b-4b4d-a59a-094eac47c861",
   "metadata": {},
   "outputs": [
    {
     "name": "stdout",
     "output_type": "stream",
     "text": [
      "{1, 2, 3, 4, 5}\n",
      "{1, 3, 5, 7, 9}\n"
     ]
    }
   ],
   "source": [
    "my_set_a = {1, 2, 3, 4, 5}\n",
    "my_set_b = {1, 3, 5, 7, 9}\n",
    "\n",
    "print(my_set_a)\n",
    "print(my_set_b)"
   ]
  },
  {
   "cell_type": "code",
   "execution_count": 68,
   "id": "c28d8c6a-5bbc-4ff9-bffe-ba80f227a843",
   "metadata": {},
   "outputs": [
    {
     "name": "stdout",
     "output_type": "stream",
     "text": [
      "{2, 4}\n",
      "{1, 2, 3, 4, 5, 7, 9}\n",
      "{1, 3, 5}\n"
     ]
    }
   ],
   "source": [
    "print(my_set_a - my_set_b) #차집합\n",
    "print(my_set_a | my_set_b) #합집합\n",
    "print(my_set_a & my_set_b) #교집합"
   ]
  },
  {
   "cell_type": "code",
   "execution_count": 69,
   "id": "3bdafd9c-389c-4ce5-aae7-992202cd9b1a",
   "metadata": {},
   "outputs": [
    {
     "name": "stdout",
     "output_type": "stream",
     "text": [
      "{'대구', '부산', '서울'}\n"
     ]
    }
   ],
   "source": [
    "location = ['서울', '대구', '대구', '부산', '서울', '대구', '부산']\n",
    "print(set(location))"
   ]
  },
  {
   "cell_type": "markdown",
   "id": "3672abab-07c0-49e1-985d-6c7b67a03e41",
   "metadata": {},
   "source": [
    "## 5.2 사전"
   ]
  },
  {
   "cell_type": "code",
   "execution_count": 70,
   "id": "fb61380f-6e8a-4917-8a46-d8efd56f34d3",
   "metadata": {},
   "outputs": [
    {
     "name": "stdout",
     "output_type": "stream",
     "text": [
      "02\n"
     ]
    }
   ],
   "source": [
    "my_dict = {'서울': '02', '경기': '031'} # 키를 기준으로만 접근 가능 >> 사전도 의미 기준으로 단어 찾으려면 찾기 힘들듯\n",
    "print(my_dict['서울'])"
   ]
  },
  {
   "cell_type": "code",
   "execution_count": 81,
   "id": "092a04c8-23a4-4c5b-b404-25ec8c789cc4",
   "metadata": {},
   "outputs": [
    {
     "name": "stdout",
     "output_type": "stream",
     "text": [
      "sori\n",
      "git\n"
     ]
    }
   ],
   "source": [
    "my_info = {\n",
    "    'name': 'sori',\n",
    "    'location': 'seoul',\n",
    "    'age': 25,\n",
    "    'skill': ['python', 'git']}\n",
    "# 리스트는 동일한 자료형을 입력하는 것을 가정, dirctionary는 서로 다른 자료형 입력 가능, 사전 안에 사전 넣을 수도 있음\n",
    "print(my_info['name']) # dict의 name이라는 키의 value만 출력\n",
    "print(my_info['skill'][1]) # dict 내에 list 포함돼 있을 때, list의 특정 범위만 도출하는 방법"
   ]
  },
  {
   "cell_type": "code",
   "execution_count": 82,
   "id": "44ff21f8-f0ec-433c-90a2-1d9094246fb6",
   "metadata": {},
   "outputs": [],
   "source": [
    "blood = "
   ]
  }
 ],
 "metadata": {
  "kernelspec": {
   "display_name": "Python 3 (ipykernel)",
   "language": "python",
   "name": "python3"
  },
  "language_info": {
   "codemirror_mode": {
    "name": "ipython",
    "version": 3
   },
   "file_extension": ".py",
   "mimetype": "text/x-python",
   "name": "python",
   "nbconvert_exporter": "python",
   "pygments_lexer": "ipython3",
   "version": "3.13.2"
  }
 },
 "nbformat": 4,
 "nbformat_minor": 5
}
