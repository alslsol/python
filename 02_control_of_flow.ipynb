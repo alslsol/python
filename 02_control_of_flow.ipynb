{
 "cells": [
  {
   "cell_type": "markdown",
   "id": "747eea4e-3c2e-4a4d-886c-8bc4cb69f9e4",
   "metadata": {},
   "source": [
    "# 기타 제어 흐름 도구"
   ]
  },
  {
   "cell_type": "markdown",
   "id": "24056339-0253-422e-9f8f-b7f6fd0d40b4",
   "metadata": {},
   "source": [
    "조건문"
   ]
  },
  {
   "cell_type": "code",
   "execution_count": 10,
   "id": "354850f7-e907-4125-b576-ab00b7e34b27",
   "metadata": {},
   "outputs": [
    {
     "name": "stdin",
     "output_type": "stream",
     "text": [
      " 1/1\n"
     ]
    },
    {
     "name": "stdout",
     "output_type": "stream",
     "text": [
      "1/1\n",
      "NO\n"
     ]
    }
   ],
   "source": [
    "my_string = input() # input(): 실행한 뒤 나온 값을 my_string 변수에 저장하는 것 >> run하면 하단에 창 뜸 / input은 사용자가 직접 박스에 입력할 수 있게 하는 역할\n",
    "print(my_string) # 출력하면, 내가 입력한 것이 출력되도록 됨\n",
    "\n",
    "if my_string == '12/25':\n",
    "    print('merry christmas!')\n",
    "else:\n",
    "    print('NO')\n",
    "# my_string 값이 '12/25'이 맞는지 묻는 것\n",
    "# 창에 12/25일 입력하면, 조건문 참이기에 '메리 크리스마스' 문구 출력됨"
   ]
  },
  {
   "cell_type": "code",
   "execution_count": 15,
   "id": "6e3c5a38-8ee0-4f05-8833-a86c34eda07a",
   "metadata": {},
   "outputs": [
    {
     "name": "stdin",
     "output_type": "stream",
     "text": [
      "숫자를 입력해 주세요 0\n"
     ]
    },
    {
     "name": "stdout",
     "output_type": "stream",
     "text": [
      "짝수\n"
     ]
    }
   ],
   "source": [
    "num = input('숫자를 입력해 주세요') # 키보드로 입력 받는 건 숫자일수도, 문자일수도 있음 >> 그러므로 일단 입력받는 것 모두 문자형으로 인식함\n",
    "if int(num) % 2 == 1: # 그래서 입력받는 num을 숫자형으로 지정하기 위해 >> int(num)으로 표기한 것 / num을 2로 나눈 나머지가 1인지 묻는 조건식\n",
    "    print('홀수')\n",
    "else:\n",
    "    print('짝수')"
   ]
  },
  {
   "cell_type": "code",
   "execution_count": 16,
   "id": "ca8d2612-45d5-45c1-8c1b-675e0a3be462",
   "metadata": {},
   "outputs": [
    {
     "name": "stdin",
     "output_type": "stream",
     "text": [
      " 33\n"
     ]
    },
    {
     "name": "stdout",
     "output_type": "stream",
     "text": [
      "홀수\n"
     ]
    }
   ],
   "source": [
    "num = int(input()) #input함수 실행된 다음 >> 받은 값을 int(숫자)로 변환해서 >> 그 결과를 num 변수에 저장한단 것\n",
    "\n",
    "if num % 2 == 1:\n",
    "    print('홀수')\n",
    "else:\n",
    "    print('짝수')"
   ]
  },
  {
   "cell_type": "code",
   "execution_count": null,
   "id": "e9035b42-f7fd-46e3-9424-c2220b1159da",
   "metadata": {},
   "outputs": [],
   "source": [
    "num = int(input())\n",
    "\n",
    "if num % 2:\n",
    "    print('홀수')\n",
    "else:\n",
    "    print('짝수')\n",
    "#num을 2로 나누면 0 or 1이 나옴 >> 파이썬은 자동으로 0은 F, 1은 T로 인식 >> 그래서 위 코드 이런 식으로 간략화할 수 있음"
   ]
  },
  {
   "cell_type": "code",
   "execution_count": 18,
   "id": "03b47d61-32c7-4e62-a54a-cac096553ffe",
   "metadata": {},
   "outputs": [
    {
     "name": "stdin",
     "output_type": "stream",
     "text": [
      "5의 배수를 판단해드리겠습니다 122\n"
     ]
    },
    {
     "name": "stdout",
     "output_type": "stream",
     "text": [
      "no\n"
     ]
    }
   ],
   "source": [
    "num = int(input('5의 배수를 판단해드리겠습니다'))\n",
    "\n",
    "if num % 5 == 0:\n",
    "    print('yes')\n",
    "else:\n",
    "    print('no')"
   ]
  },
  {
   "cell_type": "code",
   "execution_count": 22,
   "id": "dd21eb80-e0b2-4ece-989a-68ac8a98f631",
   "metadata": {},
   "outputs": [
    {
     "name": "stdin",
     "output_type": "stream",
     "text": [
      " 30\n"
     ]
    },
    {
     "name": "stdout",
     "output_type": "stream",
     "text": [
      "yes\n"
     ]
    }
   ],
   "source": [
    "#코드 간략화\n",
    "num = int(input())\n",
    "\n",
    "if num % 5:\n",
    "    print('no') # 파이썬은 1을 T로 인식, 0은 F로 인식 >> T인 경우 나머지 존재하기에 5의 배수 아니여서 이렇게 작성\n",
    "else:\n",
    "    print('yes')"
   ]
  },
  {
   "cell_type": "code",
   "execution_count": 33,
   "id": "a3c59dfa-7d7d-4f49-b6af-cfa1097b3274",
   "metadata": {},
   "outputs": [
    {
     "name": "stdin",
     "output_type": "stream",
     "text": [
      " 88\n"
     ]
    },
    {
     "name": "stdout",
     "output_type": "stream",
     "text": [
      "B\n"
     ]
    }
   ],
   "source": [
    "score = int(input())\n",
    "if score >= 90:\n",
    "    print('A')\n",
    "    if score >= 95:\n",
    "        print('참 잘했어요') # 90점 이상 중, 95점 이상의 경우 출력하도록 하는 것 >> if문 내 if문 들여쓰기 통해 넣을 수 있음\n",
    "elif score >= 80:\n",
    "    print('B')\n",
    "elif score >= 70:\n",
    "    print('C')\n",
    "else:\n",
    "    print('F') # 70점 미만의 경우 모두 F 출력\n",
    "\n"
   ]
  },
  {
   "cell_type": "markdown",
   "id": "99104cd8-6911-454e-bfa9-1982004dec86",
   "metadata": {},
   "source": [
    "### 조건표현식"
   ]
  },
  {
   "cell_type": "code",
   "execution_count": 40,
   "id": "03627b61-eae9-4149-9548-3be7edcca4a8",
   "metadata": {},
   "outputs": [
    {
     "name": "stdout",
     "output_type": "stream",
     "text": [
      "True\n"
     ]
    }
   ],
   "source": [
    "#일반적인 조건문\n",
    "if True:\n",
    "    print('True')\n",
    "else:\n",
    "    print('False')\n",
    "\n",
    "#조건표현식처럼 표현한 조건문\n",
    "a = 0\n",
    "if True:\n",
    "    a = 100\n",
    "else:\n",
    "    a = -100\n",
    "\n",
    "#if 참거짓 결과에 따라 a값 달라지게 설정할 때 조건표현식 사용"
   ]
  },
  {
   "cell_type": "code",
   "execution_count": 39,
   "id": "b047d33c-ec65-4652-8250-26aea8415306",
   "metadata": {},
   "outputs": [
    {
     "name": "stdout",
     "output_type": "stream",
     "text": [
      "-100\n"
     ]
    }
   ],
   "source": [
    "#위 두번째 조건문을 조건표현식으로 쓴 것 >> 짧게 코드 압축하기 위해서 쓰는 방식임\n",
    "a = 100 if False else -100 #참거짓에 따라 값 달라지게 할 때 조건표현식 사용\n",
    "print(a)"
   ]
  },
  {
   "cell_type": "code",
   "execution_count": 43,
   "id": "3d9a4cf2-a355-4d4d-9654-4fb313420f60",
   "metadata": {},
   "outputs": [
    {
     "name": "stdin",
     "output_type": "stream",
     "text": [
      " 4\n"
     ]
    },
    {
     "name": "stdout",
     "output_type": "stream",
     "text": [
      "4\n"
     ]
    }
   ],
   "source": [
    "#음수면 0, 양수면 양수 그대로 출력하는 조건문 만든다면?\n",
    "\n",
    "num = int(input())\n",
    "\n",
    "if num >= 0:\n",
    "    result = num\n",
    "else:\n",
    "    result = 0\n",
    "print(result)"
   ]
  },
  {
   "cell_type": "code",
   "execution_count": 58,
   "id": "464741db-9e3c-4165-b68b-2ab756df93c4",
   "metadata": {},
   "outputs": [
    {
     "name": "stdin",
     "output_type": "stream",
     "text": [
      " 3\n"
     ]
    },
    {
     "name": "stdout",
     "output_type": "stream",
     "text": [
      "3\n"
     ]
    }
   ],
   "source": [
    "#위 코드 간략화\n",
    "num = int(input())\n",
    "result = num if num >= 0 else 0 # num이 0보다 큰지 묻는 조건문 >> 크다면, num 그대로, 작다면 0 나오도록 출력\n",
    "print(result)"
   ]
  },
  {
   "cell_type": "code",
   "execution_count": null,
   "id": "feb3ed2d-3d5a-4ff8-8790-f1a0fd1ec886",
   "metadata": {},
   "outputs": [],
   "source": [
    "num = 10\n",
    "result = '홀수' if num % 2 else '짝수'\n",
    "print(result)"
   ]
  },
  {
   "cell_type": "code",
   "execution_count": 63,
   "id": "5c219e42-dd37-4d19-930c-3f39a70ae20c",
   "metadata": {},
   "outputs": [
    {
     "name": "stdout",
     "output_type": "stream",
     "text": [
      "짝수\n"
     ]
    }
   ],
   "source": [
    "# 위 코드 간략화\n",
    "num = 10\n",
    "if num % 2 :\n",
    "    result = '홀수'\n",
    "else:\n",
    "    result = '짝수'\n",
    "print(result)"
   ]
  },
  {
   "cell_type": "markdown",
   "id": "ed442658-ce60-46df-857f-987987c6149e",
   "metadata": {},
   "source": [
    "### while문"
   ]
  },
  {
   "cell_type": "code",
   "execution_count": null,
   "id": "302c4402-b7c4-45d4-9687-1d3501bbd317",
   "metadata": {},
   "outputs": [],
   "source": [
    "a = 0\n",
    "\n",
    "while a < 5: #a가 0이면 참 >> 아래 코드 실행하게 됨\n",
    "    print(a)\n",
    "    a += 1 # 'a = a + 1'과 동일한 코드임\n",
    "\n",
    "# a<5 조건문 참이면 >> a 출력 >> 이후 a = a + 1 실행함 >> 이후 나온 a가 5보다 크게 되면 거짓 나옴 >> 그러면 해당 while문 종료"
   ]
  },
  {
   "cell_type": "markdown",
   "id": "ff0ada8b-1a49-447e-9302-bd4f447b4e6a",
   "metadata": {},
   "source": [
    "### for 문"
   ]
  },
  {
   "cell_type": "code",
   "execution_count": 65,
   "id": "43d7094c-82bd-44d6-bf31-47dfc65d7451",
   "metadata": {},
   "outputs": [
    {
     "name": "stdout",
     "output_type": "stream",
     "text": [
      "1\n",
      "2\n",
      "3\n",
      "4\n",
      "5\n"
     ]
    }
   ],
   "source": [
    "numbers = [1, 2, 3, 4, 5]\n",
    "\n",
    "for number in numbers:\n",
    "    print(number)"
   ]
  },
  {
   "cell_type": "code",
   "execution_count": 68,
   "id": "623dbb41-f33c-4e32-a94a-bf521e753e41",
   "metadata": {},
   "outputs": [
    {
     "name": "stdout",
     "output_type": "stream",
     "text": [
      "s\n",
      "o\n",
      "r\n",
      "i\n"
     ]
    }
   ],
   "source": [
    "word = 'sori'\n",
    "\n",
    "for char in word:\n",
    "    print(char)"
   ]
  },
  {
   "cell_type": "code",
   "execution_count": 69,
   "id": "370d8305-2914-4a54-bc1f-953d6a895e91",
   "metadata": {},
   "outputs": [
    {
     "name": "stdout",
     "output_type": "stream",
     "text": [
      "0\n",
      "1\n",
      "2\n",
      "3\n",
      "4\n"
     ]
    }
   ],
   "source": [
    "for i in range(5):\n",
    "    print(i)"
   ]
  },
  {
   "cell_type": "code",
   "execution_count": 72,
   "id": "eef944a4-6ee1-4b10-8d51-da3c8029fead",
   "metadata": {},
   "outputs": [
    {
     "name": "stdout",
     "output_type": "stream",
     "text": [
      "10\n",
      "15\n",
      "20\n"
     ]
    }
   ],
   "source": [
    "number = range(10, 21)\n",
    "\n",
    "for num in number:\n",
    "    if num % 5 == 0:\n",
    "        print(num)"
   ]
  },
  {
   "cell_type": "code",
   "execution_count": 74,
   "id": "6146e079-6044-455e-a12f-319ba168d69b",
   "metadata": {
    "scrolled": true
   },
   "outputs": [
    {
     "name": "stdout",
     "output_type": "stream",
     "text": [
      "0\n",
      "서울\n",
      "1\n",
      "대전\n",
      "2\n",
      "부산\n"
     ]
    }
   ],
   "source": [
    "locations = ['서울', '대전', '부산']\n",
    "for (index, location) in enumerate(locations):\n",
    "    print(index)\n",
    "    print(location)\n",
    "\n",
    "# enumerate( ): 각 데이터는 몇 번째 데이터인지 정보 같이 출력해줌"
   ]
  },
  {
   "cell_type": "markdown",
   "id": "ae181b5f-63df-49b3-95fa-d7ac8259a035",
   "metadata": {},
   "source": [
    "6.2.3 딕셔너리 반복"
   ]
  },
  {
   "cell_type": "code",
   "execution_count": 78,
   "id": "39785053-51f2-424b-a60a-712b18b258e4",
   "metadata": {},
   "outputs": [],
   "source": [
    "info = {'name': 'sori',\n",
    "    'location': 'seoul',\n",
    "    'age': 20}"
   ]
  },
  {
   "cell_type": "code",
   "execution_count": 80,
   "id": "5988a008-aafa-4e78-aeb5-159c6893f6f6",
   "metadata": {},
   "outputs": [
    {
     "name": "stdout",
     "output_type": "stream",
     "text": [
      "name\n",
      "location\n",
      "age\n"
     ]
    }
   ],
   "source": [
    "#k만 추출\n",
    "for k in info:\n",
    "    print(k)"
   ]
  },
  {
   "cell_type": "code",
   "execution_count": 82,
   "id": "4f3c5234-b743-4b9b-b814-91d3baa6beb2",
   "metadata": {},
   "outputs": [
    {
     "name": "stdout",
     "output_type": "stream",
     "text": [
      "name\n",
      "location\n",
      "age\n"
     ]
    }
   ],
   "source": [
    "# 위 코드와 동일 >> '.keys()'는 생략해도 됨\n",
    "for k in info.keys():\n",
    "    print(k)"
   ]
  },
  {
   "cell_type": "code",
   "execution_count": 89,
   "id": "ce682946-00c7-4f64-ae72-cdcabb27c1ad",
   "metadata": {},
   "outputs": [
    {
     "name": "stdout",
     "output_type": "stream",
     "text": [
      "name\n",
      "sori\n",
      "location\n",
      "seoul\n",
      "age\n",
      "20\n"
     ]
    }
   ],
   "source": [
    "# 변수명, 밸류 모두 출력해줌\n",
    "for k in info:\n",
    "    print(k)\n",
    "    print(info[k])"
   ]
  },
  {
   "cell_type": "code",
   "execution_count": 86,
   "id": "a176b1a5-272b-4161-b17f-aa36df95536c",
   "metadata": {},
   "outputs": [
    {
     "name": "stdout",
     "output_type": "stream",
     "text": [
      "sori\n",
      "seoul\n",
      "20\n"
     ]
    }
   ],
   "source": [
    "for v in info.values(): #밸류를 반복해 출력해줌\n",
    "    print(v)"
   ]
  },
  {
   "cell_type": "code",
   "execution_count": 88,
   "id": "b6b1734b-36e1-4124-99b9-f641f3f1e703",
   "metadata": {},
   "outputs": [
    {
     "name": "stdout",
     "output_type": "stream",
     "text": [
      "name sori\n",
      "location seoul\n",
      "age 20\n"
     ]
    }
   ],
   "source": [
    "for k, v in info.items(): # 키, 밸류 모두 반복해 출력해줌\n",
    "    print(k, v)"
   ]
  },
  {
   "cell_type": "code",
   "execution_count": 117,
   "id": "25b20432-78c9-40cf-b09c-ac32f28f3f52",
   "metadata": {},
   "outputs": [],
   "source": [
    "blood = {'A': 15,\n",
    "         'B': 8,\n",
    "         'o': 3,\n",
    "         'AB': 9,\n",
    "        }"
   ]
  },
  {
   "cell_type": "code",
   "execution_count": 94,
   "id": "21c5b088-a4dd-4f52-8839-ec9b1b993be6",
   "metadata": {},
   "outputs": [
    {
     "name": "stdout",
     "output_type": "stream",
     "text": [
      "A\n",
      "B\n",
      "o\n",
      "AB\n"
     ]
    }
   ],
   "source": [
    "for k in blood:\n",
    "    print(k)"
   ]
  },
  {
   "cell_type": "code",
   "execution_count": 118,
   "id": "1209b6d6-7b9b-4551-bc1c-464afd67aaac",
   "metadata": {},
   "outputs": [
    {
     "ename": "TypeError",
     "evalue": "cannot unpack non-iterable int object",
     "output_type": "error",
     "traceback": [
      "\u001b[1;31m---------------------------------------------------------------------------\u001b[0m",
      "\u001b[1;31mTypeError\u001b[0m                                 Traceback (most recent call last)",
      "Cell \u001b[1;32mIn[118], line 1\u001b[0m\n\u001b[1;32m----> 1\u001b[0m \u001b[38;5;28;01mfor\u001b[39;00m k, v \u001b[38;5;129;01min\u001b[39;00m blood\u001b[38;5;241m.\u001b[39mvalues():\n\u001b[0;32m      2\u001b[0m     \u001b[38;5;28mprint\u001b[39m(\u001b[38;5;124mf\u001b[39m\u001b[38;5;124m'\u001b[39m\u001b[38;5;132;01m{\u001b[39;00mk\u001b[38;5;132;01m}\u001b[39;00m\u001b[38;5;124m형은 \u001b[39m\u001b[38;5;132;01m{\u001b[39;00mv\u001b[38;5;132;01m}\u001b[39;00m\u001b[38;5;124m명 입니다.\u001b[39m\u001b[38;5;124m'\u001b[39m)\n",
      "\u001b[1;31mTypeError\u001b[0m: cannot unpack non-iterable int object"
     ]
    }
   ],
   "source": [
    "for k, v in blood.values():\n",
    "    print(f'{k}형은 {v}명 입니다.')"
   ]
  },
  {
   "cell_type": "code",
   "execution_count": 104,
   "id": "2d09f757-01d5-4178-9e28-15c75f46b5e9",
   "metadata": {},
   "outputs": [
    {
     "name": "stdout",
     "output_type": "stream",
     "text": [
      "여기는 for문 0\n",
      "여기는 for문 1\n",
      "여기는 for문 2\n",
      "여기는 for문 3\n",
      "여기는 for문 4\n",
      "여기는 for문 5\n",
      "여기는 for문 6\n",
      "여기는 브레이크\n"
     ]
    }
   ],
   "source": [
    "for i in range(100):\n",
    "    print('여기는 for문', i)\n",
    "    if i > 5:\n",
    "        print('여기는 브레이크')\n",
    "        break\n",
    "        #break # 자기와 가장 가까운 for 문을 종료시킴\n",
    "        #i가 "
   ]
  },
  {
   "cell_type": "code",
   "execution_count": 106,
   "id": "fba5dbb3-479f-4cc1-9b0a-6303c370e3b2",
   "metadata": {},
   "outputs": [
    {
     "name": "stdin",
     "output_type": "stream",
     "text": [
      " 쌀\n"
     ]
    },
    {
     "name": "stdout",
     "output_type": "stream",
     "text": [
      "잡았다!\n"
     ]
    }
   ],
   "source": [
    "while True: # true를 넣어놨으니, 이 코드는 일단 무한히 돌 것\n",
    "    rice = input() # 코드 계속 돌아가는데 사용자에게 입력값 받음\n",
    "    if rice == '쌀': #근데 쌀 입력하면\n",
    "        print('잡았다!') #잡았다 출력한 뒤\n",
    "        break #while문 종료됨"
   ]
  },
  {
   "cell_type": "code",
   "execution_count": 109,
   "id": "4bf27865-a59b-4c35-bb2b-5a5c8b99640b",
   "metadata": {},
   "outputs": [
    {
     "name": "stdout",
     "output_type": "stream",
     "text": [
      "0\n",
      "2\n",
      "4\n",
      "6\n",
      "8\n",
      "10\n",
      "12\n",
      "14\n",
      "16\n",
      "18\n"
     ]
    }
   ],
   "source": [
    "for i in range(20):\n",
    "    if i % 2 == 1: #홀수인지 묻는 것\n",
    "        continue #홀수라면, continue하세요 -> 홀수라면, 스킵하고, 다음 숫자만 출력하란 것 >> 그러면 짝수만 출력되는 것\n",
    "            #특정 상황에서 코드 스킵하는 것, \n",
    "    print(i)"
   ]
  },
  {
   "cell_type": "code",
   "execution_count": 113,
   "id": "bf6d4fec-38df-4efb-95cc-0cc2f5d9c11b",
   "metadata": {},
   "outputs": [
    {
     "name": "stdout",
     "output_type": "stream",
     "text": [
      "20살은 성인입니다.\n",
      "30살은 성인입니다.\n",
      "23살은 성인입니다.\n"
     ]
    }
   ],
   "source": [
    "ages = [10, 20, 30, 23, 9, 17]\n",
    "for age in ages:\n",
    "    if age < 20:\n",
    "        continue\n",
    "    print(f'{age}살은 성인입니다.')"
   ]
  },
  {
   "cell_type": "code",
   "execution_count": 129,
   "id": "f6ab2081-701e-49a9-a82f-51c90541c257",
   "metadata": {},
   "outputs": [
    {
     "name": "stdout",
     "output_type": "stream",
     "text": [
      "0\n",
      "1\n",
      "2\n",
      "3\n",
      "4\n",
      "5\n",
      "6\n",
      "7\n",
      "8\n",
      "9\n",
      "모두완료!\n"
     ]
    }
   ],
   "source": [
    "for i in range(10):\n",
    "    if i > 100: # i가 6 될 때 반복문 종료됨\n",
    "        break\n",
    "    print(i)\n",
    "else: # 브레이크를 만나지 않으면 해당 값 출력되는 것 >> 범위는 10인데, 조건문이 i > 100 등으로 커서 브레이크 만나지 않을 경우 실행 가능\n",
    "    print('모두완료!')"
   ]
  },
  {
   "cell_type": "code",
   "execution_count": 125,
   "id": "489883eb-6b02-4fc0-94cf-5ced0701df4e",
   "metadata": {},
   "outputs": [
    {
     "name": "stdout",
     "output_type": "stream",
     "text": [
      "A\n",
      "B\n",
      "o\n",
      "AB\n"
     ]
    }
   ],
   "source": [
    "bloods = {'A': 15,\n",
    "         'B': 8,\n",
    "         'o': 3,\n",
    "         'AB': 9,\n",
    "        }\n",
    "for blood in bloods:\n",
    "    print(blood)"
   ]
  },
  {
   "cell_type": "code",
   "execution_count": 127,
   "id": "3fb6c13b-d5f4-4f5d-9488-333dfc5eff32",
   "metadata": {},
   "outputs": [
    {
     "name": "stdout",
     "output_type": "stream",
     "text": [
      "A형은 총 15명 입니다.\n",
      "B형은 총 8명 입니다.\n",
      "o형은 총 3명 입니다.\n",
      "AB형은 총 9명 입니다.\n"
     ]
    }
   ],
   "source": [
    "for k, v in bloods.items():\n",
    "    print(f'{k}형은 총 {v}명 입니다.')"
   ]
  }
 ],
 "metadata": {
  "kernelspec": {
   "display_name": "Python 3 (ipykernel)",
   "language": "python",
   "name": "python3"
  },
  "language_info": {
   "codemirror_mode": {
    "name": "ipython",
    "version": 3
   },
   "file_extension": ".py",
   "mimetype": "text/x-python",
   "name": "python",
   "nbconvert_exporter": "python",
   "pygments_lexer": "ipython3",
   "version": "3.13.2"
  }
 },
 "nbformat": 4,
 "nbformat_minor": 5
}
