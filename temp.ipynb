{
 "cells": [
  {
   "cell_type": "code",
   "execution_count": null,
   "id": "6cee648b-cf25-4152-97a1-31bb2065fae5",
   "metadata": {},
   "outputs": [],
   "source": [
    "print('Hello World')"
   ]
  },
  {
   "cell_type": "code",
   "execution_count": null,
   "id": "d7419aea-9500-41bc-900b-5cf95cb05aac",
   "metadata": {},
   "outputs": [],
   "source": [
    "print(\"Mary's cosmetics\")"
   ]
  },
  {
   "cell_type": "code",
   "execution_count": null,
   "id": "b21920f4-3716-4fbe-9ef3-180802951b0c",
   "metadata": {},
   "outputs": [],
   "source": [
    "print('신씨가 소리질렀다. \"도둑이야\".')"
   ]
  },
  {
   "cell_type": "code",
   "execution_count": null,
   "id": "90af5531-8d82-4ac4-93e7-f888f4079a58",
   "metadata": {},
   "outputs": [],
   "source": [
    "print('C:\\Windows')"
   ]
  },
  {
   "cell_type": "code",
   "execution_count": null,
   "id": "931b19ed-222a-48f7-891f-eee70e15cd92",
   "metadata": {},
   "outputs": [],
   "source": [
    "print(\"안녕하세요.\\n만나서\\t\\t반갑습니다.\")"
   ]
  },
  {
   "cell_type": "code",
   "execution_count": null,
   "id": "c0004936-9a21-4c76-a5cc-919a31e6416a",
   "metadata": {},
   "outputs": [],
   "source": [
    "print(\"오늘은\", \"일요일\")"
   ]
  },
  {
   "cell_type": "code",
   "execution_count": null,
   "id": "e5f57662-b841-47cc-9cb5-f17ffad2c0ff",
   "metadata": {},
   "outputs": [],
   "source": [
    "print('naver;kakao;sk;samsung')"
   ]
  },
  {
   "cell_type": "code",
   "execution_count": null,
   "id": "4aea4eb9-00d8-435b-a12e-5d172df991b4",
   "metadata": {},
   "outputs": [],
   "source": [
    "word = input()\n",
    "print(word * 2)"
   ]
  },
  {
   "cell_type": "code",
   "execution_count": null,
   "id": "cd86ec84-410f-485c-a0fb-8d3a3a806055",
   "metadata": {},
   "outputs": [],
   "source": [
    "num = int(input())\n",
    "print(num + 10)"
   ]
  },
  {
   "cell_type": "code",
   "execution_count": null,
   "id": "486565e5-44c3-4803-85af-b5cbca720ef1",
   "metadata": {},
   "outputs": [],
   "source": [
    "num = int(input())\n",
    "if num % 2:\n",
    "    print(\"홀수\")\n",
    "else:\n",
    "    print(\"짝수\")"
   ]
  },
  {
   "cell_type": "code",
   "execution_count": null,
   "id": "c4ee7520-eeb6-4e05-96c4-aad1875ac9db",
   "metadata": {},
   "outputs": [],
   "source": [
    "num = int(input())\n",
    "result = num + 20\n",
    "if result > 255:\n",
    "    print(255)\n",
    "else:\n",
    "    print(result)"
   ]
  },
  {
   "cell_type": "code",
   "execution_count": null,
   "id": "98a946b5-7522-4581-a6d2-44cb0f0e5c36",
   "metadata": {},
   "outputs": [],
   "source": [
    "num = int(input())\n",
    "result = num - 20\n",
    "if result < 0:\n",
    "    print(0)\n",
    "elif num > 255:\n",
    "    print(255)\n",
    "else:\n",
    "    print(result)"
   ]
  },
  {
   "cell_type": "code",
   "execution_count": null,
   "id": "1abef922-bf53-43c6-ae11-47cc841ecc64",
   "metadata": {},
   "outputs": [],
   "source": [
    "fruit = [\"사과\", \"포도\", \"홍시\"]\n",
    "\n",
    "user = input('좋아하는 과일은?')\n",
    "if user in fruit:\n",
    "    print('정답입니다')\n",
    "else:\n",
    "    print('오답입니다')"
   ]
  },
  {
   "cell_type": "code",
   "execution_count": null,
   "id": "1eafdac3-8f2c-4b12-b045-ca8114160ed5",
   "metadata": {},
   "outputs": [],
   "source": [
    "warn_investment_list = [\"Microsoft\", \"Google\", \"Naver\", \"Kakao\", \"SAMSUNG\", \"LG\"]\n",
    "\n",
    "user = input()\n",
    "if user in warn_investment_list:\n",
    "    print('투자 경고 종목입니다')\n",
    "else:\n",
    "    print('투자 경고 종목이 아닙니다.')"
   ]
  },
  {
   "cell_type": "code",
   "execution_count": null,
   "id": "8b4693ab-86d3-408a-b327-5f9d20653200",
   "metadata": {},
   "outputs": [],
   "source": [
    "user = input()\n",
    "if user.islower():\n",
    "    print(user.upper())\n",
    "else:\n",
    "    print(user.lower())"
   ]
  },
  {
   "cell_type": "code",
   "execution_count": null,
   "id": "dd5c77c0-894d-4c23-91c6-33005669fa01",
   "metadata": {},
   "outputs": [],
   "source": [
    "user = int(input())\n",
    "if user > 80:\n",
    "    print('A')\n",
    "elif user > 60:\n",
    "    print('B')\n",
    "elif user > 40:\n",
    "    print('C')\n",
    "elif user > 20:\n",
    "    print('D')\n",
    "else:\n",
    "    print('E')"
   ]
  },
  {
   "cell_type": "code",
   "execution_count": null,
   "id": "bdeefbc9-e0e8-4fc8-bb50-b669d5a29f88",
   "metadata": {},
   "outputs": [],
   "source": [
    "for 변수 in [10,20,30]:\n",
    "    print(변수)"
   ]
  },
  {
   "cell_type": "code",
   "execution_count": null,
   "id": "47567b2c-8445-408d-92f6-f9a0c5823eaa",
   "metadata": {},
   "outputs": [],
   "source": [
    "for 변수 in [10,20,30]:\n",
    "    print(변수)\n",
    "    print(\"-------\")"
   ]
  },
  {
   "cell_type": "code",
   "execution_count": null,
   "id": "5c4b7ac3-3290-44c6-857c-9cbf142b4329",
   "metadata": {},
   "outputs": [],
   "source": [
    "for 리스트 in [100,200,300]:\n",
    "    print(리스트 + 10)"
   ]
  },
  {
   "cell_type": "code",
   "execution_count": null,
   "id": "9465ce1e-e37a-4d30-8bf1-b46c5ef4d865",
   "metadata": {},
   "outputs": [],
   "source": [
    "for 변수 in ['김밥', '라면', '튀김']:\n",
    "    print('오늘의 메뉴:', 변수)"
   ]
  },
  {
   "cell_type": "code",
   "execution_count": null,
   "id": "dd734307-a2f0-4c61-a5cd-1bc63da90294",
   "metadata": {},
   "outputs": [],
   "source": [
    "for 변수 in ['하이닉스', '삼성', 'lg']:\n",
    "    길이 = len(변수)\n",
    "    print(길이)"
   ]
  },
  {
   "cell_type": "code",
   "execution_count": null,
   "id": "81662240-ca2b-4b08-8795-8f3faee9cb45",
   "metadata": {},
   "outputs": [],
   "source": [
    "리스트 = ['dog', 'cat', 'parrot']\n",
    "\n",
    "for 이름 in 리스트:\n",
    "    print(이름[0])"
   ]
  },
  {
   "cell_type": "code",
   "execution_count": null,
   "id": "d3a91e7f-8f8b-4833-b359-4119b17e027b",
   "metadata": {},
   "outputs": [],
   "source": [
    "리스트 = [1, 2, 3]\n",
    "for i in 리스트:\n",
    "    print('3 *', i)"
   ]
  },
  {
   "cell_type": "code",
   "execution_count": null,
   "id": "bda8b7cf-ca40-4d23-86a3-0006cabd3228",
   "metadata": {},
   "outputs": [],
   "source": [
    "리스트 = [\"가\", \"나\", \"다\", \"라\"]\n",
    "\n",
    "for i in 리스트[1:]:\n",
    "    print(i)"
   ]
  },
  {
   "cell_type": "code",
   "execution_count": null,
   "id": "fd4febb3-cef0-4f76-bb0f-b85cb5e23191",
   "metadata": {},
   "outputs": [],
   "source": [
    "리스트 = [\"가\", \"나\", \"다\", \"라\"]\n",
    "\n",
    "for i in 리스트[::2]:\n",
    "    print(i)"
   ]
  },
  {
   "cell_type": "code",
   "execution_count": null,
   "id": "73f160ab-783a-4ee8-9115-cd204189df0d",
   "metadata": {},
   "outputs": [],
   "source": [
    "리스트 = [\"가\", \"나\", \"다\", \"라\"]\n",
    "for i in 리스트[::-1]:\n",
    "    print(i)\n"
   ]
  },
  {
   "cell_type": "code",
   "execution_count": null,
   "id": "7a7309f8-81ad-405f-a68a-191395474ce4",
   "metadata": {},
   "outputs": [],
   "source": [
    "for i in range(2002, 2051, 4):\n",
    "    print(i)"
   ]
  },
  {
   "cell_type": "code",
   "execution_count": null,
   "id": "e2f7a5a7-33c1-4930-bb34-70464eafca41",
   "metadata": {},
   "outputs": [],
   "source": [
    "for i in range(1, 31):\n",
    "    if i % 3 == 0:\n",
    "        print(i)\n",
    "    else:\n",
    "        continue"
   ]
  },
  {
   "cell_type": "code",
   "execution_count": null,
   "id": "3fb39840-0904-4dff-a738-dffb99f23f77",
   "metadata": {},
   "outputs": [],
   "source": [
    "# 1. 핸드폰 정의 만들기\n",
    "class Phone():\n",
    "    # 1) 핸드폰 정의에 필요한 요소 넣기\n",
    "    power = False # 폰 전원은 꺼져 있음\n",
    "    number = '010-0000-0000' # 폰번호는 이러함\n",
    "    book = {}\n",
    "    model = ''\n",
    "\n",
    "    # 2) 핸드폰 기능 만들기\n",
    "    # 핸드폰 전원 꺼져 있으면 키기\n",
    "    def on(self):\n",
    "        if self.power == False: # 값 비교 위해 == 사용\n",
    "            self.power = True # 값 할당 위해 = 사용\n",
    "    # 전원 켜져 있으면 끄기\n",
    "    def off(self):\n",
    "        if self.power == Talse:\n",
    "            self.power = False\n",
    "    # 전화 기능 추가하기\n",
    "    def call(self, target):\n",
    "        if target.power == True:\n",
    "            print(f'{self.number}가 {target.number}한테 전화거는 중')\n",
    "        else:\n",
    "            print('핸드폰이 꺼져있습니다.')"
   ]
  },
  {
   "cell_type": "code",
   "execution_count": null,
   "id": "baa1a642-05db-4ef8-af08-0ce42a4a7aed",
   "metadata": {},
   "outputs": [],
   "source": [
    "# 2. 2개의 핸드폰 공장에서 찍어내기\n",
    "my_phone = Phone()\n",
    "your_phone = Phone()\n",
    "\n",
    "# 내 핸드폰 번호 변경하기\n",
    "my_phone.number = '010-1111-1111'\n",
    "print(my_phone.number)\n",
    "\n",
    "your_phone.power = True\n",
    "print(your_phone.power)\n",
    "\n",
    "my_phone.call(your_phone)"
   ]
  },
  {
   "cell_type": "code",
   "execution_count": null,
   "id": "9d1f5fcf-1776-4c6a-9a9d-7c79d8746f4f",
   "metadata": {},
   "outputs": [],
   "source": [
    "# 사람 정의하기\n",
    "class Person():\n",
    "    name = ''\n",
    "    gender = ''\n",
    "    age = 0\n",
    "    height = 0\n",
    "    \n",
    "    def greeting(self):\n",
    "       print(f'안녕하세요. 저는 {self.name}입니다.')\n",
    "    def grow(self):\n",
    "        self.age += 1 \n",
    "        return self.age"
   ]
  },
  {
   "cell_type": "code",
   "execution_count": null,
   "id": "a468edff-4ddb-4c3f-bf8d-e2878a529868",
   "metadata": {},
   "outputs": [],
   "source": [
    "p1 = Person()\n",
    "p2 = Person()\n",
    "\n",
    "p1.name = 'hong'\n",
    "p2.name = 'kim'\n",
    "\n",
    "p1.gender = 'F'\n",
    "p2.gender = 'M'\n",
    "\n",
    "p1.age = 20\n",
    "p2.age = 30\n",
    "\n",
    "p1.height = 40\n",
    "p2.height = 50"
   ]
  },
  {
   "cell_type": "code",
   "execution_count": null,
   "id": "4d849b66-deaa-4f4c-89d9-555a4881ca6f",
   "metadata": {},
   "outputs": [],
   "source": [
    "print(p1.greeting())\n",
    "print(p2.grow())"
   ]
  },
  {
   "cell_type": "code",
   "execution_count": null,
   "id": "39a5dec3-1397-408f-bdf0-db8953437d01",
   "metadata": {},
   "outputs": [],
   "source": [
    "# 연습문제\n",
    "\n",
    "class Car():\n",
    "    def __init__(self, brand, model):\n",
    "        self.brand = brand\n",
    "        self.model = model\n",
    "    def start_engine(self):\n",
    "        return '엔진이 켜졌습니다.'\n",
    "\n",
    "my_car = Car('Hyundai', 'Sonata')\n",
    "print(my_car.brand)\n",
    "print(my_car.model)\n",
    "my_car.start_engine()"
   ]
  },
  {
   "cell_type": "code",
   "execution_count": null,
   "id": "2cc0b7cd-2437-4bd6-9712-d79748003e85",
   "metadata": {},
   "outputs": [],
   "source": [
    "class Person():\n",
    "    def __init__(self, name, age):\n",
    "        self.name = name\n",
    "        self.age = age\n",
    "    def introduce(self):\n",
    "        return f'안녕하세요, 제 이름은 {self.name}이고, 나이는 {self.age}살입니다.'\n",
    "\n",
    "p1 = Person('홍길동', 25)\n",
    "p1.introduce()"
   ]
  },
  {
   "cell_type": "code",
   "execution_count": null,
   "id": "b9fffe65-280b-462e-b619-39a0c27ed5f1",
   "metadata": {},
   "outputs": [],
   "source": [
    "class Phone():\n",
    "    def __init__(self, power):\n",
    "        self.power = power\n",
    "    def turn_on(self):\n",
    "        if self.power == False:\n",
    "            self.power = True\n",
    "            return '전원이 켜졌습니다.'\n",
    "    def turn_off(self):\n",
    "        if self.power == True:\n",
    "            self.power = False\n",
    "            return '전원이 꺼졌습니다.'\n",
    "\n",
    "p1 = Phone(True)\n",
    "p1.turn_off()\n",
    "p1.turn_on()"
   ]
  },
  {
   "cell_type": "code",
   "execution_count": null,
   "id": "404b0586-b3ca-49ef-9dd5-204a84d77bc1",
   "metadata": {},
   "outputs": [],
   "source": [
    "class BankAccount():\n",
    "    def __init__(self, balance=0): # 기본값 입력해야 함 >> 안 그럼 0 되면 에러\n",
    "        self.balance = balance\n",
    "# 인스턴스 할 때 클래스에 입력받는 게 초기 자금임 >> 입력하지 않으면 0으로 자동 설정됨\n",
    "\n",
    "# deposit 함수를 실행할 때 넣을 인자를 사용자에게 입력받아야 해서 amount를 넣은 것\n",
    "    # 얼마를 넣고 뺄지 알아야, 비교 가능하니까 받아야 하는 amount 인자 생긴 것\n",
    "    def deposit(self, amount): # 인스턴스 메소드이기 때문에 꼭 self를 인자로 설정해야 함\n",
    "        self.balance += amount\n",
    "        return self.balance\n",
    "\n",
    "    def withdraw(self, amount):\n",
    "        if self.balance < amount:\n",
    "            return '잔액이 부족합니다.'\n",
    "        else:\n",
    "            self.balance -= amount\n",
    "            return self.balance\n",
    "\n",
    "    def check_balance(self):\n",
    "        return self.balance\n",
    "\n",
    "account = BankAccount(1000)\n",
    "print(account.deposit(500))\n",
    "print(account.withdraw(50))\n",
    "print(account.check_balance())\n",
    "print(account.withdraw(4000))"
   ]
  },
  {
   "cell_type": "code",
   "execution_count": null,
   "id": "da4a0113-5af1-4853-b9ac-f2c309483f7e",
   "metadata": {},
   "outputs": [],
   "source": [
    "class Student():\n",
    "    def __init__(self, name, grades=0):\n",
    "        self.name = list[name]\n",
    "        self.grades = list[grades]\n",
    "\n",
    "    def add_grade(self, grade):\n",
    "        grades += grade\n",
    "    def average_grade(self):\n",
    "        return self.grades / len(self.grades)\n",
    "\n",
    "student = Student(\"김철수\")\n",
    "student.add_grade(90)\n",
    "student.add_grade(85)\n",
    "student.add_grade(78)\n",
    "print(student.average_grade())"
   ]
  },
  {
   "cell_type": "code",
   "execution_count": 17,
   "id": "ccf8524a-598d-4e12-9b7c-5337810e7723",
   "metadata": {},
   "outputs": [],
   "source": [
    "import random\n",
    "\n",
    "class Pokemon():\n",
    "    def __init__(self, name, level=5):\n",
    "        self.name = name\n",
    "        self.level = level\n",
    "        self.hp = level * 10\n",
    "    def attack(self, opponent):\n",
    "        demage = self.level * random.randint(1, 6)\n",
    "        print(f'{self.name}가 {opponent.name}에게 {demage}의 데미지를 입혔습니다!')\n",
    "        opponent.hp -= demage # 내가 공격하면, 상대 타격 받는 것을 여기서 했으니까, 내 상태에서는 내 체력 깎이지 않는 것\n",
    "        \n",
    "    def status(self):\n",
    "        print(f'{self.name} -체력: {self.hp}')"
   ]
  },
  {
   "cell_type": "code",
   "execution_count": 18,
   "id": "8e58d256-057b-472c-a312-e509702657fe",
   "metadata": {},
   "outputs": [
    {
     "name": "stdout",
     "output_type": "stream",
     "text": [
      "배틀 시작!\n",
      "비비가 코코에게 44의 데미지를 입혔습니다!\n",
      "코코가 비비에게 30의 데미지를 입혔습니다!\n",
      "비비 -체력: 80\n",
      "코코 -체력: 56\n",
      "---------------\n",
      "비비가 코코에게 55의 데미지를 입혔습니다!\n",
      "코코가 비비에게 30의 데미지를 입혔습니다!\n",
      "비비 -체력: 50\n",
      "코코 -체력: 1\n",
      "---------------\n",
      "비비가 코코에게 22의 데미지를 입혔습니다!\n",
      "코코가 쓰러졌습니다! 비비 승리!\n"
     ]
    }
   ],
   "source": [
    "mon1 = Pokemon('비비', 11)\n",
    "mon2 = Pokemon('코코', 10)\n",
    "\n",
    "print('배틀 시작!')\n",
    "while True:\n",
    "    mon1.attack(mon2)\n",
    "    if mon2.hp <= 0:\n",
    "        print(f'{mon2.name}가 쓰러졌습니다! {mon1.name} 승리!')\n",
    "        break\n",
    "\n",
    "    mon2.attack(mon1)\n",
    "    if mon1.hp <= 0:\n",
    "        print(f'{mon1.name}가 쓰러졌습니다! {mon2.name} 승리!')\n",
    "        break\n",
    "    mon1.status()\n",
    "    mon2.status()\n",
    "    print('---------------')"
   ]
  }
 ],
 "metadata": {
  "kernelspec": {
   "display_name": "Python 3 (ipykernel)",
   "language": "python",
   "name": "python3"
  },
  "language_info": {
   "codemirror_mode": {
    "name": "ipython",
    "version": 3
   },
   "file_extension": ".py",
   "mimetype": "text/x-python",
   "name": "python",
   "nbconvert_exporter": "python",
   "pygments_lexer": "ipython3",
   "version": "3.13.2"
  }
 },
 "nbformat": 4,
 "nbformat_minor": 5
}
