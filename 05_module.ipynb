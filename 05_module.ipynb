{
 "cells": [
  {
   "cell_type": "code",
   "execution_count": null,
   "id": "4c46106e-3b27-47a9-80eb-d05cf3fd9994",
   "metadata": {},
   "outputs": [],
   "source": [
    "import fact\n",
    "print(fact)\n",
    "\n",
    "fact.factorial(5)"
   ]
  },
  {
   "cell_type": "code",
   "execution_count": null,
   "id": "7f6fc8cf-956f-4d21-ad7f-80a0600eb7df",
   "metadata": {},
   "outputs": [],
   "source": [
    "import fact\n",
    "fact.my_max(2, 3)"
   ]
  },
  {
   "cell_type": "code",
   "execution_count": null,
   "id": "5c3ba2da-d226-41cd-bf34-e2b557b5c2fc",
   "metadata": {},
   "outputs": [],
   "source": [
    "import myPackage"
   ]
  },
  {
   "cell_type": "code",
   "execution_count": null,
   "id": "15d021b2-edd3-496e-b602-fda82e3b18f7",
   "metadata": {},
   "outputs": [],
   "source": [
    "print(myPackage)"
   ]
  },
  {
   "cell_type": "code",
   "execution_count": null,
   "id": "de808a9a-7c68-4df3-9899-1026b82c63a8",
   "metadata": {},
   "outputs": [],
   "source": [
    "myPackage.math.fomula.my_max(2, 3)"
   ]
  },
  {
   "cell_type": "code",
   "execution_count": null,
   "id": "6fe3d5d7-658a-4b4a-a225-c348138d4b12",
   "metadata": {},
   "outputs": [],
   "source": [
    "from myPackage.math.fomula import my_max"
   ]
  },
  {
   "cell_type": "code",
   "execution_count": null,
   "id": "b141a077-5d2e-4c87-ba46-aed84df14c78",
   "metadata": {},
   "outputs": [],
   "source": [
    "my_max(2, 3)"
   ]
  },
  {
   "cell_type": "code",
   "execution_count": null,
   "id": "3e157271-c4bf-4882-af06-463cf06835bc",
   "metadata": {},
   "outputs": [],
   "source": [
    "from myPackage.math.fomula import *\n",
    "print(pi)"
   ]
  },
  {
   "cell_type": "code",
   "execution_count": 4,
   "id": "1f787afe-e96c-4d91-8906-2b2e93bbb811",
   "metadata": {},
   "outputs": [],
   "source": [
    "from myPackage.math import fomula"
   ]
  },
  {
   "cell_type": "code",
   "execution_count": 5,
   "id": "e38c60c3-f38a-4942-ba81-8cb501b9d390",
   "metadata": {},
   "outputs": [
    {
     "data": {
      "text/plain": [
       "3"
      ]
     },
     "execution_count": 5,
     "metadata": {},
     "output_type": "execute_result"
    }
   ],
   "source": [
    "fomula.my_max(2, 3)"
   ]
  },
  {
   "cell_type": "code",
   "execution_count": 7,
   "id": "5b8c3290-c5dd-4fa4-b138-08b413cc0628",
   "metadata": {},
   "outputs": [
    {
     "name": "stdout",
     "output_type": "stream",
     "text": [
      "1234\n",
      "<module 'myPackage.math.fomula' from 'C:\\\\Users\\\\1-08\\\\Desktop\\\\DAMF2\\\\TIL\\\\python\\\\myPackage\\\\math\\\\fomula.py'>\n"
     ]
    }
   ],
   "source": [
    "fomula = 1234\n",
    "from myPackage.math import fomula as f\n",
    "print(fomula)\n",
    "print(f)"
   ]
  },
  {
   "cell_type": "code",
   "execution_count": 8,
   "id": "f72f7633-a8dd-4584-afa1-13827daaf55e",
   "metadata": {},
   "outputs": [],
   "source": [
    "import math"
   ]
  },
  {
   "cell_type": "code",
   "execution_count": 9,
   "id": "25596ab0-98a1-4ece-b560-e83977d79753",
   "metadata": {},
   "outputs": [
    {
     "data": {
      "text/plain": [
       "3.141592653589793"
      ]
     },
     "execution_count": 9,
     "metadata": {},
     "output_type": "execute_result"
    }
   ],
   "source": [
    "math.pi"
   ]
  },
  {
   "cell_type": "code",
   "execution_count": 10,
   "id": "6f080939-0248-4212-87d4-d747fae188b0",
   "metadata": {},
   "outputs": [
    {
     "data": {
      "text/plain": [
       "2.718281828459045"
      ]
     },
     "execution_count": 10,
     "metadata": {},
     "output_type": "execute_result"
    }
   ],
   "source": [
    "math.e"
   ]
  },
  {
   "cell_type": "code",
   "execution_count": 11,
   "id": "3cb420e5-daee-4b62-99fe-5aadc0c4c1e1",
   "metadata": {},
   "outputs": [
    {
     "data": {
      "text/plain": [
       "3"
      ]
     },
     "execution_count": 11,
     "metadata": {},
     "output_type": "execute_result"
    }
   ],
   "source": [
    "math.ceil(math.e)"
   ]
  },
  {
   "cell_type": "code",
   "execution_count": 12,
   "id": "2edf237e-afe2-4348-b446-3005c22dd06c",
   "metadata": {},
   "outputs": [
    {
     "data": {
      "text/plain": [
       "3"
      ]
     },
     "execution_count": 12,
     "metadata": {},
     "output_type": "execute_result"
    }
   ],
   "source": [
    "math.ceil(math.e)"
   ]
  },
  {
   "cell_type": "code",
   "execution_count": 14,
   "id": "ca4f6419-2def-4847-9015-eb138b63f4bd",
   "metadata": {},
   "outputs": [
    {
     "data": {
      "text/plain": [
       "2"
      ]
     },
     "execution_count": 14,
     "metadata": {},
     "output_type": "execute_result"
    }
   ],
   "source": [
    "math.floor(math.e)"
   ]
  },
  {
   "cell_type": "code",
   "execution_count": 18,
   "id": "ed15ab11-66e1-4b92-98ca-a79b968c8833",
   "metadata": {},
   "outputs": [
    {
     "data": {
      "text/plain": [
       "3.0"
      ]
     },
     "execution_count": 18,
     "metadata": {},
     "output_type": "execute_result"
    }
   ],
   "source": [
    "math.sqrt(9) # 루트값 계산"
   ]
  },
  {
   "cell_type": "code",
   "execution_count": 17,
   "id": "43710c99-7f96-4c26-bd4c-395918b6c7d4",
   "metadata": {},
   "outputs": [
    {
     "data": {
      "text/plain": [
       "3628800"
      ]
     },
     "execution_count": 17,
     "metadata": {},
     "output_type": "execute_result"
    }
   ],
   "source": [
    "math.factorial(10)"
   ]
  },
  {
   "cell_type": "code",
   "execution_count": 20,
   "id": "e85b5d13-b380-4c7d-aefd-e1a955fee086",
   "metadata": {},
   "outputs": [],
   "source": [
    "from math import sqrt, factorial"
   ]
  },
  {
   "cell_type": "code",
   "execution_count": 21,
   "id": "fbc69114-46a4-4c27-bcf7-5cb5fdb90ffd",
   "metadata": {},
   "outputs": [
    {
     "data": {
      "text/plain": [
       "3.0"
      ]
     },
     "execution_count": 21,
     "metadata": {},
     "output_type": "execute_result"
    }
   ],
   "source": [
    "sqrt(9)"
   ]
  },
  {
   "cell_type": "code",
   "execution_count": 22,
   "id": "80e8908a-f1dd-4b2f-96b5-0b2d019410f4",
   "metadata": {},
   "outputs": [
    {
     "data": {
      "text/plain": [
       "120"
      ]
     },
     "execution_count": 22,
     "metadata": {},
     "output_type": "execute_result"
    }
   ],
   "source": [
    "factorial(5)"
   ]
  },
  {
   "cell_type": "code",
   "execution_count": 23,
   "id": "1bd98e4c-61f6-477b-9b17-cee1c7a056ac",
   "metadata": {},
   "outputs": [],
   "source": [
    "import random"
   ]
  },
  {
   "cell_type": "code",
   "execution_count": 25,
   "id": "03fe2d2d-c9e9-43e2-94b2-2410d02b00e3",
   "metadata": {},
   "outputs": [
    {
     "data": {
      "text/plain": [
       "0.31596226238905045"
      ]
     },
     "execution_count": 25,
     "metadata": {},
     "output_type": "execute_result"
    }
   ],
   "source": [
    "random.random() # 모듈명.함수명() | 실행할 때마다 1-0 사이의 랜덤한 소수 만들어줌 -> 실행할 때마다 숫자 달라짐"
   ]
  },
  {
   "cell_type": "code",
   "execution_count": 34,
   "id": "9f20f202-fd66-4396-9820-3b116665ce3f",
   "metadata": {},
   "outputs": [
    {
     "data": {
      "text/plain": [
       "2"
      ]
     },
     "execution_count": 34,
     "metadata": {},
     "output_type": "execute_result"
    }
   ],
   "source": [
    "#자연수 랜덤으로 부르기\n",
    "random.randint(1, 10) # 내가 지정한 범위 내에서 랜덤한 숫자 뽑음"
   ]
  },
  {
   "cell_type": "code",
   "execution_count": 40,
   "id": "885db222-5359-4636-a7f6-eb915f91dbf1",
   "metadata": {},
   "outputs": [
    {
     "data": {
      "text/plain": [
       "0.052363598850944326"
      ]
     },
     "execution_count": 40,
     "metadata": {},
     "output_type": "execute_result"
    }
   ],
   "source": [
    "random.seed(123) # \n",
    "random.random()"
   ]
  },
  {
   "cell_type": "raw",
   "id": "60e989f3-9757-40fd-a0f8-058909b280e0",
   "metadata": {},
   "source": []
  },
  {
   "cell_type": "code",
   "execution_count": 41,
   "id": "b5e09c3f-e3fb-4e49-aa90-4f42120c511e",
   "metadata": {},
   "outputs": [
    {
     "name": "stdout",
     "output_type": "stream",
     "text": [
      "[3, 5, 2, 4, 1]\n"
     ]
    }
   ],
   "source": [
    "numbers = [1,2,3,4,5]\n",
    "random.shuffle(numbers) # 리스트 무작위로 섞어줌\n",
    "print(numbers)"
   ]
  },
  {
   "cell_type": "code",
   "execution_count": 57,
   "id": "7caa747a-3a97-4a63-94a9-c66362702e56",
   "metadata": {},
   "outputs": [
    {
     "data": {
      "text/plain": [
       "3"
      ]
     },
     "execution_count": 57,
     "metadata": {},
     "output_type": "execute_result"
    }
   ],
   "source": [
    "random.choice(numbers) # 리스트의 데이터 중 하나를 무작위로 뽑음 -> 복원추출 방식"
   ]
  },
  {
   "cell_type": "code",
   "execution_count": 63,
   "id": "564dfcc3-7e4f-483c-93e1-7261a94b0712",
   "metadata": {},
   "outputs": [
    {
     "data": {
      "text/plain": [
       "[2, 4]"
      ]
     },
     "execution_count": 63,
     "metadata": {},
     "output_type": "execute_result"
    }
   ],
   "source": [
    "random.sample(numbers, 2)"
   ]
  },
  {
   "cell_type": "code",
   "execution_count": 64,
   "id": "405a335c-f2f8-46f1-a298-2ba0c1a9a173",
   "metadata": {},
   "outputs": [],
   "source": [
    "from datetime import datetime"
   ]
  },
  {
   "cell_type": "code",
   "execution_count": 67,
   "id": "1480a520-7fb7-4de9-9883-ce17f43407c0",
   "metadata": {},
   "outputs": [
    {
     "data": {
      "text/plain": [
       "datetime.datetime(2025, 2, 18, 14, 39, 14, 247005)"
      ]
     },
     "execution_count": 67,
     "metadata": {},
     "output_type": "execute_result"
    }
   ],
   "source": [
    "datetime.now()"
   ]
  },
  {
   "cell_type": "code",
   "execution_count": 68,
   "id": "36428173-278e-4dba-9148-2724ed723e0f",
   "metadata": {},
   "outputs": [
    {
     "data": {
      "text/plain": [
       "datetime.datetime(2025, 2, 18, 14, 39, 58, 174824)"
      ]
     },
     "execution_count": 68,
     "metadata": {},
     "output_type": "execute_result"
    }
   ],
   "source": [
    "datetime.today()"
   ]
  },
  {
   "cell_type": "code",
   "execution_count": 69,
   "id": "df19a8d4-436a-4317-8394-2c40d682ab30",
   "metadata": {},
   "outputs": [
    {
     "name": "stderr",
     "output_type": "stream",
     "text": [
      "C:\\Users\\1-08\\AppData\\Local\\Temp\\ipykernel_9408\\3983769260.py:1: DeprecationWarning: datetime.datetime.utcnow() is deprecated and scheduled for removal in a future version. Use timezone-aware objects to represent datetimes in UTC: datetime.datetime.now(datetime.UTC).\n",
      "  datetime.utcnow()\n"
     ]
    },
    {
     "data": {
      "text/plain": [
       "datetime.datetime(2025, 2, 18, 5, 40, 25, 275854)"
      ]
     },
     "execution_count": 69,
     "metadata": {},
     "output_type": "execute_result"
    }
   ],
   "source": [
    "datetime.utcnow()"
   ]
  },
  {
   "cell_type": "code",
   "execution_count": 74,
   "id": "d3b9a142-8c50-43d0-a791-3cd872aa84f2",
   "metadata": {},
   "outputs": [],
   "source": [
    "now = datetime.now() # 저장한 순간의 시간을 now에 저장한 것 -> 시간 흐르지 않고 숫자 멈춰 있음"
   ]
  },
  {
   "cell_type": "code",
   "execution_count": 73,
   "id": "efe073c7-f100-42f4-b4d2-096a742ac05a",
   "metadata": {},
   "outputs": [
    {
     "data": {
      "text/plain": [
       "datetime.datetime(2025, 2, 18, 14, 44, 14, 985947)"
      ]
     },
     "execution_count": 73,
     "metadata": {},
     "output_type": "execute_result"
    }
   ],
   "source": [
    "now"
   ]
  },
  {
   "cell_type": "code",
   "execution_count": 76,
   "id": "262834ca-99d1-4782-9283-20ba784c5a44",
   "metadata": {},
   "outputs": [
    {
     "data": {
      "text/plain": [
       "2025"
      ]
     },
     "execution_count": 76,
     "metadata": {},
     "output_type": "execute_result"
    }
   ],
   "source": [
    "now.year # 이런 식으로 now 변수의 각 요소에 접근 가능"
   ]
  },
  {
   "cell_type": "code",
   "execution_count": 77,
   "id": "d96aefd9-acda-4490-81c6-1bbbed369ce9",
   "metadata": {},
   "outputs": [
    {
     "data": {
      "text/plain": [
       "18"
      ]
     },
     "execution_count": 77,
     "metadata": {},
     "output_type": "execute_result"
    }
   ],
   "source": [
    "now.day"
   ]
  },
  {
   "cell_type": "code",
   "execution_count": 79,
   "id": "fdc669ce-11cc-4602-ac3f-94c9c6bde6a0",
   "metadata": {},
   "outputs": [
    {
     "name": "stdout",
     "output_type": "stream",
     "text": [
      "2025-02-18 14:44:46.002188\n"
     ]
    }
   ],
   "source": [
    "print(now)"
   ]
  },
  {
   "cell_type": "code",
   "execution_count": 80,
   "id": "ef772b67-0b3f-4596-ad76-d0180b609026",
   "metadata": {},
   "outputs": [
    {
     "data": {
      "text/plain": [
       "'2025년 02월 18일'"
      ]
     },
     "execution_count": 80,
     "metadata": {},
     "output_type": "execute_result"
    }
   ],
   "source": [
    "now.strftime('%Y년 %m월 %d일') # 내가 원하는 포맷으로 설정하기"
   ]
  },
  {
   "cell_type": "code",
   "execution_count": 81,
   "id": "0fd1a5e3-8f04-4d14-8365-d99cb0b95131",
   "metadata": {},
   "outputs": [
    {
     "name": "stdout",
     "output_type": "stream",
     "text": [
      "2025-12-25 00:00:00\n"
     ]
    }
   ],
   "source": [
    "x_mas = datetime(2025, 12, 25) # 직접 시간 정보 입력\n",
    "print(x_mas)"
   ]
  },
  {
   "cell_type": "code",
   "execution_count": 82,
   "id": "599e0c33-24e6-4556-a5df-a7f85fab117d",
   "metadata": {},
   "outputs": [],
   "source": [
    "from datetime import timedelta"
   ]
  },
  {
   "cell_type": "code",
   "execution_count": 83,
   "id": "e9819bee-0cec-4cfe-8268-e7c8fd329ba7",
   "metadata": {},
   "outputs": [
    {
     "name": "stdout",
     "output_type": "stream",
     "text": [
      "2025-12-28 00:00:00\n"
     ]
    }
   ],
   "source": [
    "future = timedelta(days = 3) # timedelta(): 변화량 수치화하는 함수\n",
    "print(x_mas + future) # 크리스마스로부터 3일 뒤가 며칠인지 출력"
   ]
  },
  {
   "cell_type": "code",
   "execution_count": 84,
   "id": "18e7eb2b-414b-47e7-938d-0101b6148477",
   "metadata": {},
   "outputs": [
    {
     "data": {
      "text/plain": [
       "datetime.timedelta(days=309, seconds=33313, microseconds=997812)"
      ]
     },
     "execution_count": 84,
     "metadata": {},
     "output_type": "execute_result"
    }
   ],
   "source": [
    "x_mas - now"
   ]
  },
  {
   "cell_type": "code",
   "execution_count": null,
   "id": "89006f84-a0d2-4e35-8ace-2d147a978544",
   "metadata": {},
   "outputs": [],
   "source": []
  }
 ],
 "metadata": {
  "kernelspec": {
   "display_name": "Python 3 (ipykernel)",
   "language": "python",
   "name": "python3"
  },
  "language_info": {
   "codemirror_mode": {
    "name": "ipython",
    "version": 3
   },
   "file_extension": ".py",
   "mimetype": "text/x-python",
   "name": "python",
   "nbconvert_exporter": "python",
   "pygments_lexer": "ipython3",
   "version": "3.13.2"
  }
 },
 "nbformat": 4,
 "nbformat_minor": 5
}
