{
 "cells": [
  {
   "cell_type": "code",
   "execution_count": null,
   "id": "4c46106e-3b27-47a9-80eb-d05cf3fd9994",
   "metadata": {},
   "outputs": [],
   "source": [
    "import fact\n",
    "print(fact)\n",
    "\n",
    "fact.factorial(5)"
   ]
  },
  {
   "cell_type": "code",
   "execution_count": null,
   "id": "7f6fc8cf-956f-4d21-ad7f-80a0600eb7df",
   "metadata": {},
   "outputs": [],
   "source": [
    "import fact\n",
    "fact.my_max(2, 3)"
   ]
  },
  {
   "cell_type": "code",
   "execution_count": null,
   "id": "5c3ba2da-d226-41cd-bf34-e2b557b5c2fc",
   "metadata": {},
   "outputs": [],
   "source": [
    "import myPackage"
   ]
  },
  {
   "cell_type": "code",
   "execution_count": null,
   "id": "15d021b2-edd3-496e-b602-fda82e3b18f7",
   "metadata": {},
   "outputs": [],
   "source": [
    "print(myPackage)"
   ]
  },
  {
   "cell_type": "code",
   "execution_count": null,
   "id": "de808a9a-7c68-4df3-9899-1026b82c63a8",
   "metadata": {},
   "outputs": [],
   "source": [
    "myPackage.math.fomula.my_max(2, 3)"
   ]
  },
  {
   "cell_type": "code",
   "execution_count": null,
   "id": "6fe3d5d7-658a-4b4a-a225-c348138d4b12",
   "metadata": {},
   "outputs": [],
   "source": [
    "from myPackage.math.fomula import my_max"
   ]
  },
  {
   "cell_type": "code",
   "execution_count": null,
   "id": "b141a077-5d2e-4c87-ba46-aed84df14c78",
   "metadata": {},
   "outputs": [],
   "source": [
    "my_max(2, 3)"
   ]
  },
  {
   "cell_type": "code",
   "execution_count": null,
   "id": "3e157271-c4bf-4882-af06-463cf06835bc",
   "metadata": {},
   "outputs": [],
   "source": [
    "from myPackage.math.fomula import *\n",
    "print(pi)"
   ]
  },
  {
   "cell_type": "code",
   "execution_count": null,
   "id": "1f787afe-e96c-4d91-8906-2b2e93bbb811",
   "metadata": {},
   "outputs": [],
   "source": [
    "from myPackage.math import fomula"
   ]
  },
  {
   "cell_type": "code",
   "execution_count": null,
   "id": "e38c60c3-f38a-4942-ba81-8cb501b9d390",
   "metadata": {},
   "outputs": [],
   "source": [
    "fomula.my_max(2, 3)"
   ]
  },
  {
   "cell_type": "code",
   "execution_count": null,
   "id": "5b8c3290-c5dd-4fa4-b138-08b413cc0628",
   "metadata": {},
   "outputs": [],
   "source": [
    "fomula = 1234\n",
    "from myPackage.math import fomula as f\n",
    "print(fomula)\n",
    "print(f)"
   ]
  },
  {
   "cell_type": "code",
   "execution_count": null,
   "id": "f72f7633-a8dd-4584-afa1-13827daaf55e",
   "metadata": {},
   "outputs": [],
   "source": [
    "import math"
   ]
  },
  {
   "cell_type": "code",
   "execution_count": null,
   "id": "25596ab0-98a1-4ece-b560-e83977d79753",
   "metadata": {},
   "outputs": [],
   "source": [
    "math.pi"
   ]
  },
  {
   "cell_type": "code",
   "execution_count": null,
   "id": "6f080939-0248-4212-87d4-d747fae188b0",
   "metadata": {},
   "outputs": [],
   "source": [
    "math.e"
   ]
  },
  {
   "cell_type": "code",
   "execution_count": null,
   "id": "3cb420e5-daee-4b62-99fe-5aadc0c4c1e1",
   "metadata": {},
   "outputs": [],
   "source": [
    "math.ceil(math.e)"
   ]
  },
  {
   "cell_type": "code",
   "execution_count": null,
   "id": "2edf237e-afe2-4348-b446-3005c22dd06c",
   "metadata": {},
   "outputs": [],
   "source": [
    "math.ceil(math.e)"
   ]
  },
  {
   "cell_type": "code",
   "execution_count": null,
   "id": "ca4f6419-2def-4847-9015-eb138b63f4bd",
   "metadata": {},
   "outputs": [],
   "source": [
    "math.floor(math.e)"
   ]
  },
  {
   "cell_type": "code",
   "execution_count": null,
   "id": "ed15ab11-66e1-4b92-98ca-a79b968c8833",
   "metadata": {},
   "outputs": [],
   "source": [
    "math.sqrt(9) # 루트값 계산"
   ]
  },
  {
   "cell_type": "code",
   "execution_count": null,
   "id": "43710c99-7f96-4c26-bd4c-395918b6c7d4",
   "metadata": {},
   "outputs": [],
   "source": [
    "math.factorial(10)"
   ]
  },
  {
   "cell_type": "code",
   "execution_count": null,
   "id": "e85b5d13-b380-4c7d-aefd-e1a955fee086",
   "metadata": {},
   "outputs": [],
   "source": [
    "from math import sqrt, factorial"
   ]
  },
  {
   "cell_type": "code",
   "execution_count": null,
   "id": "fbc69114-46a4-4c27-bcf7-5cb5fdb90ffd",
   "metadata": {},
   "outputs": [],
   "source": [
    "sqrt(9)"
   ]
  },
  {
   "cell_type": "code",
   "execution_count": null,
   "id": "80e8908a-f1dd-4b2f-96b5-0b2d019410f4",
   "metadata": {},
   "outputs": [],
   "source": [
    "factorial(5)"
   ]
  },
  {
   "cell_type": "code",
   "execution_count": null,
   "id": "1bd98e4c-61f6-477b-9b17-cee1c7a056ac",
   "metadata": {},
   "outputs": [],
   "source": [
    "import random"
   ]
  },
  {
   "cell_type": "code",
   "execution_count": null,
   "id": "03fe2d2d-c9e9-43e2-94b2-2410d02b00e3",
   "metadata": {},
   "outputs": [],
   "source": [
    "random.random() # 모듈명.함수명() | 실행할 때마다 1-0 사이의 랜덤한 소수 만들어줌 -> 실행할 때마다 숫자 달라짐"
   ]
  },
  {
   "cell_type": "code",
   "execution_count": null,
   "id": "9f20f202-fd66-4396-9820-3b116665ce3f",
   "metadata": {},
   "outputs": [],
   "source": [
    "#자연수 랜덤으로 부르기\n",
    "random.randint(1, 10) # 내가 지정한 범위 내에서 랜덤한 숫자 뽑음"
   ]
  },
  {
   "cell_type": "code",
   "execution_count": null,
   "id": "885db222-5359-4636-a7f6-eb915f91dbf1",
   "metadata": {},
   "outputs": [],
   "source": [
    "random.seed(123) # \n",
    "random.random()"
   ]
  },
  {
   "cell_type": "raw",
   "id": "60e989f3-9757-40fd-a0f8-058909b280e0",
   "metadata": {},
   "source": []
  },
  {
   "cell_type": "code",
   "execution_count": null,
   "id": "b5e09c3f-e3fb-4e49-aa90-4f42120c511e",
   "metadata": {},
   "outputs": [],
   "source": [
    "numbers = [1,2,3,4,5]\n",
    "random.shuffle(numbers) # 리스트 무작위로 섞어줌\n",
    "print(numbers)"
   ]
  },
  {
   "cell_type": "code",
   "execution_count": null,
   "id": "7caa747a-3a97-4a63-94a9-c66362702e56",
   "metadata": {},
   "outputs": [],
   "source": [
    "random.choice(numbers) # 리스트의 데이터 중 하나를 무작위로 뽑음 -> 복원추출 방식"
   ]
  },
  {
   "cell_type": "code",
   "execution_count": null,
   "id": "564dfcc3-7e4f-483c-93e1-7261a94b0712",
   "metadata": {},
   "outputs": [],
   "source": [
    "random.sample(numbers, 2)"
   ]
  },
  {
   "cell_type": "code",
   "execution_count": null,
   "id": "405a335c-f2f8-46f1-a298-2ba0c1a9a173",
   "metadata": {},
   "outputs": [],
   "source": [
    "from datetime import datetime"
   ]
  },
  {
   "cell_type": "code",
   "execution_count": null,
   "id": "1480a520-7fb7-4de9-9883-ce17f43407c0",
   "metadata": {},
   "outputs": [],
   "source": [
    "datetime.now()"
   ]
  },
  {
   "cell_type": "code",
   "execution_count": null,
   "id": "36428173-278e-4dba-9148-2724ed723e0f",
   "metadata": {},
   "outputs": [],
   "source": [
    "datetime.today()"
   ]
  },
  {
   "cell_type": "code",
   "execution_count": null,
   "id": "df19a8d4-436a-4317-8394-2c40d682ab30",
   "metadata": {},
   "outputs": [],
   "source": [
    "datetime.utcnow()"
   ]
  },
  {
   "cell_type": "code",
   "execution_count": null,
   "id": "d3b9a142-8c50-43d0-a791-3cd872aa84f2",
   "metadata": {},
   "outputs": [],
   "source": [
    "now = datetime.now() # 저장한 순간의 시간을 now에 저장한 것 -> 시간 흐르지 않고 숫자 멈춰 있음"
   ]
  },
  {
   "cell_type": "code",
   "execution_count": null,
   "id": "efe073c7-f100-42f4-b4d2-096a742ac05a",
   "metadata": {},
   "outputs": [],
   "source": [
    "now"
   ]
  },
  {
   "cell_type": "code",
   "execution_count": null,
   "id": "262834ca-99d1-4782-9283-20ba784c5a44",
   "metadata": {},
   "outputs": [],
   "source": [
    "now.year # 이런 식으로 now 변수의 각 요소에 접근 가능"
   ]
  },
  {
   "cell_type": "code",
   "execution_count": null,
   "id": "d96aefd9-acda-4490-81c6-1bbbed369ce9",
   "metadata": {},
   "outputs": [],
   "source": [
    "now.day"
   ]
  },
  {
   "cell_type": "code",
   "execution_count": null,
   "id": "fdc669ce-11cc-4602-ac3f-94c9c6bde6a0",
   "metadata": {},
   "outputs": [],
   "source": [
    "print(now)"
   ]
  },
  {
   "cell_type": "code",
   "execution_count": null,
   "id": "ef772b67-0b3f-4596-ad76-d0180b609026",
   "metadata": {},
   "outputs": [],
   "source": [
    "now.strftime('%Y년 %m월 %d일') # 내가 원하는 포맷으로 설정하기"
   ]
  },
  {
   "cell_type": "code",
   "execution_count": null,
   "id": "0fd1a5e3-8f04-4d14-8365-d99cb0b95131",
   "metadata": {},
   "outputs": [],
   "source": [
    "x_mas = datetime(2025, 12, 25) # 직접 시간 정보 입력\n",
    "print(x_mas)"
   ]
  },
  {
   "cell_type": "code",
   "execution_count": null,
   "id": "599e0c33-24e6-4556-a5df-a7f85fab117d",
   "metadata": {},
   "outputs": [],
   "source": [
    "from datetime import timedelta"
   ]
  },
  {
   "cell_type": "code",
   "execution_count": null,
   "id": "e9819bee-0cec-4cfe-8268-e7c8fd329ba7",
   "metadata": {},
   "outputs": [],
   "source": [
    "future = timedelta(days = 3) # timedelta(): 변화량 수치화하는 함수\n",
    "print(x_mas + future) # 크리스마스로부터 3일 뒤가 며칠인지 출력"
   ]
  },
  {
   "cell_type": "code",
   "execution_count": null,
   "id": "18e7eb2b-414b-47e7-938d-0101b6148477",
   "metadata": {},
   "outputs": [],
   "source": [
    "x_mas - now"
   ]
  },
  {
   "cell_type": "code",
   "execution_count": null,
   "id": "89006f84-a0d2-4e35-8ace-2d147a978544",
   "metadata": {},
   "outputs": [],
   "source": [
    "import requests"
   ]
  },
  {
   "cell_type": "code",
   "execution_count": null,
   "id": "830ad6c7-8339-4a9e-8bd1-fc8a32a89a20",
   "metadata": {},
   "outputs": [],
   "source": [
    "r = requests.get('https://api.github.com/events') # github의 api 기능이 제대로 돌아가는지 알려주는 페이지임"
   ]
  },
  {
   "cell_type": "code",
   "execution_count": null,
   "id": "b9d7f38c-8941-42f3-8fd1-c94c18173831",
   "metadata": {},
   "outputs": [],
   "source": [
    "r = requests.get('http://naver.com') # naver.com 열고 개발자 모드 열었을 때 나오는 코드를 텍스트 덩어리로 가져와달란 것\n",
    "print(r.text)"
   ]
  },
  {
   "cell_type": "code",
   "execution_count": null,
   "id": "87cea8c4-f5fa-46ff-946e-e2a7d8d49eb8",
   "metadata": {},
   "outputs": [],
   "source": [
    "payload = {'key': 'value1', 'key': 'value2'}\n",
    "r = requests.get('https://httpbin.org/get', params = payload)\n",
    "# requests모듈이 가진 get이라는 함수 실행 >> get 함수(링크, params라는 공간에 payload dict를 넣은 것)\n",
    "print(r.url)\n",
    "print(r.text)\n",
    "\n",
    "?라는 기준을을 중심으로 (key, value) 쌍이 있음\n",
    "검색창에 검색하는 행위 = 주소창의 query='' -> 여기에 다른 정보 입력해 이동하는 것이나 다름 없음 -> 이런 정보 컨트롤 하는 게 파라미터인 것\n",
    "물음표 기준으로 2개 데이터 분기처리됨: 앞: 주소 | 뒤: 선택적인 정보란 것(반드시 필요한 건 아님), 데이터 덩어리임\n",
    "    ?: 뒤에 특정 데이터 들어올 거라는 것을 알리는 분기점임\n",
    "주소창도 (키=밸류)가 &로 연결돼 있는 일종의 dict임"
   ]
  },
  {
   "cell_type": "code",
   "execution_count": null,
   "id": "36ff1e5b-890e-48ff-98b7-14d83dda44b7",
   "metadata": {},
   "outputs": [],
   "source": [
    "payload = {'query': '파이썬'}\n",
    "r = requests.get('https://www.naver.com/', params = payload)\n",
    "print(r.url)"
   ]
  },
  {
   "cell_type": "code",
   "execution_count": null,
   "id": "d72d1ef0-2c0a-4017-ae86-2458c09bd108",
   "metadata": {},
   "outputs": [],
   "source": [
    "r = requests.get('http://api.github.com/events')\n",
    "print(type(r.text)) # dict는 []로 특정 키 접근 가능 >> 근데 str여서 안 됨\n",
    "    # 파이썬은 dict이라 하는데 다른 곳에선 제이슨이라 부름 파이썬의 dict과 동일하다며 dict로 바꿔주는 함수가 json() 함수임\n",
    "print(r.json()['message']) # python의 dict과 비슷한 유형을 dict 형식으로 전환해주는 함수임"
   ]
  },
  {
   "cell_type": "code",
   "execution_count": 14,
   "id": "9e349828-81e0-4a07-a5ab-7dcf1ff5cbde",
   "metadata": {},
   "outputs": [
    {
     "name": "stdout",
     "output_type": "stream",
     "text": [
      "{'totSellamnt': 124802304000, 'returnValue': 'success', 'drwNoDate': '2025-02-15', 'firstWinamnt': 1284854250, 'drwtNo6': 39, 'drwtNo4': 28, 'firstPrzwnerCo': 23, 'drwtNo5': 38, 'bnusNo': 7, 'firstAccumamnt': 29551647750, 'drwNo': 1159, 'drwtNo2': 9, 'drwtNo3': 27, 'drwtNo1': 3}\n",
      "2025-02-15\n",
      "3\n",
      "9\n",
      "27\n",
      "28\n",
      "38\n",
      "39\n"
     ]
    }
   ],
   "source": [
    "import requests\n",
    "lotto_url = 'https://www.dhlottery.co.kr/common.do' # 로또 주소만 남기기\n",
    "\n",
    "payload = {\n",
    "    'method': 'getLottoNumber',\n",
    "    'drwNo': 1159,\n",
    "}\n",
    "\n",
    "# 위에서 주소를 변수로 만들어놨으니 이거 쓰기\n",
    "r = requests.get(lotto_url, params=payload)\n",
    "#print(r.url)\n",
    "# 이러면 1159회의 링크 만들어줌\n",
    "\n",
    "#print(r.text) # 근데 이거는 제이슨 type 데이터로 str이기에 []로 개별 key 접근 안 됨 | json 구조는 : 앞뒤 붙어있음, python의 dict은 앞뒤 떨어져 있음\n",
    "\n",
    "print(r.json()) # r.json(): python에서 활용 가능한 dict으로 변경해줌\n",
    "\n",
    "lotto_dict = r.json() # 이러면 dict인 lotto_dict를 []로 각 개별 key 접근 가능\n",
    "\n",
    "print(lotto_dict['drwNoDate']) # dict는 이렇게 [] 접근 가능\n",
    "\n",
    "# 이러면 당첨 번호 하나씩 출력해줌 -> 이 구조 그래도 유지하면, 위에서 회수만 달리 입력해서 당첨 번호 확인 가능\n",
    "\n",
    "print(lotto_dict['drwtNo1'])\n",
    "print(lotto_dict['drwtNo2'])\n",
    "print(lotto_dict['drwtNo3'])\n",
    "print(lotto_dict['drwtNo4'])\n",
    "print(lotto_dict['drwtNo5'])\n",
    "print(lotto_dict['drwtNo6'])\n"
   ]
  },
  {
   "cell_type": "code",
   "execution_count": 16,
   "id": "79c566f5-870c-4d92-801b-bdb156ce47e3",
   "metadata": {},
   "outputs": [
    {
     "name": "stdout",
     "output_type": "stream",
     "text": [
      "3\n",
      "9\n",
      "27\n",
      "28\n",
      "38\n",
      "39\n"
     ]
    }
   ],
   "source": [
    "# 당첨 번호 코드 압축하기\n",
    "\n",
    "# 로또 번호 갯수 6개니까 범위 설정\n",
    "\n",
    "\n",
    "for i in range(1, 7): \n",
    "    print(lotto_dict[f'drwtNo{i}']) # drwtoNo라는 key에 1부터 6까지의 숫자 i를 붙이기 위해 string의 f로 연결\n",
    "\n",
    "\n",
    "    "
   ]
  },
  {
   "cell_type": "markdown",
   "id": "963bddac-dd5e-4a87-b38b-f8171c17a6bb",
   "metadata": {},
   "source": [
    "### 협업 실습: 로또 번호 추첨해서, 그게 1등인지 출력해주는 것 만들기\n",
    "\n",
    "1. 로또 5천원 구매 >> 랜덤으로 6개 숫자로 이뤄진 5개 세트의 로또 번호 생성: 6개 번호 동일해야 함, 2등은 5개 일치 + 보너스 번호 맞을 시\n",
    "2. 등수 확인 >> 최신회차 당첨번호와 생성된 번호 비교해 몇등인지 출력\n",
    "\n",
    "1,3,4,5,꽝 먼저 비교하고\n",
    "이후 2등 나중에 하는 게 좋음"
   ]
  },
  {
   "cell_type": "code",
   "execution_count": null,
   "id": "e43d17ba-4128-4921-8500-68fc55d047ef",
   "metadata": {},
   "outputs": [],
   "source": [
    "for i in range(1, 7): \n",
    "    print(lotto_dict[f'drwtNo{i}'])"
   ]
  },
  {
   "cell_type": "code",
   "execution_count": 22,
   "id": "0b6d76db-519f-4949-bdc2-25d431aa9fe7",
   "metadata": {},
   "outputs": [
    {
     "ename": "SyntaxError",
     "evalue": "'return' outside function (3696514256.py, line 4)",
     "output_type": "error",
     "traceback": [
      "\u001b[1;36m  Cell \u001b[1;32mIn[22], line 4\u001b[1;36m\u001b[0m\n\u001b[1;33m    return i\u001b[0m\n\u001b[1;37m    ^\u001b[0m\n\u001b[1;31mSyntaxError\u001b[0m\u001b[1;31m:\u001b[0m 'return' outside function\n"
     ]
    }
   ],
   "source": [
    "import random\n",
    "nums = range(1, 46)\n",
    "a = random.sample(nums, 6)\n",
    "print(a)\n",
    "\n",
    "list1 = ['a','b','c','d','e']\n",
    "for i in list1:\n",
    "    i = random.sample(nums, 6)\n",
    "print(i)"
   ]
  },
  {
   "cell_type": "code",
   "execution_count": 37,
   "id": "217f6104-d39c-4ef8-82d5-229ff66bdc83",
   "metadata": {},
   "outputs": [
    {
     "name": "stdout",
     "output_type": "stream",
     "text": [
      "[3, 9, 27, 28, 38, 39]\n"
     ]
    }
   ],
   "source": [
    "result = []\n",
    "for i in range(1, 7): \n",
    "    result.append(lotto_dict[f'drwtNo{i}'])\n",
    "print(result)"
   ]
  },
  {
   "cell_type": "code",
   "execution_count": 52,
   "id": "4648277c-a4bc-49bd-94c2-bcc8fa44525d",
   "metadata": {},
   "outputs": [
    {
     "ename": "SyntaxError",
     "evalue": "invalid syntax. Perhaps you forgot a comma? (1324106577.py, line 2)",
     "output_type": "error",
     "traceback": [
      "\u001b[1;36m  Cell \u001b[1;32mIn[52], line 2\u001b[1;36m\u001b[0m\n\u001b[1;33m    result = {'a:' [],\u001b[0m\n\u001b[1;37m              ^\u001b[0m\n\u001b[1;31mSyntaxError\u001b[0m\u001b[1;31m:\u001b[0m invalid syntax. Perhaps you forgot a comma?\n"
     ]
    }
   ],
   "source": [
    "numbers = range(1, 46)\n",
    "result = {'a:' [],\n",
    "          'b:' [],\n",
    "         'c:' [],\n",
    "         'd:' [],\n",
    "         'e:' []}\n",
    "\n",
    "keys = ['a', 'b', 'c', 'd', 'e']\n",
    "\n",
    "list = []\n",
    "\n",
    "for i in range(1, 7):\n",
    "    num = random.sample(numbers, 6)\n",
    "    result[key[i]] num\n",
    "print(result)\n"
   ]
  },
  {
   "cell_type": "code",
   "execution_count": 53,
   "id": "999df9d5-0640-41a6-bf68-de3c7849e52e",
   "metadata": {},
   "outputs": [
    {
     "ename": "SyntaxError",
     "evalue": "'return' outside function (2973260304.py, line 7)",
     "output_type": "error",
     "traceback": [
      "\u001b[1;36m  Cell \u001b[1;32mIn[53], line 7\u001b[1;36m\u001b[0m\n\u001b[1;33m    return '5등'\u001b[0m\n\u001b[1;37m    ^\u001b[0m\n\u001b[1;31mSyntaxError\u001b[0m\u001b[1;31m:\u001b[0m 'return' outside function\n"
     ]
    }
   ],
   "source": [
    "for k, v in my_lotto.items():\n",
    "    difference = len(list(set(v) - set(result)))\n",
    "    if difference >= 4 :\n",
    "        k = '꽝'\n",
    "        print(k)\n",
    "    elif difference >= 3:\n",
    "        return '5등'\n",
    "    elif difference >= 2:\n",
    "        return '4등'\n",
    "    elif difference >= 1:\n",
    "        return '3등'\n",
    "    else:\n",
    "        return '1등'\n",
    "        \n"
   ]
  },
  {
   "cell_type": "code",
   "execution_count": null,
   "id": "9a11077f-8df9-459a-982f-c4aa06ccea12",
   "metadata": {},
   "outputs": [],
   "source": [
    "new = {}\n",
    "for k, v in my_lotto.items():\n",
    "    difference = len(list(set(v) - set(result)))\n",
    "    if difference >= 4 :\n",
    "        new.append(f'{k}: 꽝')\n",
    "\n",
    "\n",
    "print(new)"
   ]
  },
  {
   "cell_type": "code",
   "execution_count": 79,
   "id": "984fcb20-5b8a-4e7d-80a4-3cf76c633e4f",
   "metadata": {},
   "outputs": [
    {
     "name": "stdout",
     "output_type": "stream",
     "text": [
      "{1: [5, 16, 21, 28, 31, 32], 2: [14, 19, 20, 23, 34, 41], 3: [5, 18, 23, 29, 31, 37], 4: [19, 26, 33, 34, 35, 40], 5: [6, 8, 13, 17, 33, 37]}\n"
     ]
    }
   ],
   "source": [
    "import random\n",
    "\n",
    "my_numbers = {}\n",
    "\n",
    "# {1회차: [랜덤번호], 2회차: [번호]} 이런 식으로 만들 것\n",
    "for i in range(1, 6):\n",
    "    random_numbers = random.sample(range(1, 46), 6) #랜덤번호 만들어 해당 변수에 저장 >> 1-45까지의 숫자 중 6개 뽑기 -> 이렇게 6개의 랜덤 숫자 뽑는 과정을 5세트 할 것\n",
    "    # 효율화 위해, 5세트 번호를 my_number dict에 추가해 저장하기\n",
    "    random_numbers.sort() # 랜덤번호 오름차순 정렬 -> 보기 편하게 만든 것\n",
    "    my_numbers[i] = random_numbers #5번 반복해 번호 생성할 텐데, 그 번호를 i번째에 dict에 저장할 것\n",
    "print(my_numbers)"
   ]
  },
  {
   "cell_type": "code",
   "execution_count": 72,
   "id": "71c29032-2476-4166-accb-60a489e8baf2",
   "metadata": {},
   "outputs": [
    {
     "name": "stdout",
     "output_type": "stream",
     "text": [
      "[39, 28, 38, 9, 27, 3]\n"
     ]
    }
   ],
   "source": [
    "# 최신 회차 당첨번호 수집\n",
    "import requests\n",
    "\n",
    "# 로또 주소 부르기\n",
    "LOTTO_URL = 'https://www.dhlottery.co.kr/common.do'\n",
    "    # 파이썬에선 주로 상수를 대문자로 작성\n",
    "payload = {\n",
    "    'method': 'getLottoNumber',\n",
    "    'drwNo': 1159}\n",
    "\n",
    "# res: requests의 짝꿍인 respones 의미\n",
    "res = requests.get(LOTTO_URL, params=payload)\n",
    "lotto_dict = (r.json()) # json을 dict로 변경\n",
    "    # 필요한 정보인 당첨번호 6자리, 보너스 번호 1개만 뽑을 필요 있음\n",
    "\n",
    "# 보너스 번호 저장\n",
    "bonus_number = lotto_dict['bnusNo']\n",
    "\n",
    "# 당첨번호 저장하기\n",
    "lucky_numbers = []\n",
    "# lotto_dict의 모든 데이터를 한번씩 조회하기 >> 이후 key가 drwtNo로 시작하는 정보만 고르기\n",
    "for k, v in lotto_dict.items():\n",
    "    if 'drwtNo' in k: # dict에 들어있는 key 이름에 해당 글자 포함돼 있는지\n",
    "        lucky_numbers.append(v) # 그렇다면 lucky_number에 value를 추가하겠단 것\n",
    "print(lucky_numbers)\n"
   ]
  },
  {
   "cell_type": "code",
   "execution_count": null,
   "id": "9c8c9bcb-fc6a-43bd-8fba-dc978c5335f3",
   "metadata": {},
   "outputs": [],
   "source": [
    "# 이를 통해 우리가 얻게 된 정보\n",
    "print(my_numbers) # 5세트의 로또 번호\n",
    "print(lucky_numbers) # 당첨 번호\n",
    "print(bonus_number) # 당첨 번호 중 보너스 번호"
   ]
  },
  {
   "cell_type": "code",
   "execution_count": 82,
   "id": "5cc53469-8300-4c73-96a5-b4c2afecf0bb",
   "metadata": {},
   "outputs": [
    {
     "name": "stdout",
     "output_type": "stream",
     "text": [
      "꽝\n",
      "꽝\n",
      "꽝\n",
      "꽝\n",
      "꽝\n"
     ]
    }
   ],
   "source": [
    "# 3. 등수 확인\n",
    "\n",
    "## 원리\n",
    "#for key, value in my_numbers.items(): # 5개의 회차 반복하기\n",
    "#    for i in value: # 한 회차의 6개 숫자 반복하기\n",
    "#        for j in range(6): # 당첨 번호와 일일이 반복하기\n",
    "#            if i == lucky_numbers[j] # 일치하면 카운트 +1하기\n",
    "# >> 이런 식으로 진행될 것 >> 근데 이렇게 하면 복잡\n",
    "\n",
    "# set는 수학의 집합과 비슷한 개념 >> 내 번호, 당첨번호 사이의 교집합 계산해서 비교할 것\n",
    "\n",
    "for my_number in my_numbers.values(): # 내 로또 dict 중 value만 반복하기\n",
    "    # 집합 활용하기 위해, set로 형변환\n",
    "    my_number_set = set(my_number)\n",
    "    lucky_numbers_set = set(lucky_numbers)\n",
    "    match_count = len(my_number_set & lucky_numbers_set)\n",
    "        # 교집합 연산하기 >> 교집합의 갯수 확인 위해 len() 활용\n",
    "    if match_count == 6:\n",
    "        print('1등')\n",
    "    elif match_count == 5 and bonus_number in my_number:\n",
    "        # and: 왼/오 조건 모두 만족할 때 true 반환함 | my_number 안에 bonus_number 있는지 묻는 것\n",
    "        print('2등')\n",
    "    elif match_count == 5:\n",
    "        print('3등')\n",
    "    elif match_count == 4:\n",
    "        print('4등')\n",
    "    elif match_count == 3:\n",
    "        print('5등')\n",
    "    else:\n",
    "        print('꽝')"
   ]
  },
  {
   "cell_type": "code",
   "execution_count": 87,
   "id": "267a0a65-bbaf-424b-b285-c58ee92c353c",
   "metadata": {},
   "outputs": [
    {
     "name": "stdin",
     "output_type": "stream",
     "text": [
      "숫자를 입력해주세요 ㅇㅇ\n"
     ]
    },
    {
     "name": "stdout",
     "output_type": "stream",
     "text": [
      "숫자를 입력해달라고!\n"
     ]
    }
   ],
   "source": [
    "try:\n",
    "    number = int(input('숫자를 입력해주세요'))\n",
    "    print(f'입력하신 {number}의 세 제곱은 {number ** 3}입니다.')\n",
    "except:\n",
    "    print('숫자를 입력해달라고!')"
   ]
  },
  {
   "cell_type": "code",
   "execution_count": 97,
   "id": "e27a2f16-b99a-4d65-98bb-e188ad4293c0",
   "metadata": {},
   "outputs": [
    {
     "name": "stdin",
     "output_type": "stream",
     "text": [
      "100을 무엇으로 나누겠습니까? 2\n"
     ]
    },
    {
     "name": "stdout",
     "output_type": "stream",
     "text": [
      "100을 2으로 나눈 값은 50.0입니다.\n"
     ]
    }
   ],
   "source": [
    "# 문자 입력한 경우 외에도 >> 100을 0으로 나누려 하면 에러 나므로, except로 넘어가므로 달리 처리해줘야 함\n",
    "try:\n",
    "    num = int(input('100을 무엇으로 나누겠습니까?'))\n",
    "    print(f'100을 {num}으로 나눈 값은 {100/num}입니다.')\n",
    "except ValueError: # 숫자를 입력하지 않은 경우\n",
    "    print('입력한 데이터는 숫자가 아닙니다.')\n",
    "except ZeroDivisionError:\n",
    "    print('모든 수는 0으로 나눌 수 없습니다')\n",
    "    \n",
    "\n"
   ]
  },
  {
   "cell_type": "code",
   "execution_count": 101,
   "id": "403134a0-6cb4-4c34-9abd-19c68eea22e2",
   "metadata": {},
   "outputs": [
    {
     "name": "stdout",
     "output_type": "stream",
     "text": [
      "여기는 else입니다\n"
     ]
    }
   ],
   "source": [
    "try:\n",
    "    numbers = [1,2,3]\n",
    "    numbers[1]\n",
    "except:\n",
    "    print('오류')\n",
    "\n",
    "# try를 만나서 일단 코드 실행했고 >> 이후 except 만나지 않은 경우 실행되는 코드임\n",
    "# 에러 안 났을 때만 실행되는 코드임\n",
    "else:\n",
    "    print('여기는 else입니다')\n"
   ]
  },
  {
   "cell_type": "code",
   "execution_count": 103,
   "id": "e92aea78-51e7-4184-bfea-9ca17336cda3",
   "metadata": {},
   "outputs": [
    {
     "name": "stdout",
     "output_type": "stream",
     "text": [
      "오류\n",
      "여기는 else입니다\n"
     ]
    }
   ],
   "source": [
    "try:\n",
    "    numbers = [1,2,3]\n",
    "    numbers[100]\n",
    "except:\n",
    "    print('오류')\n",
    "\n",
    "# 에러 나든 안 나든 무조건 실행되는 코드\n",
    "finally:\n",
    "    print('여기는 else입니다')\n"
   ]
  },
  {
   "cell_type": "code",
   "execution_count": 115,
   "id": "7ea41be3-ec2f-4a6b-9f3a-35ebd181efab",
   "metadata": {},
   "outputs": [
    {
     "data": {
      "text/plain": [
       "'0으로 나눌 수 없음'"
      ]
     },
     "execution_count": 115,
     "metadata": {},
     "output_type": "execute_result"
    }
   ],
   "source": [
    "def my_div(a, b):\n",
    "    try:\n",
    "        return a / b\n",
    "\n",
    "    # 에러 경우의 수에 따라 except 별도로 지정할 수 있음\n",
    "    except (ValueError, TypeError):\n",
    "        return '숫자를 넣어주세요'\n",
    "    except ZeroDivisionError:\n",
    "        return '0으로 나눌 수 없음'\n",
    "\n",
    "    # 기타 다른 에러 난 경우 해당 문자열 출력하도록 한 것\n",
    "    except:\n",
    "        return '무언가 잘못됨'\n",
    "        \n",
    "my_div(2,0)"
   ]
  }
 ],
 "metadata": {
  "kernelspec": {
   "display_name": "Python 3 (ipykernel)",
   "language": "python",
   "name": "python3"
  },
  "language_info": {
   "codemirror_mode": {
    "name": "ipython",
    "version": 3
   },
   "file_extension": ".py",
   "mimetype": "text/x-python",
   "name": "python",
   "nbconvert_exporter": "python",
   "pygments_lexer": "ipython3",
   "version": "3.13.2"
  }
 },
 "nbformat": 4,
 "nbformat_minor": 5
}
