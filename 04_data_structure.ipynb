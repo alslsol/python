{
 "cells": [
  {
   "cell_type": "code",
   "execution_count": 4,
   "id": "718c7390-e9d7-4a99-9582-8775f37fb138",
   "metadata": {},
   "outputs": [
    {
     "name": "stdout",
     "output_type": "stream",
     "text": [
      "['__add__', '__class__', '__contains__', '__delattr__', '__dir__', '__doc__', '__eq__', '__format__', '__ge__', '__getattribute__', '__getitem__', '__getnewargs__', '__getstate__', '__gt__', '__hash__', '__init__', '__init_subclass__', '__iter__', '__le__', '__len__', '__lt__', '__mod__', '__mul__', '__ne__', '__new__', '__reduce__', '__reduce_ex__', '__repr__', '__rmod__', '__rmul__', '__setattr__', '__sizeof__', '__str__', '__subclasshook__', 'capitalize', 'casefold', 'center', 'count', 'encode', 'endswith', 'expandtabs', 'find', 'format', 'format_map', 'index', 'isalnum', 'isalpha', 'isascii', 'isdecimal', 'isdigit', 'isidentifier', 'islower', 'isnumeric', 'isprintable', 'isspace', 'istitle', 'isupper', 'join', 'ljust', 'lower', 'lstrip', 'maketrans', 'partition', 'removeprefix', 'removesuffix', 'replace', 'rfind', 'rindex', 'rjust', 'rpartition', 'rsplit', 'rstrip', 'split', 'splitlines', 'startswith', 'strip', 'swapcase', 'title', 'translate', 'upper', 'zfill']\n"
     ]
    }
   ],
   "source": [
    "print(dir('hello')) # hello가 가진 기능을 모두 보여주는 것"
   ]
  },
  {
   "cell_type": "code",
   "execution_count": 6,
   "id": "7eb17346-5e62-49a3-8d7e-b27368d585d5",
   "metadata": {},
   "outputs": [
    {
     "name": "stdout",
     "output_type": "stream",
     "text": [
      "hello my name is park\n"
     ]
    }
   ],
   "source": [
    "a = 'hello my name is park'\n",
    "print(a)\n",
    "# 문자열은 수정불가능 함 >> 일부만 수정하려 할 때 데이터 덮어쓰기 해야 함"
   ]
  },
  {
   "cell_type": "code",
   "execution_count": 9,
   "id": "4f402127-72ad-4a70-a603-cce6946657c8",
   "metadata": {},
   "outputs": [
    {
     "name": "stdout",
     "output_type": "stream",
     "text": [
      "Hello my name is park\n"
     ]
    }
   ],
   "source": [
    "a.capitalize() # 시작 글자를 대문자로 전환해줌 -> a라는 함수가 가진 capitalize 함수를 실행해달라는 것\n",
    "    # 'hello my name is park'.capitalize() 라고 해도 동일\n",
    "    # 데이터 자체를 바꾸는 건X, return 값만 전환해준 것 >> 원본 데이터가 수정되는 건X"
   ]
  },
  {
   "cell_type": "code",
   "execution_count": 12,
   "id": "93e128ec-a99e-4f26-b3c9-f7e949df6f84",
   "metadata": {},
   "outputs": [
    {
     "data": {
      "text/plain": [
       "'my name is sori'"
      ]
     },
     "execution_count": 12,
     "metadata": {},
     "output_type": "execute_result"
    }
   ],
   "source": [
    "# 여러 단어 쪼개져 있는데 하나의 문장으로 묶어 출력하고 싶다면\n",
    "my_list = ['my', 'name', 'is', 'sori']\n",
    "' '.join(my_list) # 각 단어 사이를 띄어쓰기 넣어 묶는 것"
   ]
  },
  {
   "cell_type": "code",
   "execution_count": 13,
   "id": "6b653fcf-99b7-439e-b380-055e8953071c",
   "metadata": {},
   "outputs": [
    {
     "data": {
      "text/plain": [
       "'배?고?프?다'"
      ]
     },
     "execution_count": 13,
     "metadata": {},
     "output_type": "execute_result"
    }
   ],
   "source": [
    "'?'.join('배고프다') # 문자열, 리스트 모두 시퀀스형 데이터임 -> 그래서 각 단어 중간에 물음표 들어간 것"
   ]
  },
  {
   "cell_type": "code",
   "execution_count": 16,
   "id": "3bf24579-221f-486f-ae79-ce4910fb27a0",
   "metadata": {},
   "outputs": [
    {
     "name": "stdout",
     "output_type": "stream",
     "text": [
      "   hello   \n",
      "\n"
     ]
    },
    {
     "data": {
      "text/plain": [
       "'hello'"
      ]
     },
     "execution_count": 16,
     "metadata": {},
     "output_type": "execute_result"
    }
   ],
   "source": [
    "a = '   hello   \\n'\n",
    "print(a)\n",
    "# 문자열 좌우 공백 있을 때 없애야 검색 용이함\n",
    "\n",
    "a.strip() # "
   ]
  },
  {
   "cell_type": "code",
   "execution_count": null,
   "id": "3fd3829b-6f38-4265-aee4-f7a19b0e83a2",
   "metadata": {},
   "outputs": [],
   "source": [
    "a.replace('o')\n",
    "c"
   ]
  },
  {
   "cell_type": "code",
   "execution_count": 18,
   "id": "cbccadd1-9c9a-4522-bfb0-8f5dfa7bf623",
   "metadata": {},
   "outputs": [],
   "source": [
    "numbers = [2, 6, 4, 8, 1]"
   ]
  },
  {
   "cell_type": "code",
   "execution_count": 19,
   "id": "0b65cac0-d791-4f2c-8123-85e28eee5230",
   "metadata": {},
   "outputs": [
    {
     "name": "stdout",
     "output_type": "stream",
     "text": [
      "[6, 4, 8, 1]\n"
     ]
    }
   ],
   "source": [
    "numbers.pop(0)\n",
    "print(numbers)"
   ]
  },
  {
   "cell_type": "code",
   "execution_count": 23,
   "id": "0fc77924-4f20-4776-8de3-700b77168632",
   "metadata": {},
   "outputs": [
    {
     "name": "stdout",
     "output_type": "stream",
     "text": [
      "[1, 2, 3]\n",
      "[1, 2, 3]\n"
     ]
    }
   ],
   "source": [
    "# 리스트 카피\n",
    "origin_list = [1,2,3]\n",
    "copy_list = origin_list\n",
    "\n",
    "print(origin_list)\n",
    "print(copy_list)"
   ]
  },
  {
   "cell_type": "code",
   "execution_count": 25,
   "id": "2b24f228-be49-4dff-966d-8a97e4fc313a",
   "metadata": {},
   "outputs": [
    {
     "name": "stdout",
     "output_type": "stream",
     "text": [
      "[100, 2, 3]\n",
      "[100, 2, 3]\n"
     ]
    }
   ],
   "source": [
    "copy_list[0] = 100 # 이러면 origin_list도 바뀌게 됨: 이는 실제 데이터 값은 다른 공간에 저장돼 있고, 각 변수가 가진 게 아니어서 >> copy_list 변경 시, origin_list도 동시에 변경되는 것\n",
    "print(origin_list)\n",
    "print(copy_list)"
   ]
  },
  {
   "cell_type": "code",
   "execution_count": 26,
   "id": "05b33c44-a4e9-46ca-8242-0ee5e1bf42b4",
   "metadata": {},
   "outputs": [
    {
     "name": "stdout",
     "output_type": "stream",
     "text": [
      "[1, 2, 3]\n",
      "[100, 2, 3]\n"
     ]
    }
   ],
   "source": [
    "# 독립적인 카피 리스트 만들려 한다면\n",
    "origin_list = [1,2,3]\n",
    "copy_list = origin_list[:]\n",
    "# [:] 처음부터 끝까지 슬라이싱 한다는 의미 >> 원본의 origin_list 전체를 슬라이싱해달라는 연산 명령어임\n",
    "    # 이 경우 copy_list 자체가 해당 데이터를 복사하게 됨\n",
    "\n",
    "copy_list[0] = 100\n",
    "\n",
    "print(origin_list)\n",
    "print(copy_list)"
   ]
  },
  {
   "cell_type": "code",
   "execution_count": 27,
   "id": "e1e1271c-96db-4dee-a57e-da3b7cc36b89",
   "metadata": {},
   "outputs": [
    {
     "name": "stdout",
     "output_type": "stream",
     "text": [
      "[1, 2, [-10, 11]]\n",
      "[100, 2, [-10, 11]]\n"
     ]
    }
   ],
   "source": [
    "origin_list = [1,2, [10, 11]]\n",
    "copy_list = origin_list[:]\n",
    "\n",
    "copy_list[0] = 100\n",
    "copy_list[2][0] = -10 # 두번째 리스트의 첫번째를 수정한단 것 >> 근데 두번째 리스트의 경우 슬라이싱 되지 않고, 이 경우 원본과 동일한 데이터 공간 공유\n",
    "\n",
    "print(origin_list)\n",
    "print(copy_list)"
   ]
  },
  {
   "cell_type": "code",
   "execution_count": 28,
   "id": "524852da-aad1-4f13-b1a5-779ca07111b3",
   "metadata": {},
   "outputs": [
    {
     "name": "stdout",
     "output_type": "stream",
     "text": [
      "[1, 2, [-10, 11]]\n",
      "[100, 2, [-10, -11]]\n"
     ]
    }
   ],
   "source": [
    "# 리스트 내 리스트 있을 때, 리스트 카피하는 방법\n",
    "import copy # copy라는 모듈/공구상자를 꺼낸 것 >> 이후 해당 모듈 내 기능을 활용할 것\n",
    "oring_list = [1, 2, [10, 11]]\n",
    "copy_list = copy.deepcopy(origin_list) # 카피라는 공구상자 내의 deepcopy라는 도구를 꺼내겠단 것\n",
    "    # 리스트 내 리스트 있더라도, 데이터 복제해서 가져오겠단 것\n",
    "copy_list[0] = 100\n",
    "copy_list[2][1] = -11\n",
    "\n",
    "print(origin_list)\n",
    "print(copy_list)"
   ]
  },
  {
   "cell_type": "code",
   "execution_count": 30,
   "id": "3a903ad8-7e23-4c05-9123-117f769f3b5a",
   "metadata": {},
   "outputs": [
    {
     "name": "stdout",
     "output_type": "stream",
     "text": [
      "[1, 2, 3, 4, 5, 6, 7, 8, 9, 10]\n",
      "[1, 8, 27, 64, 125, 216, 343, 512, 729, 1000]\n"
     ]
    }
   ],
   "source": [
    "numbers = list(range(1, 11)) # 1부터 10까지의 데이터 리스트 만들기\n",
    "print(numbers)\n",
    "\n",
    "# 각 데이터를 3제곱 하고 싶다면\n",
    "\n",
    "result = [] # 3제곱한 결과를 저장할 리스트 만듦\n",
    "\n",
    "for number in numbers:\n",
    "    temp = number ** 3 # 3제곱해서 임시 저장소에 저장\n",
    "    result.append(temp) # temp에 저장된 데이터를 result에 하나씩 추가\n",
    "\n",
    "print(result)"
   ]
  },
  {
   "cell_type": "code",
   "execution_count": 32,
   "id": "1da549a1-41cd-4bb3-a0b9-3b70ebc3cfe9",
   "metadata": {},
   "outputs": [
    {
     "name": "stdout",
     "output_type": "stream",
     "text": [
      "[1, 8, 27, 64, 125, 216, 343, 512, 729, 1000]\n"
     ]
    }
   ],
   "source": [
    "result = [number **3 for number in numbers]\n",
    "print(result)"
   ]
  },
  {
   "cell_type": "code",
   "execution_count": 37,
   "id": "8867f90f-9118-4ac5-899e-81b96c6e9b99",
   "metadata": {},
   "outputs": [
    {
     "name": "stdout",
     "output_type": "stream",
     "text": [
      "[2, 4, 6, 8, 10, 12, 14, 16, 18, 20, 22, 24, 26, 28, 30]\n",
      "[2, 4, 6, 8, 10, 12, 14, 16, 18, 20, 22, 24, 26, 28, 30]\n"
     ]
    }
   ],
   "source": [
    "#짝수만 고르기\n",
    "numbers = list(range(1, 31))\n",
    "result = []\n",
    "\n",
    "for number in numbers:\n",
    "    if number % 2 == 0:\n",
    "        result.append(number)\n",
    "print(result)\n",
    "\n",
    "#list comprehension으로 짝수만 고르기\n",
    "\n",
    "result = [number for number in numbers if number % 2 == 0]\n",
    "    # numbers 리스트 반복하는데, 2로 나눈 값이 0이면, number에 저장할 거란 것\n",
    "print(result)"
   ]
  },
  {
   "cell_type": "markdown",
   "id": "7b337c2a-644d-4b43-90e7-4da7f91eb039",
   "metadata": {},
   "source": [
    "# 연습문제: 모음제거"
   ]
  },
  {
   "cell_type": "code",
   "execution_count": 74,
   "id": "f01a98e6-09b6-4ae0-9f65-34a4345f3289",
   "metadata": {},
   "outputs": [
    {
     "name": "stdout",
     "output_type": "stream",
     "text": [
      "my nm s hng\n",
      "my nm s hngmy nm s hng\n",
      "my nm s hng\n"
     ]
    },
    {
     "data": {
      "text/plain": [
       "'my nm s hng'"
      ]
     },
     "execution_count": 74,
     "metadata": {},
     "output_type": "execute_result"
    }
   ],
   "source": [
    "word = 'my name is hong'\n",
    "# 모음: a, i, e, o, u\n",
    "\n",
    "# for/if\n",
    "a = ['a', 'i', 'e', 'o', 'u']\n",
    "\n",
    "result = []\n",
    "for i in word:\n",
    "    if i not in a:\n",
    "        result.append(i)\n",
    "print(''.join(result)) # 쪼개진 여러 단어를 하나의 문장으로 묶기\n",
    "\n",
    "# 다른버전\n",
    "for i in word:\n",
    "    if i not in 'aeiou':\n",
    "        result.append(i)\n",
    "print(''.join(result))\n",
    "\n",
    "# list comprehension\n",
    "result = [i for i in word if i not in a]\n",
    "print(''.join(result))\n",
    "\n",
    "# 가장 극단으로 줄인 경우\n",
    "''.join([i for i in word if i not in 'aeiou'])"
   ]
  },
  {
   "cell_type": "code",
   "execution_count": 76,
   "id": "22baac34-8b98-411a-9f09-943ac3870236",
   "metadata": {},
   "outputs": [
    {
     "name": "stdout",
     "output_type": "stream",
     "text": [
      "my nm s hng\n"
     ]
    }
   ],
   "source": [
    "# 먼저 모음을 제거한 뒤 word 원본 수정하기\n",
    "vowels = 'aeiou'\n",
    "for char in vowels:\n",
    "    word = word.replace(char, '') # char에 있는 정보를 ''(공란)로 바꿔달라는 것\n",
    "    # str 메소드는 원본 수정 안 됨 >> 그러니 원본 덮어쓰기 하는 것 \n",
    "print(word)\n"
   ]
  }
 ],
 "metadata": {
  "kernelspec": {
   "display_name": "Python 3 (ipykernel)",
   "language": "python",
   "name": "python3"
  },
  "language_info": {
   "codemirror_mode": {
    "name": "ipython",
    "version": 3
   },
   "file_extension": ".py",
   "mimetype": "text/x-python",
   "name": "python",
   "nbconvert_exporter": "python",
   "pygments_lexer": "ipython3",
   "version": "3.13.2"
  }
 },
 "nbformat": 4,
 "nbformat_minor": 5
}
