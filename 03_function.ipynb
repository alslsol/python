{
 "cells": [
  {
   "cell_type": "markdown",
   "id": "1b7b8738-89ae-423f-b6c7-fbd477e422f6",
   "metadata": {},
   "source": [
    "# 함수(function)"
   ]
  },
  {
   "cell_type": "code",
   "execution_count": 1,
   "id": "76d284bb-f6ba-4a0f-8b33-cf9ee31c9635",
   "metadata": {},
   "outputs": [
    {
     "name": "stdout",
     "output_type": "stream",
     "text": [
      "사각형의 면적은 1000이고, 둘레는 140입니다.\n"
     ]
    }
   ],
   "source": [
    "# 사각형의 가로/세로 길이 이용해 면적/둗레 구하는 코드\n",
    "height = 50\n",
    "width = 20\n",
    "\n",
    "area = height * width # 면적 공식\n",
    "perimeter = (height + width) * 2 # 둘레 공식\n",
    "print(f'사각형의 면적은 {area}이고, 둘레는 {perimeter}입니다.')"
   ]
  },
  {
   "cell_type": "code",
   "execution_count": 12,
   "id": "487544f4-dcc3-47b8-91e2-70e4ac89b012",
   "metadata": {},
   "outputs": [
    {
     "name": "stdout",
     "output_type": "stream",
     "text": [
      "사각형의 면적은 1500이고, 둘레는 160입니다.\n"
     ]
    }
   ],
   "source": [
    "def rectanle(height, width): # 사각형 만들겠다는 함수 선언한 것 / 소괄호 안: 사각형 만들기 위한 인자인 파라미터(매개변수) 의미 -> 데이터가 들어가는 공간인 것\n",
    "    area = height * width\n",
    "    perimeter = (height + width) * 2\n",
    "    print(f'사각형의 면적은 {area}이고, 둘레는 {perimeter}입니다.')\n",
    "rectanle(50, 30) # 한번 함수 선언하면, 간단히 계속해 해당 함수 호출 가능"
   ]
  },
  {
   "cell_type": "code",
   "execution_count": 13,
   "id": "860dc509-2ba0-4834-87a5-8759dd86efa7",
   "metadata": {},
   "outputs": [
    {
     "data": {
      "text/plain": [
       "['ArithmeticError',\n",
       " 'AssertionError',\n",
       " 'AttributeError',\n",
       " 'BaseException',\n",
       " 'BaseExceptionGroup',\n",
       " 'BlockingIOError',\n",
       " 'BrokenPipeError',\n",
       " 'BufferError',\n",
       " 'BytesWarning',\n",
       " 'ChildProcessError',\n",
       " 'ConnectionAbortedError',\n",
       " 'ConnectionError',\n",
       " 'ConnectionRefusedError',\n",
       " 'ConnectionResetError',\n",
       " 'DeprecationWarning',\n",
       " 'EOFError',\n",
       " 'Ellipsis',\n",
       " 'EncodingWarning',\n",
       " 'EnvironmentError',\n",
       " 'Exception',\n",
       " 'ExceptionGroup',\n",
       " 'False',\n",
       " 'FileExistsError',\n",
       " 'FileNotFoundError',\n",
       " 'FloatingPointError',\n",
       " 'FutureWarning',\n",
       " 'GeneratorExit',\n",
       " 'IOError',\n",
       " 'ImportError',\n",
       " 'ImportWarning',\n",
       " 'IndentationError',\n",
       " 'IndexError',\n",
       " 'InterruptedError',\n",
       " 'IsADirectoryError',\n",
       " 'KeyError',\n",
       " 'KeyboardInterrupt',\n",
       " 'LookupError',\n",
       " 'MemoryError',\n",
       " 'ModuleNotFoundError',\n",
       " 'NameError',\n",
       " 'None',\n",
       " 'NotADirectoryError',\n",
       " 'NotImplemented',\n",
       " 'NotImplementedError',\n",
       " 'OSError',\n",
       " 'OverflowError',\n",
       " 'PendingDeprecationWarning',\n",
       " 'PermissionError',\n",
       " 'ProcessLookupError',\n",
       " 'PythonFinalizationError',\n",
       " 'RecursionError',\n",
       " 'ReferenceError',\n",
       " 'ResourceWarning',\n",
       " 'RuntimeError',\n",
       " 'RuntimeWarning',\n",
       " 'StopAsyncIteration',\n",
       " 'StopIteration',\n",
       " 'SyntaxError',\n",
       " 'SyntaxWarning',\n",
       " 'SystemError',\n",
       " 'SystemExit',\n",
       " 'TabError',\n",
       " 'TimeoutError',\n",
       " 'True',\n",
       " 'TypeError',\n",
       " 'UnboundLocalError',\n",
       " 'UnicodeDecodeError',\n",
       " 'UnicodeEncodeError',\n",
       " 'UnicodeError',\n",
       " 'UnicodeTranslateError',\n",
       " 'UnicodeWarning',\n",
       " 'UserWarning',\n",
       " 'ValueError',\n",
       " 'Warning',\n",
       " 'WindowsError',\n",
       " 'ZeroDivisionError',\n",
       " '_IncompleteInputError',\n",
       " '__IPYTHON__',\n",
       " '__build_class__',\n",
       " '__debug__',\n",
       " '__doc__',\n",
       " '__import__',\n",
       " '__loader__',\n",
       " '__name__',\n",
       " '__package__',\n",
       " '__spec__',\n",
       " 'abs',\n",
       " 'aiter',\n",
       " 'all',\n",
       " 'anext',\n",
       " 'any',\n",
       " 'ascii',\n",
       " 'bin',\n",
       " 'bool',\n",
       " 'breakpoint',\n",
       " 'bytearray',\n",
       " 'bytes',\n",
       " 'callable',\n",
       " 'chr',\n",
       " 'classmethod',\n",
       " 'compile',\n",
       " 'complex',\n",
       " 'copyright',\n",
       " 'credits',\n",
       " 'delattr',\n",
       " 'dict',\n",
       " 'dir',\n",
       " 'display',\n",
       " 'divmod',\n",
       " 'enumerate',\n",
       " 'eval',\n",
       " 'exec',\n",
       " 'execfile',\n",
       " 'filter',\n",
       " 'float',\n",
       " 'format',\n",
       " 'frozenset',\n",
       " 'get_ipython',\n",
       " 'getattr',\n",
       " 'globals',\n",
       " 'hasattr',\n",
       " 'hash',\n",
       " 'help',\n",
       " 'hex',\n",
       " 'id',\n",
       " 'input',\n",
       " 'int',\n",
       " 'isinstance',\n",
       " 'issubclass',\n",
       " 'iter',\n",
       " 'len',\n",
       " 'license',\n",
       " 'list',\n",
       " 'locals',\n",
       " 'map',\n",
       " 'max',\n",
       " 'memoryview',\n",
       " 'min',\n",
       " 'next',\n",
       " 'object',\n",
       " 'oct',\n",
       " 'open',\n",
       " 'ord',\n",
       " 'pow',\n",
       " 'print',\n",
       " 'property',\n",
       " 'range',\n",
       " 'repr',\n",
       " 'reversed',\n",
       " 'round',\n",
       " 'runfile',\n",
       " 'set',\n",
       " 'setattr',\n",
       " 'slice',\n",
       " 'sorted',\n",
       " 'staticmethod',\n",
       " 'str',\n",
       " 'sum',\n",
       " 'super',\n",
       " 'tuple',\n",
       " 'type',\n",
       " 'vars',\n",
       " 'zip']"
      ]
     },
     "execution_count": 13,
     "metadata": {},
     "output_type": "execute_result"
    }
   ],
   "source": [
    "dir(__builtins__) # 파이썬에서 쓸 수 있는 함수 모두 보여줌"
   ]
  },
  {
   "cell_type": "code",
   "execution_count": 18,
   "id": "85fdb4ef-8b8a-4637-a88f-cace94c0d1c5",
   "metadata": {},
   "outputs": [],
   "source": [
    "# max(): parameter 중 가장 큰 것을 뽑아주는 기능 가짐"
   ]
  },
  {
   "cell_type": "code",
   "execution_count": 21,
   "id": "56bcbb11-fb31-4df2-88a6-9ded54fdbd27",
   "metadata": {},
   "outputs": [
    {
     "name": "stdout",
     "output_type": "stream",
     "text": [
      "100\n"
     ]
    }
   ],
   "source": [
    "def my_max(num1, num2): # 데이터 2개를 받을 거라고 정의\n",
    "    if num1 > num2:\n",
    "        print(num1)\n",
    "    else:\n",
    "        print(num2)\n",
    "my_max(100, 2)"
   ]
  },
  {
   "cell_type": "code",
   "execution_count": 24,
   "id": "63e522df-53bc-4f6e-a8e1-f295f38570ee",
   "metadata": {},
   "outputs": [
    {
     "name": "stdout",
     "output_type": "stream",
     "text": [
      "2\n",
      "None\n"
     ]
    }
   ],
   "source": [
    "# return 활용 예지: 큰 수를 구한 다음, 큰 수에 2를 곱하고 싶다면?\n",
    "result = my_max(1,2) # 큰 수 구한 뒤, 이를 result에 저장 >> 이후 곱하기 2를 하겠단 것\n",
    "print(result) # 근데 출력하면 none 나옴 >> 이럴 땐 리턴 써야 함수를 통해 구한 값을 다음에 연산에 다시 활용할 수 있음\n"
   ]
  },
  {
   "cell_type": "code",
   "execution_count": 32,
   "id": "b1696004-197b-4935-833b-97333071b37d",
   "metadata": {},
   "outputs": [
    {
     "name": "stdout",
     "output_type": "stream",
     "text": [
      "6\n"
     ]
    }
   ],
   "source": [
    "def my_max2(num1, num2):\n",
    "    if num1 > num2:\n",
    "        return num1 # num1이 더 크면 결과값 num1을 반환한단 것 >> 그간 print로 출력해왔는데, 그걸 return 통해 압축하는 것\n",
    "    else: \n",
    "        return num2 # print: 아웃풋 없이 출력을 하는 것, return은 my_max 함수의 연산 결과를 산출하는 것 >> 그러면 연산 결과 재활용 가능해짐\n",
    "my_max2(1, 3)\n",
    "\n",
    "result = my_max2(1, 3) * 2\n",
    "print(result)"
   ]
  },
  {
   "cell_type": "code",
   "execution_count": 35,
   "id": "b39ef472-5076-411c-b533-bbd534fc75b7",
   "metadata": {},
   "outputs": [
    {
     "data": {
      "text/plain": [
       "(20, 10)"
      ]
     },
     "execution_count": 35,
     "metadata": {},
     "output_type": "execute_result"
    }
   ],
   "source": [
    "def my_def(x):\n",
    "    return x * 2\n",
    "my_def(10)\n",
    "\n",
    "# 사용자가 x에 무얼 넣었는지도 함께 출력하고 싶다면\n",
    "def my_def(x):\n",
    "    return (x * 2, x) # 그러면 (연산결과, x값) 이렇게 결과 나옴 -> 일종의 데이터 묶여 출력도니 튜플인 것\n",
    "my_def(10)"
   ]
  },
  {
   "cell_type": "code",
   "execution_count": 38,
   "id": "81f8fe20-d49b-4c02-938f-1e28decd7305",
   "metadata": {},
   "outputs": [
    {
     "name": "stdout",
     "output_type": "stream",
     "text": [
      "0\n",
      "1\n",
      "2\n",
      "3\n"
     ]
    },
    {
     "data": {
      "text/plain": [
       "3"
      ]
     },
     "execution_count": 38,
     "metadata": {},
     "output_type": "execute_result"
    }
   ],
   "source": [
    "def my_for(x):\n",
    "    for i in range(x):\n",
    "        print(i)\n",
    "        if i == 3:\n",
    "            return i # return 하면 임무 완수했다고 여김 >> 그래서 해당 함수는 연산하는 역할 끝내고 종료해서 4로 넘어가지 않은 것\n",
    "\n",
    "my_for(5)"
   ]
  },
  {
   "cell_type": "code",
   "execution_count": 39,
   "id": "ad7eb471-43b7-45a7-a953-f9bea8b47405",
   "metadata": {},
   "outputs": [
    {
     "ename": "NameError",
     "evalue": "name 'my_list_max' is not defined",
     "output_type": "error",
     "traceback": [
      "\u001b[1;31m---------------------------------------------------------------------------\u001b[0m",
      "\u001b[1;31mNameError\u001b[0m                                 Traceback (most recent call last)",
      "Cell \u001b[1;32mIn[39], line 1\u001b[0m\n\u001b[1;32m----> 1\u001b[0m \u001b[43mmy_list_max\u001b[49m([\u001b[38;5;241m1\u001b[39m,\u001b[38;5;241m2\u001b[39m,\u001b[38;5;241m3\u001b[39m], [\u001b[38;5;241m2\u001b[39m,\u001b[38;5;241m3\u001b[39m,\u001b[38;5;241m4\u001b[39m]) \u001b[38;5;66;03m# 첫 리스트의 합과, 두번째 리스트의 합 중 더 큰 리스트를 출력해달라는 것 >> 이게 동작하는 함수 만들어보자\u001b[39;00m\n",
      "\u001b[1;31mNameError\u001b[0m: name 'my_list_max' is not defined"
     ]
    }
   ],
   "source": [
    "# my_list_max([1,2,3], [2,3,4]) # 첫 리스트의 합과, 두번째 리스트의 합 중 더 큰 리스트를 출력해달라는 것 >> 이게 동작하는 함수 만들어보자"
   ]
  },
  {
   "cell_type": "code",
   "execution_count": 70,
   "id": "cc540a28-11db-44a1-bb47-fea5d2348a29",
   "metadata": {},
   "outputs": [],
   "source": [
    "def my_list_max(list1, list2):\n",
    "        result1 = sum(list1)\n",
    "        result2 = sum(list2)\n",
    "        if result1 > result2:\n",
    "            return list1\n",
    "        else:\n",
    "            return list2"
   ]
  },
  {
   "cell_type": "code",
   "execution_count": 78,
   "id": "032b21b8-b2cb-4273-b2fd-30894e72331f",
   "metadata": {},
   "outputs": [],
   "source": [
    "def my_list_max(list1, list2):\n",
    "    result1 = sum(list1)\n",
    "    result2 = sum(list2)\n",
    "    if result1 > result2:\n",
    "        return list1\n",
    "    else:\n",
    "        return list2"
   ]
  },
  {
   "cell_type": "code",
   "execution_count": 79,
   "id": "94cf3ee8-4449-49dd-9947-2005ff022ea1",
   "metadata": {},
   "outputs": [
    {
     "data": {
      "text/plain": [
       "[2, 3, 4]"
      ]
     },
     "execution_count": 79,
     "metadata": {},
     "output_type": "execute_result"
    }
   ],
   "source": [
    "my_list_max([1,2,3], [2,3,4])"
   ]
  },
  {
   "cell_type": "code",
   "execution_count": 58,
   "id": "ddf7fc98-3dfb-4a9c-a8f5-a84086ca05ff",
   "metadata": {},
   "outputs": [
    {
     "ename": "_IncompleteInputError",
     "evalue": "incomplete input (1246443226.py, line 3)",
     "output_type": "error",
     "traceback": [
      "\u001b[1;36m  Cell \u001b[1;32mIn[58], line 3\u001b[1;36m\u001b[0m\n\u001b[1;33m    \u001b[0m\n\u001b[1;37m    ^\u001b[0m\n\u001b[1;31m_IncompleteInputError\u001b[0m\u001b[1;31m:\u001b[0m incomplete input\n"
     ]
    }
   ],
   "source": [
    "def my_list_max(list1, list2):\n",
    "    for lists in my_list_max:\n",
    "        \n"
   ]
  },
  {
   "cell_type": "code",
   "execution_count": 72,
   "id": "81d2bcd6-e296-4404-9208-f398d91dc00b",
   "metadata": {},
   "outputs": [
    {
     "ename": "SyntaxError",
     "evalue": "invalid syntax (469084436.py, line 1)",
     "output_type": "error",
     "traceback": [
      "\u001b[1;36m  Cell \u001b[1;32mIn[72], line 1\u001b[1;36m\u001b[0m\n\u001b[1;33m    my_list_max = list1: [1,2,3], list2: [2,3,4]\u001b[0m\n\u001b[1;37m                       ^\u001b[0m\n\u001b[1;31mSyntaxError\u001b[0m\u001b[1;31m:\u001b[0m invalid syntax\n"
     ]
    }
   ],
   "source": [
    "my_list_max = list1: [1,2,3], list2: [2,3,4]\n",
    "for lists in my_list_max:\n",
    "    return my_list_max"
   ]
  },
  {
   "cell_type": "code",
   "execution_count": 76,
   "id": "6d78f6ae-019a-43d6-8805-1db6ff8f5ef9",
   "metadata": {},
   "outputs": [],
   "source": [
    "def my_list_max(list1, list2):\n",
    "    # 각 리스트의 총합 구하기\n",
    "    sum_of_list1 = 0 # 각 리스트에 들어 있는 숫자 넣어야 하는데, 일단 초기값 0을 설정한 것\n",
    "    sum_of_list2 = 0\n",
    "\n",
    "    # 리스트1의 데이터 하나씩 호출해서 sum_of_list1에 할당하는 식으로 할 것 >> 데이터 누적해 총합 구하는 방식\n",
    "    for i in list1:\n",
    "        sum_of_list1 = sum_of_list1 + i\n",
    "    for i in list2:\n",
    "        sum_of_list2 += i # 위의 식과 동일한 내용임 >> 코드 압축한 것\n",
    "\n",
    "    # 두 총합을 비교하기 / 더 큰 값의 리스트를 출력하기\n",
    "    if sum_of_list1 > sum_of_list2:\n",
    "        return list1\n",
    "    else:\n",
    "        return list2"
   ]
  },
  {
   "cell_type": "code",
   "execution_count": 77,
   "id": "e03fc62d-77a0-44eb-ad23-8d7fa137ca40",
   "metadata": {},
   "outputs": [
    {
     "data": {
      "text/plain": [
       "[2, 3, 4]"
      ]
     },
     "execution_count": 77,
     "metadata": {},
     "output_type": "execute_result"
    }
   ],
   "source": [
    "my_list_max([1,2,3], [2,3,4])"
   ]
  },
  {
   "cell_type": "code",
   "execution_count": 80,
   "id": "6aee4902-fa7b-4e98-9c3b-6b30d9926100",
   "metadata": {},
   "outputs": [],
   "source": [
    "# 원기둥의 부피 구하기\n",
    "    # 반지름, 높이 필요 >> 공식: 3.14 * r ** 2 * h\n",
    "def cylinder(r, h):\n",
    "    return 3.14 * r ** 2 * h\n",
    "\n",
    "    # 첫번째 데이터는 r에 들어감, 두번째 데이터는 h에 들어감 >> 위치 따라 인수 판단"
   ]
  },
  {
   "cell_type": "code",
   "execution_count": 81,
   "id": "b62ede84-278f-47f9-a25b-4758fa2b7697",
   "metadata": {},
   "outputs": [
    {
     "data": {
      "text/plain": [
       "282.6"
      ]
     },
     "execution_count": 81,
     "metadata": {},
     "output_type": "execute_result"
    }
   ],
   "source": [
    "cylinder(3, 10)"
   ]
  },
  {
   "cell_type": "code",
   "execution_count": null,
   "id": "0ae13030-f841-4f29-a8d5-1f4aed5bc501",
   "metadata": {},
   "outputs": [],
   "source": [
    "def func_name(p1=v1):\n",
    "    code1\n",
    "    return value"
   ]
  },
  {
   "cell_type": "code",
   "execution_count": 86,
   "id": "ffc041df-c582-4119-9cbc-1ea9645b59e9",
   "metadata": {},
   "outputs": [],
   "source": [
    "def greeting(name='익명'): # 기본값 지정해주면, greeting 안에 아무 인자 들어가지 않더라도 '익명'을 출력토록 해줌\n",
    "    return f'{name}님 반갑습니다.'"
   ]
  },
  {
   "cell_type": "code",
   "execution_count": 87,
   "id": "7b506148-ee69-44ab-b394-06a3c5d4a377",
   "metadata": {},
   "outputs": [
    {
     "data": {
      "text/plain": [
       "'박소리님 반갑습니다.'"
      ]
     },
     "execution_count": 87,
     "metadata": {},
     "output_type": "execute_result"
    }
   ],
   "source": [
    "greeting('박소리')"
   ]
  },
  {
   "cell_type": "code",
   "execution_count": 88,
   "id": "bed91184-6731-4937-8b31-2a517ef1eb40",
   "metadata": {},
   "outputs": [
    {
     "data": {
      "text/plain": [
       "'익명님 반갑습니다.'"
      ]
     },
     "execution_count": 88,
     "metadata": {},
     "output_type": "execute_result"
    }
   ],
   "source": [
    "greeting() # 소괄호 안에 아무것도 입력 안 하면 에러남 >> "
   ]
  },
  {
   "cell_type": "code",
   "execution_count": 89,
   "id": "1fc43eff-2d99-432a-b4d0-86f72ea45f52",
   "metadata": {},
   "outputs": [
    {
     "name": "stdout",
     "output_type": "stream",
     "text": [
      "안녕하세요 반갑습니다 저는 박소리입니다\n"
     ]
    }
   ],
   "source": [
    "print('안녕하세요', '반갑습니다', '저는', '박소리입니다')"
   ]
  },
  {
   "cell_type": "code",
   "execution_count": 95,
   "id": "9c269617-f947-4e79-801e-f2f9c7af2b7c",
   "metadata": {},
   "outputs": [
    {
     "name": "stdout",
     "output_type": "stream",
     "text": [
      "안녕하세요***반값습니다\n",
      "안녕하세요 반갑습니다!!"
     ]
    }
   ],
   "source": [
    "print('안녕하세요', '반값습니다', sep='***') # print는 이미 인자 설정 않아도 띄어쓰기 하도록 기본값 설정돼 있던 것\n",
    "#인자 end='\\n' : \n",
    "print('안녕하세요', '반갑습니다', end='!!')"
   ]
  },
  {
   "cell_type": "code",
   "execution_count": 105,
   "id": "10e63e0b-6804-43d7-bcb0-3903132ccba6",
   "metadata": {},
   "outputs": [
    {
     "data": {
      "text/plain": [
       "'소리님의 나이는 25살 입니다.'"
      ]
     },
     "execution_count": 105,
     "metadata": {},
     "output_type": "execute_result"
    }
   ],
   "source": [
    "def greeting(age, name='익명'):\n",
    "    return f'{name}님의 나이는 {age}살 입니다.'\n",
    "\n",
    "greeting(25, '소리')"
   ]
  },
  {
   "cell_type": "code",
   "execution_count": 108,
   "id": "852f2883-02f8-4c59-aeef-b76c29d35986",
   "metadata": {},
   "outputs": [
    {
     "name": "stdout",
     "output_type": "stream",
     "text": [
      "('my', 'name', 'is', 'sori')\n"
     ]
    }
   ],
   "source": [
    "def my_print(*words): # words 인자에 몇개의 변수 들어오든 모두 하나로 묶겠다는 의미\n",
    "    print(words) # 그렇게 묶인 tuple을 words라는 변수로 받겠다는 것\n",
    "my_print('my', 'name', 'is', 'sori')"
   ]
  },
  {
   "cell_type": "code",
   "execution_count": 118,
   "id": "34934b3f-19a0-4798-96cb-170979df5a5b",
   "metadata": {},
   "outputs": [
    {
     "ename": "SyntaxError",
     "evalue": "invalid syntax (784250434.py, line 7)",
     "output_type": "error",
     "traceback": [
      "\u001b[1;36m  Cell \u001b[1;32mIn[118], line 7\u001b[1;36m\u001b[0m\n\u001b[1;33m    if list_nums > list_nums += i:\u001b[0m\n\u001b[1;37m                             ^\u001b[0m\n\u001b[1;31mSyntaxError\u001b[0m\u001b[1;31m:\u001b[0m invalid syntax\n"
     ]
    }
   ],
   "source": [
    "# 파이썬 기본 max() 함수: 데이터 몇개든 하나로 묶은 뒤, 그중에서 가장 큰 수를 출력하는 원리임\n",
    "#1,2,3,4,5,6,7\n",
    "\n",
    "def my_max(*nums):\n",
    "    list_nums = 0\n",
    "    for i in my_max:\n",
    "        if list_nums > list_nums += i:\n",
    "            return i\n",
    "        else:\n",
    "            pass\n",
    "\n",
    "nums = [1,2,3,4,5,6,7]"
   ]
  },
  {
   "cell_type": "code",
   "execution_count": 125,
   "id": "9d53a560-8cd4-4fd4-96e5-834982b29d78",
   "metadata": {},
   "outputs": [
    {
     "ename": "SyntaxError",
     "evalue": "invalid syntax (2352453272.py, line 4)",
     "output_type": "error",
     "traceback": [
      "\u001b[1;36m  Cell \u001b[1;32mIn[125], line 4\u001b[1;36m\u001b[0m\n\u001b[1;33m    if i > list_nums +:\u001b[0m\n\u001b[1;37m                      ^\u001b[0m\n\u001b[1;31mSyntaxError\u001b[0m\u001b[1;31m:\u001b[0m invalid syntax\n"
     ]
    }
   ],
   "source": [
    "def my_max(*nums):\n",
    "    list_nums = 0\n",
    "    for i in my_max:\n",
    "        if i > list_nums +:\n",
    "            return i\n",
    "        else:\n",
    "            pass\n",
    "\n",
    "nums = [1,2,3,4,5,6,7]"
   ]
  },
  {
   "cell_type": "code",
   "execution_count": 138,
   "id": "c79de44c-0a34-4748-9008-51bc4b0fbdb0",
   "metadata": {},
   "outputs": [
    {
     "data": {
      "text/plain": [
       "7"
      ]
     },
     "execution_count": 138,
     "metadata": {},
     "output_type": "execute_result"
    }
   ],
   "source": [
    "def my_max(*nums):\n",
    "    max_num = 0 # 첫번째 데이터도 비교할 수 있도록 설정한 것\n",
    "\n",
    "    for i in nums:\n",
    "        if i > max_num:\n",
    "            max_num = i\n",
    "    return max_num\n",
    "\n",
    "my_max(1,2,3,4,5,6,7)"
   ]
  },
  {
   "cell_type": "code",
   "execution_count": null,
   "id": "c83a5f03-a7dd-4c9d-b16c-98f65699bcb4",
   "metadata": {},
   "outputs": [],
   "source": [
    "def my_max(*nums):\n",
    "    max_num = nums[0] # 입력된 데이터 중 첫 번째 데이터를 초기값으로 지정한 것\n",
    "\n",
    "    for i in nums:\n",
    "        if i > max_num:\n",
    "            max_num = i\n",
    "    return max_num\n",
    "\n",
    "my_max(1,2,3,4,5,6,7)"
   ]
  }
 ],
 "metadata": {
  "kernelspec": {
   "display_name": "Python 3 (ipykernel)",
   "language": "python",
   "name": "python3"
  },
  "language_info": {
   "codemirror_mode": {
    "name": "ipython",
    "version": 3
   },
   "file_extension": ".py",
   "mimetype": "text/x-python",
   "name": "python",
   "nbconvert_exporter": "python",
   "pygments_lexer": "ipython3",
   "version": "3.13.2"
  }
 },
 "nbformat": 4,
 "nbformat_minor": 5
}
