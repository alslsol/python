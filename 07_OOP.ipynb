{
 "cells": [
  {
   "cell_type": "code",
   "execution_count": null,
   "id": "b9f4f655-d4e5-482b-89aa-e05ceeec7e9e",
   "metadata": {},
   "outputs": [],
   "source": [
    "number = 1 + 2j\n",
    "\n",
    "print(type(number))"
   ]
  },
  {
   "cell_type": "code",
   "execution_count": null,
   "id": "b64839c6-de0a-46f8-b075-c952f4002f32",
   "metadata": {},
   "outputs": [],
   "source": [
    "print(number.real) # real: 복소수의 실수부만 출력\n",
    "print(number.imag) # 복소수의 허수부만 출력\n",
    "# number 변수의 데이터에 접근 -> 그래서 옆에 소괄호 안 붙임"
   ]
  },
  {
   "cell_type": "code",
   "execution_count": null,
   "id": "076c1bdf-fd9e-4bc5-9e30-1bf862f69f57",
   "metadata": {},
   "outputs": [],
   "source": [
    "numbers = [1,2,3]\n",
    "print(type(numbers)) # list라는 개념은 어떻게 데이터 갖고 있는지, 어떤 기능 할 수 있는지 파이썬 내부에 개념 정의해 놓음 >> 그래서 타입 출력할 때 class list로 나옴"
   ]
  },
  {
   "cell_type": "code",
   "execution_count": null,
   "id": "a0a183db-eaf7-460e-a509-efc22a074b91",
   "metadata": {},
   "outputs": [],
   "source": [
    "numbers.reverse()\n",
    "print(numbers)\n",
    "# 위에선 데이터 값에 접근해서 소괄호 접근 안 함, 근데 이는 numbers라는 list 내에 있는 reverse 함수를 실행하는 거라 () 접근함\n",
    "# list는 뒤집는 기능 갖고 있도록 정의돼 있음 >> 그래서 numbers 리스트야 뒤집어(reverse)라고 기능 실행한 것\n",
    "numbers[0] # numbers의 0번째 값에 접근하는 것"
   ]
  },
  {
   "cell_type": "code",
   "execution_count": null,
   "id": "f63049a5-ca87-4dfc-8f17-66048309765b",
   "metadata": {},
   "outputs": [],
   "source": [
    "number = '010-1111-1111'\n",
    "power = True\n",
    "phone_book = {'kim': '010-2222-2222',\n",
    "             'park': '010-3333-3333'}\n",
    "\n",
    "# 누가 누구에게 전화 거는지 함수 만들기\n",
    "def call(from_num, to_num): \n",
    "    print(f'{from_num}가 {to_num}에게 전화 거는 중')\n",
    "\n",
    "call(number, phone_book['kim'])"
   ]
  },
  {
   "cell_type": "code",
   "execution_count": null,
   "id": "9033d22d-92db-45e5-9804-d684c9dfa00d",
   "metadata": {},
   "outputs": [],
   "source": [
    "# 선언\n",
    "\n",
    "class MyClass():\n",
    "    # kim이라는 데이터를 name 변수에 저장\n",
    "    name = 'kim'\n",
    "    # 함수 선언\n",
    "    def hello(self):\n",
    "        return 'hi-hi-hi'"
   ]
  },
  {
   "cell_type": "code",
   "execution_count": null,
   "id": "37f4df38-9f6b-4a6d-ba22-efd0558a38b1",
   "metadata": {},
   "outputs": [],
   "source": [
    "# 인스턴스화\n",
    "m = MyClass()\n",
    "print(type(m))\n",
    "# > <class '__main__.MyClass'> : 우리가 직접 만든 거라 main 붙은 것"
   ]
  },
  {
   "cell_type": "code",
   "execution_count": null,
   "id": "d462d9b2-1b89-4dbf-9b90-537c34c62ee2",
   "metadata": {},
   "outputs": [],
   "source": [
    "print(m.name) # 값에 직접 접근 가능: MyClass에 데이터 넣었기에 name이라는 변수에 접근 가능\n",
    "print(m.hello()) # hello라는 기능 만들어놨기에 >> 함수 실행하면, hi-hi-hi 출력됨"
   ]
  },
  {
   "cell_type": "code",
   "execution_count": null,
   "id": "7d1429f3-0b48-4fee-bb72-771deb94602d",
   "metadata": {},
   "outputs": [],
   "source": [
    "# 서로 다른 인스턴스화 2번 하게 되면(m1, m2) >> 2개의 독립적인 class 만들어지게 됨\n",
    "    # m2에서 name 데이터를 kim 대신 park으로 변경하면, m2에 저장된 클래스의 데이터 값만 변경됨\n",
    "\n",
    "m2 = MyClass()\n",
    "m2.name = 'park'\n",
    "print(m.name)\n",
    "print(m2.name)"
   ]
  },
  {
   "cell_type": "code",
   "execution_count": null,
   "id": "2744d6f7-0298-4235-8afc-6d43b006e6fd",
   "metadata": {},
   "outputs": [],
   "source": [
    "# 1. 핸드폰 정의 만들기\n",
    "class Phone():\n",
    "    # 1) 핸드폰 정의에 필요한 요소 넣기\n",
    "    power = False # 폰 전원은 꺼져 있음\n",
    "    number = '010-0000-0000' # 폰번호는 이러함\n",
    "    book = {}\n",
    "    model = ''\n",
    "\n",
    "    # 2) 핸드폰 기능 만들기\n",
    "    # 핸드폰 전원 꺼져 있으면 키기\n",
    "    def on(self): # 클래스 안에 들어있는 메소드는 무조건 self 넣어야 함 >> self = 나/인스턴스 자신을 의미\n",
    "        if self.power == False: # 값 비교 위해 == 사용\n",
    "            self.power = True # 값 할당 위해 = 사용\n",
    "    # 전원 켜져 있으면 끄기\n",
    "    def off(self):\n",
    "        if self.power == Talse:\n",
    "            self.power = False\n",
    "    # 전화 기능 추가하기\n",
    "    def call(self, target): # self: 인스턴스 자기 자신 의미\n",
    "        if self.power == True: # 전화기능 쓰기 위해선 전원 켜져 있어야 함 >> 조건문 분기처리\n",
    "\n",
    "            # target.number라고 해야, 타겟의 number 변수에 저장된 데이터에 접근 가능\n",
    "            print(f'{self}가 {target.number}한테 전화거는 중') # 내 폰으로 타인에게 전화 걸기 위해선, 거는 사람은 나 자신(self) + target이 가진 번호로 걸겠다는 코드\n",
    "        else:\n",
    "            print('핸드폰이 꺼져있습니다.')\n",
    "\n",
    "# 2. 2개의 핸드폰 공장에서 찍어내기\n",
    "\n",
    "my_phone = Phone()\n",
    "your_phone = Phone()\n",
    "\n",
    "my_phone.number # my_phone의 변수 number에 할당된 데이터에 접근하는 것\n",
    "\n",
    "# 내 핸드폰 번호 변경하기\n",
    "my_phone.number = '010-1111-1111'\n",
    "print(my_phone.number)\n",
    "\n",
    "\n",
    "my_phone.power # 현재 내 폰 꺼져 있는 상태\n",
    "my_phone.on() # 전원 키기 기능 실행\n",
    "my_phone.power # 이제 내 폰 켜져 있게 됨\n",
    "\n",
    "your_phone.power # 내 폰만 켜져 있고, your_phone은 독립적 클래스니까 꺼져있음\n",
    "\n",
    "my_phone.call(your_phone) # 함수 실행할 때, self는 입력 안 해도 됨"
   ]
  },
  {
   "cell_type": "code",
   "execution_count": null,
   "id": "49fa83a3-b63e-4f6e-85f9-a971eb0edfb1",
   "metadata": {},
   "outputs": [],
   "source": [
    "# 사람 정의하기\n",
    "\n",
    "# 인사하는 기능\n",
    "# 사람 클래스 정의한 뒤 >> 사람1, 사람2 있을 텐데, 이름 서로 다를 테니까 이름에 할당된 데이터를 넣기\n",
    "    # 성장하는 기능\n",
    "\n",
    "\n",
    "class Person():\n",
    "    name = ''\n",
    "    gender = ''\n",
    "    age = 0\n",
    "    height = 0\n",
    "    \n",
    "    def greeting(self):\n",
    "       print(f'안녕하세요. 저는 {self.name}입니다.') # self가 없으면, name은 가장 가까운 클래스의 값 비어 있는 name을 가리키게 됨 >> 그러므로 self.name으로 해당 인스턴스 자신의 name이라고 지정한 것\n",
    "    def grow(self):\n",
    "        self.age += 1 # 내년에 몇살인지 변화된 나이 데이터만 출력하는 기능 | return 해야 값 나옴, 근데 return 뒤에는 연산 넣으면 실행 안 됨\n",
    "\n",
    "\n",
    "# 사람 2명 생성: # 사람이라는 데이터 프레임을 정의한 다음, 개별 사람의 이름을 이후 값을 달리 저장하는 식\n",
    "    # 원리: person instance한 결과가 객체로서 p1에 저장된 것 >> 기존의 사람 데이터 프레임이 아닌, 객체 p1이 가진 프레임 내 name에 hong 추가한 식\n",
    "p1 = Person()\n",
    "p2 = Person()\n",
    "\n",
    "p1.name = 'hong'\n",
    "p2.name = 'kim'\n",
    "\n",
    "p1.gender = 'F'\n",
    "p2.gender = 'M'\n",
    "\n",
    "p1.age = 20\n",
    "p2.age = 30\n",
    "\n",
    "p1.height = 40\n",
    "p2.height = 50\n"
   ]
  },
  {
   "cell_type": "code",
   "execution_count": null,
   "id": "10e61ce2-c557-4763-864b-058591f7b131",
   "metadata": {},
   "outputs": [],
   "source": [
    "# 기능 실행하기\n",
    "print(p1.greeting())\n",
    "print(p2.grow())"
   ]
  },
  {
   "cell_type": "code",
   "execution_count": null,
   "id": "c40de083-ad8b-4c7f-88f0-8be25bf852b3",
   "metadata": {},
   "outputs": [],
   "source": [
    "Person.greeting(p1) # 이는 비어 있는 person 클래스 이용한 것: 클래스 내 greeting 함수 호출하는데, p1을 직접 실행하는 방식임 >> 기존엔 self라는 위치인자 지정해 놨으므로, 누구를 할 것인지 지칭해야 함\n",
    "p1.greeting() # 복붙돼 p1에 저장된 person instance에 있는 greeting 함수를 실행하는 것 >> 근데 이미 p1의 데이터 셋에는 이름, 나이 등 데이터 값 저장돼 있음 >> 그러므로 () 안에 위치 인자 지정 않아도 됨 >> self기 때문"
   ]
  },
  {
   "cell_type": "code",
   "execution_count": null,
   "id": "511a53bc-ad9e-48fe-9a15-4ab73182e273",
   "metadata": {},
   "outputs": [],
   "source": [
    "# 생성자: 사람 만들기\n",
    "\n",
    "# 1. 클래스 생성\n",
    "class Person():\n",
    "    name = ''\n",
    "    # 생성자\n",
    "    def __init__(self, name): # 클래스 Person에 저자된 변수 name 의미\n",
    "        \n",
    "        # self.name: 인스턴스 p1의 변수 name 의미\n",
    "        self.name = name # self.name의 영역에 입력된 name 값을 할당하는 것\n",
    "        print('생성됨')\n",
    "    # 소멸자\n",
    "    def __del__(self):\n",
    "        print('소멸됨')\n",
    "\n",
    "# 2. 인스턴스화\n",
    "p1 = Person('park')\n",
    "# Person.__init__(self, name): Person 클래스에 저장된 __init__함수 실행하는 것과 동일한 코드임 >> name 인자 넣어야 실행\n",
    "\n",
    "\n",
    "del p1\n",
    "# 변수의 할당 풀렸을 때 소멸자 실행됨"
   ]
  },
  {
   "cell_type": "code",
   "execution_count": null,
   "id": "0bba2d17-bbce-4065-81bb-a02ec479b3dd",
   "metadata": {},
   "outputs": [],
   "source": [
    "# 1. 클래스 만들기: 원 만들기 >> r: 반지름, (x,y): 중심점\n",
    "class Circle():\n",
    "    pi = 3.14\n",
    "    \n",
    "    # 인스턴스 과정에서 값 3개를 넣을 건데, 각 값은 순서대로 r,x,y넣을 거란 것\n",
    "    def __init__(self, r, x=0, y=0): # x,y는 기본값 인자 (0,0)으로 설정 >> 값 1개(r값)만 사용자가 입력해도 작동O | # 반지름 값만 출력하고 싶다면, 함수 선언할 때 기본값 인자 설정하면 됨\n",
    "        self.r = r\n",
    "        self.x = x\n",
    "        self.y = y\n",
    "\n",
    "    # 원의 정보 출력하는 함수 만들기\n",
    "    def info(self):\n",
    "        print(f'반지름: {self.r}, 중심점: {self.x}, {self.y}') # 자기 인스턴스 내에 저장된 r 값, (x,y) 값을 출력\n",
    "\n",
    "    # 원의 면적 구하기\n",
    "    def area(self):\n",
    "        return self.r ** 2 * self.pi # 원마다 반지름 다르기에, 각 self.r로 쓴 것\n",
    "        # ex. c1의 r, c1의 pi를 연산한단 것 >> 셀프는 일단 자신 안에 있는 파이 찾고 >> 없으면, 나를 생성한 정의로 올라타고 찾음\n",
    "\n",
    "    # 원의 둘레 구하기\n",
    "    def round(self):\n",
    "        return self.r * self.pi * 2\n",
    "\n",
    "    # 원의 좌표 이동하기\n",
    "    def move(self, x, y): # 새 좌표 받아서 이동하겠다는 것\n",
    "        self.x = x # 새로운 x로 덮어쓰기\n",
    "        self.y = y\n"
   ]
  },
  {
   "cell_type": "code",
   "execution_count": null,
   "id": "8fd46b8d-44c5-4816-b63d-4b9e969ad22e",
   "metadata": {},
   "outputs": [],
   "source": [
    "# 2. 인스턴스\n",
    "\n",
    "# 3개의 원 정보 입력\n",
    "c1 = Circle(5, 0, 0)\n",
    "c2 = Circle(3, 1, 1)\n",
    "c3 = Circle(4)\n",
    "\n",
    "# 각 원의 r, (x, y) 출력\n",
    "c1.info()\n",
    "c2.info()\n",
    "c3.info()\n",
    "\n",
    "# 원의 면적/둘레 구하기\n",
    "print(c1.area())\n",
    "print(c2.round())\n",
    "\n",
    "# 원의 좌표 이동하기\n",
    "c1.move(100,100)\n",
    "c1.info()"
   ]
  },
  {
   "cell_type": "code",
   "execution_count": null,
   "id": "aad6ec62-3166-49f7-b486-7c4bf444390d",
   "metadata": {},
   "outputs": [],
   "source": [
    "# 에제: 2개의 클래스 연동하기: 비슷한 기능하는 코드, 함수 등을 묶어서, 재사용성을 편리하게 만들기 위해 클래스 만드는 것\n",
    "# 점의 좌표\n",
    "class Point():\n",
    "    def __init__(self, x, y):\n",
    "        self.x = x\n",
    "        self.y = y\n",
    "\n",
    "    def info(self):\n",
    "        print(f'{self.x},{self.y}')"
   ]
  },
  {
   "cell_type": "code",
   "execution_count": null,
   "id": "01fa679d-ac1e-4665-bff3-3aaf21260b51",
   "metadata": {},
   "outputs": [],
   "source": [
    "p1 = Point(1,1)\n",
    "p2 = Point(2,3)\n",
    "\n",
    "p1.info()\n",
    "p2.info()\n",
    "\n",
    "# 원의 좌표를 p1, p2에 저장한 것"
   ]
  },
  {
   "cell_type": "code",
   "execution_count": null,
   "id": "3af5ae80-5299-4061-9a1e-00b2b71b40eb",
   "metadata": {},
   "outputs": [],
   "source": [
    "class Circle():\n",
    "    def __init__(self, r, point):\n",
    "        self.r = r\n",
    "        self.point = point # 이때 point는 상위 클래스인 Point를 의미하는 게 아님, 사용자에게 입력받은 것을 저장하는 공간인 변수임 >> 근데 c1 = Circle(10, p1) 이라고 p1를 point 변수에 저장함 >> 그래서 출력 결과는 p1에 저장된 (1,1)이 출력되는 것\n",
    "    # point라는 객체는 x,y라는 객체 가지고 있어, 개별 접근 가능\n",
    "    def info(self):\n",
    "        print(f'반지름: {self.r}, 중심점: {self.point.x}, {self.point.y}')\n",
    "        # 중심점: self에 들어 있는, 객체 point에 들어 있는, 객체 x와 y에 접근하겠단 것 >> 그러면 앞서 Point 클래스에서 좌표 묶여 있던 것을 개별적으로 객체 풀어서 출력 가능"
   ]
  },
  {
   "cell_type": "code",
   "execution_count": null,
   "id": "51301756-1730-4fcc-ab92-6f9deedb3491",
   "metadata": {},
   "outputs": [],
   "source": [
    "c1 = Circle(10, p1) # 반지름 10이고, 좌표는 p1를 중심점으로 갖는 원이란 것\n",
    "c2 = Circle(5, p2)\n",
    "\n",
    "c1.info()"
   ]
  },
  {
   "cell_type": "code",
   "execution_count": null,
   "id": "aa678340-6549-4d6d-a0cc-148677765843",
   "metadata": {},
   "outputs": [],
   "source": [
    "# 데이터의 결과는 또다른 객체임, 객체는 기능 갖고 있기에 이는 또 메소드를 실행할 수 있음 >> 데이터의 결과를 다시 이용하고 계속 타고 올라가는 식으로 코드 쭉 이어서 쓸 수 있는 것\n",
    "['a', 'b', 'c'].pop().capitalize()\n",
    "    # pop(): 해당 리스트의 가장 마지막 값을 제거한 뒤 반환 >> capitalize(): 반환된 값인 c를 대문자로 변경"
   ]
  },
  {
   "cell_type": "code",
   "execution_count": null,
   "id": "e07c76bf-81fd-4db2-989e-414182520807",
   "metadata": {},
   "outputs": [],
   "source": [
    "class Person():\n",
    "    name = 'hong'\n",
    "    age = 10\n",
    "\n",
    "    def __init__(self, name):\n",
    "        self.name = name\n",
    "\n",
    "\n",
    "p1 = Person('park') # name 인스턴스 만듦 >> 인스턴스 변수 생성\n",
    "print(p1.name) # 인스턴스 변수 출력\n",
    "print(p1.age) # age는 인스턴스 만들지X >> 상위 클래스로 이동 >> 클래스 변수 age 접근해 출력"
   ]
  },
  {
   "cell_type": "code",
   "execution_count": null,
   "id": "3a54e9b2-b834-4a52-8080-829e0d3c8967",
   "metadata": {},
   "outputs": [],
   "source": [
    "class MyClass():\n",
    "    def instance_method(self): # self: 인스턴스 객체 자체 의미\n",
    "        print(self)\n",
    "    @classmethod\n",
    "    def class_method(cls): # cls: 클래스 객체 자체 의미\n",
    "        print(cls)\n",
    "    @staticmethod\n",
    "    def static_method():\n",
    "        print('static')"
   ]
  },
  {
   "cell_type": "code",
   "execution_count": null,
   "id": "0c0ea9bd-2666-4c3e-b2ab-164c402b1777",
   "metadata": {},
   "outputs": [],
   "source": [
    "mc = MyClass()\n",
    "mc.instance_method() # = self\n",
    "# > <__main__.MyClass object at 0x0000022C65535010> : 인스턴스 self 자신 의미\n",
    "    # self 의미: 내가 인스턴스한 자신 자체를 의미하는 키워드 -> 내 자신을 의미하는 것"
   ]
  },
  {
   "cell_type": "code",
   "execution_count": null,
   "id": "1229988e-b933-40ed-a8d4-6b5505ad0ac3",
   "metadata": {},
   "outputs": [],
   "source": [
    "mc.class_method() # = cls\n",
    "print(MyClass)"
   ]
  },
  {
   "cell_type": "code",
   "execution_count": null,
   "id": "02f34980-29ab-4d6b-a021-e921378e7707",
   "metadata": {},
   "outputs": [],
   "source": [
    "mc.static_method()"
   ]
  },
  {
   "cell_type": "code",
   "execution_count": null,
   "id": "8dcb5b45-0aa7-4c41-959c-47ce15807329",
   "metadata": {},
   "outputs": [],
   "source": [
    "# 예제: 클래스, 인스턴스 메소드 분리해서 작업하기 -> 강아지 만들기\n",
    "    # 강아지 프레임에서 태어난 강아지의 누적합 구하고 싶다면\n",
    "\n",
    "class Puppy():\n",
    "    num_of_puppy = 0 # 강아지 정의 클래스 전체가 가진 정보임 >> 여기에 접근하고 싶을 때는 클래스 메소드 사용\n",
    "    def __init__(self, name) : # 강아지 만들려면 셀프 필요, 이름 필요하단 것\n",
    "        self.name = name\n",
    "        Puppy.num_of_puppy += 1 # 클래스가 가진 num_of_puppy 변수에 1씩 추가하고 싶단 것\n",
    "\n",
    "    @classmethod # 클래스에 저장된 변수에 접근하고 싶을 때 사용\n",
    "    def info(cls):\n",
    "        print(f'현재 강아지는 {cls.num_of_puppy}마리 입니다.') # num_of_puppy는 클래스가 가진 변수라서 cls. 붙인 것 >> 이렇게 표기 가능한 이유는 @classmethod 지정했기 때문\n",
    "\n",
    "    def bark(self): # 인스턴스 변수에 접근하고 싶으면 인스턴스 메소드 >> 인스턴스 메소드기 때문에 self를 쓴 것\n",
    "        print(f'멍멍!! {self.name}입니다~') # 인스턴스 메소드이기 때문에, 어떤 인스턴스의 변수 name을 쓸 것인지 지정한 것\n",
    "\n",
    "    @staticmethod # 클래스, 인스턴스 변수 모두 접근하지 않을 경우 스태틱 메소드 사용\n",
    "    def bark2():\n",
    "        print('왈왈!!')\n",
    "\n",
    "p1 = Puppy('비비')\n",
    "p2 = Puppy('코코')\n",
    "p3 = Puppy('구름이')\n",
    "\n",
    "    # 모두가 공유하는 것은 클래스 변수로 만들어야 함\n",
    "\n",
    "Puppy.info()\n",
    "# > 현재 강아지는 3마리 입니다.\n",
    "p1.bark()\n",
    "# > 멍멍! 비비입니다.\n",
    "Puppy.bark2()\n",
    "# > 왈왈!"
   ]
  },
  {
   "cell_type": "code",
   "execution_count": null,
   "id": "04e208d6-691e-4fa1-b5a1-d703437f0fd1",
   "metadata": {},
   "outputs": [],
   "source": [
    "class Person():\n",
    "    indent = ''\n",
    "\n",
    "    def __init__(self, name):\n",
    "        self.name = name\n",
    "\n",
    "    def greeting(self):\n",
    "        print(f'안녕하세요. {self.name} 입니다.')\n",
    "\n",
    "p1 = Person('hong')\n",
    "p2 = Person('kim')\n",
    "\n",
    "p1.greeting()\n",
    "p2.greeting()"
   ]
  },
  {
   "cell_type": "code",
   "execution_count": null,
   "id": "d5e275e0-985e-4e35-bd47-731d617d3796",
   "metadata": {},
   "outputs": [],
   "source": [
    "# 사람이 가진 기능을 군인에게 상속하기: 상위 클래스_Person, 하위 클래스_Soldier\n",
    "# 1. 하위 클래스에 상속하기\n",
    "class Soldier(Person): # (): 상속을 하기 위한 공간임 >> Person이 가진 모든 정보를 Soldier 클래스에 줌 >> 그래서 아래에 pass 외에 아무 코드 안 적어도 코드 작동함\n",
    "    def soldier_greeting(self): # 군인의 경우 인사하는 방식 달리 하고 싶을 때 함수 달리 쓰면 됨\n",
    "        print(f'충성 {self.name} 입니다.')\n",
    "\n",
    "# 2. 인스턴스\n",
    "s1 = Soldier('굳건이')\n",
    "s1.greeting() # 상위 클래스 Person의 인사법\n",
    "# > 안녕하세요. 굳건이 입니다.\n",
    "\n",
    "s1.soldier_greeting() # 하위 클래스 Soldier에서만 적용되는 인사법\n",
    "    # 새로 추가한 함수 이름이 기존 함수와 이름 동일하다면, 새 함수가 우선 실행됨\n",
    "\n",
    "# 상속: 부모가 가진 기능 그대로 가져오기 + 하위 클래스에서만 쓰는 기능 추가 가능"
   ]
  },
  {
   "cell_type": "code",
   "execution_count": null,
   "id": "09c0071a-5b3c-47ce-8feb-5a4e91aa580c",
   "metadata": {},
   "outputs": [],
   "source": [
    "class Person():\n",
    "    def __init__(self, name, age, email, phone):\n",
    "        self.name = name # self.name이라는 변수에 입력받은 name 값 저장\n",
    "        self.age = age\n",
    "        self.email = email\n",
    "        self.phone = phone\n",
    "\n",
    "# 부모 클래스 변수를 덮어쓰고 studenft_id 추가하려면?\n",
    "class Student(Person):\n",
    "    def __init__(self, name, age, email, phone, student_id):\n",
    "        super().__init__(name, age, email, phone, student_id)\n",
    "            # 부모가 가진 init 호출 -> init 함수는 위의 4줄 실행하는 함수임 >> init 함수 실행하면 4줄 실행되는 것\n",
    "                # 내부에 init 함수 있는데 다시 실행하는 재귀 일어나게 됨 >> 그래서 supper() 붙여줌: 부모 클래스가 가진 init 함수 실행해달라는 의미    \n",
    "                    # super(): 부모가 가진 함수를 실행시키는 함수\n",
    "\n",
    "    # 상속되면, 부모 클래스 기능 자식이 사실상 갖고 있는데, 숨김처리된 것\n",
    "    # def __init__(self, name, age, email, phone):\n",
    "    #     self.name = name # self.name이라는 변수에 입력받은 name 값 저장\n",
    "    #     self.age = age\n",
    "    #     self.email = email\n",
    "    #     self.phone = phone"
   ]
  },
  {
   "cell_type": "code",
   "execution_count": null,
   "id": "a44a26ab-4219-4969-b0d7-86bad12e2d91",
   "metadata": {},
   "outputs": [],
   "source": [
    "# 엄마, 아빠는 모두 사람 클래스 상속 받아서 숨 쉴 수 있음\n",
    "# 엄마, 아빠는 각각 서로 다른 기능 가짐\n",
    "# 자식은 엄마, 아빠 상속받음\n",
    "class Person():\n",
    "    def __init__(self, name):\n",
    "        self.name = name\n",
    "    def breath(self):\n",
    "        print('후하')"
   ]
  },
  {
   "cell_type": "code",
   "execution_count": null,
   "id": "74a47dd8-6ce5-437e-b27c-cb18dccffde2",
   "metadata": {},
   "outputs": [],
   "source": [
    "class Mom(Person):\n",
    "    gender = 'XX'\n",
    "    def swim(self):\n",
    "        print('어푸어푸')"
   ]
  },
  {
   "cell_type": "code",
   "execution_count": null,
   "id": "f0511189-1ca9-40b4-a45d-d7bf39922db5",
   "metadata": {},
   "outputs": [],
   "source": [
    "class Dad(Person):\n",
    "    gender = 'XY'\n",
    "    def run(self):\n",
    "        print('후두다닥')"
   ]
  },
  {
   "cell_type": "code",
   "execution_count": null,
   "id": "df347393-82ec-4a37-b406-07bac3afb021",
   "metadata": {},
   "outputs": [],
   "source": [
    "class Child(Mom, Dad):\n",
    "    pass"
   ]
  },
  {
   "cell_type": "code",
   "execution_count": null,
   "id": "7f35d565-379f-445b-952f-1a4b4ae4fb96",
   "metadata": {},
   "outputs": [],
   "source": [
    "c = Child('금쪽이')\n",
    "c.breath()\n",
    "c.run()\n",
    "c.swim()\n",
    "c.gender # 2개 클래스 상속 받는데, 상속받은 클래스에 데이터 겹치는 경우 >> 먼저 상속한 것을 상속받음\n",
    "# 후하\n",
    "# 후두다닥\n",
    "# 어푸어푸\n",
    "# 'XX'"
   ]
  },
  {
   "cell_type": "markdown",
   "id": "719c2bee-0af1-4ab3-b559-f02d3d03d0a3",
   "metadata": {},
   "source": [
    "# 복습"
   ]
  },
  {
   "cell_type": "code",
   "execution_count": null,
   "id": "bea84860-0fdf-4856-9a08-fd0a9ea32609",
   "metadata": {},
   "outputs": [],
   "source": [
    "# 1. 핸드폰 기능 만들기\n",
    "class Phone():\n",
    "    # 핸드폰 구조 잡기\n",
    "    power = False\n",
    "    number = ''\n",
    "    book = {}\n",
    "    model = ''\n",
    "\n",
    "    # 핸드폰 기능 넣기\n",
    "    # 1) 온오프\n",
    "    def on(self): # (): 누구를 의미하는지 -> self 넣어야 함****???\n",
    "        if self.power == False: # self의 power가 False라면\n",
    "            self.power = True # True로 바꾸기\n",
    "    def off(self):\n",
    "        if self.power == True:\n",
    "            self.power = False\n",
    "\n",
    "    # 2) 전화 거는 기능\n",
    "    def call(self, target): # 전화 걸 때는 나/너 전화 필요 -> 그래서 self, target 2개 인자 필요\n",
    "        if self.power == True:\n",
    "            print(f'{self.number}가 {target.number}에게 전화 거는 중...')\n",
    "        else:\n",
    "            print('전원이 꺼져 있습니다.')"
   ]
  },
  {
   "cell_type": "code",
   "execution_count": null,
   "id": "dbcf8dea-b3b3-4951-88e2-6ec1d9176304",
   "metadata": {},
   "outputs": [],
   "source": [
    "# on/off 함수\n",
    "my_phone = Phone() # 클래스는 인스턴스 후 사용 가능\n",
    "your_phone = Phone()\n",
    "my_phone.power # 내 폰의 power 변수 출력\n",
    "my_phone.on() # 전원 키는 함수 실행\n",
    "# my_phone.off()\n",
    "my_phone.power\n",
    "\n",
    "my_phone.number = '010-1111-2222'\n",
    "my_phone.number\n",
    "your_phone.number = '010-9999-8888'"
   ]
  },
  {
   "cell_type": "code",
   "execution_count": null,
   "id": "993eeaca-20a2-4daa-ba0a-1374f48df78d",
   "metadata": {},
   "outputs": [],
   "source": [
    "# call 함수\n",
    "my_phone.call(your_phone)"
   ]
  },
  {
   "cell_type": "code",
   "execution_count": null,
   "id": "433f34bd-c602-408d-a792-ba4f4503aa54",
   "metadata": {},
   "outputs": [],
   "source": [
    "# 2. 원의 둘레/면적 구하기\n",
    "class Circle():\n",
    "    # 세팅\n",
    "    def __init__(self, r, x=0, y=0): # r은 입력한 값\n",
    "        self.r = r # 나의 r 값은, 입력 받은 r 값으로 넣기\n",
    "        self.x = x\n",
    "        self.y = y\n",
    "\n",
    "    # 원의 정보 출력\n",
    "    def info(self):\n",
    "        print(f'반지름: {self.r}, 중심점: {self.x, self.y}')\n",
    "\n",
    "    # 둘레 구하기: 반지름 * 원주율 *2\n",
    "    def round(self):\n",
    "        return self.r * 2 * 3.14\n",
    "\n",
    "    # 면적 구하기: 반지름 ** 2 * pi\n",
    "    def area(self):\n",
    "        return self.r ** 2 * 3.14\n",
    "\n",
    "    # 중심점 이동하기\n",
    "    def move(self, x, y):\n",
    "        self.x = x\n",
    "        self.y = y\n",
    "        print(f'중심점을 {self.x, self.y}로 변경했습니다.')"
   ]
  },
  {
   "cell_type": "code",
   "execution_count": null,
   "id": "4e6d5fc9-be74-4660-bbb4-0964ffd58160",
   "metadata": {},
   "outputs": [],
   "source": [
    "c = Circle(4)\n",
    "c.round()\n",
    "c.area()\n",
    "c.move(1, 5)\n",
    "c.info()"
   ]
  },
  {
   "cell_type": "code",
   "execution_count": null,
   "id": "1f4856b6-313b-458e-b87c-612349404682",
   "metadata": {},
   "outputs": [],
   "source": [
    "# 3. 사람 만들기\n",
    "class Person():\n",
    "    def __init__(self, name, age, soldier=False):\n",
    "        self.name = name\n",
    "        self.age = age\n",
    "    # 정보 출력\n",
    "    def info(self):\n",
    "        print(f'이름: {self.name}, 나이: {self.age}세')\n",
    "    def greeting(self, target):\n",
    "        if self.age > target.age:\n",
    "            print('동생아 반갑다')\n",
    "        elif self.age == target.age:\n",
    "            print('친구야 반갑다')\n",
    "        else:\n",
    "            print('안녕하세요')"
   ]
  },
  {
   "cell_type": "code",
   "execution_count": null,
   "id": "1a652801-6b61-48f7-bbb8-033ccfe1a604",
   "metadata": {},
   "outputs": [],
   "source": [
    "p1 = Person('소리', 25, soldier=True)\n",
    "p1.info()\n",
    "p2 = Person('길동', 25, soldier=True)\n",
    "p1.greeting(p2)"
   ]
  },
  {
   "cell_type": "code",
   "execution_count": null,
   "id": "cb4cd12a-f2d0-446f-85b1-c5acba061bce",
   "metadata": {},
   "outputs": [],
   "source": [
    "class Soldier(Person): # 상속할 경우, __init__ 안 해도 됨\n",
    "    def soldier_greeting(self):\n",
    "        print(f'충성! {self.name} 입니다')"
   ]
  },
  {
   "cell_type": "code",
   "execution_count": null,
   "id": "66e25458-b63d-4f16-a93f-0d65065dd461",
   "metadata": {},
   "outputs": [],
   "source": [
    "p3 = Soldier('소리', 25)\n",
    "p3.soldier_greeting()"
   ]
  },
  {
   "cell_type": "code",
   "execution_count": 8,
   "id": "ecd66caf-99c3-4e28-8153-9b787a7aa717",
   "metadata": {},
   "outputs": [],
   "source": [
    "# \n",
    "import random\n",
    "class Poketmon():\n",
    "    def __init__(self, name, level=1):\n",
    "        self.name = name\n",
    "        self.level = level\n",
    "        self.hp = level * 3.14\n",
    "    # 공격\n",
    "    def attack(self, target):\n",
    "        demage = self.level * random.randint(0, 2)\n",
    "        print(f'{self.name}가 {target.name}에게 {demage}의 데미지를 입혔습니다!')\n",
    "        target.hp = target.hp - demage\n",
    "\n",
    "    # 현 상태 말하기\n",
    "    def status(self):\n",
    "        print(f'{self.name} 체력: {self.hp}')"
   ]
  },
  {
   "cell_type": "code",
   "execution_count": 9,
   "id": "578842a7-66b4-4490-aac1-7ffc9318b191",
   "metadata": {},
   "outputs": [],
   "source": [
    "p1 = Poketmon('꼬북이', 15)\n",
    "p2 = Poketmon('파이리', 14)"
   ]
  },
  {
   "cell_type": "code",
   "execution_count": 10,
   "id": "f4d3c5ca-f3b9-4077-8250-8afa70893410",
   "metadata": {},
   "outputs": [
    {
     "name": "stdout",
     "output_type": "stream",
     "text": [
      "꼬북이 - 레벨: 15, 체력: 47.1\n",
      "파이리 - 레벨: 14, 체력: 43.96\n",
      "----------------\n",
      "꼬북이가 파이리에게 30의 데미지를 입혔습니다!\n",
      "파이리가 꼬북이에게 0의 데미지를 입혔습니다!\n",
      "꼬북이 체력: 47.1\n",
      "파이리 체력: 13.96\n",
      "----------------\n",
      "꼬북이가 파이리에게 15의 데미지를 입혔습니다!\n",
      "파이리가 쓰러졌습니다!\n"
     ]
    }
   ],
   "source": [
    "print(f'{p1.name} - 레벨: {p1.level}, 체력: {p1.hp}')\n",
    "print(f'{p2.name} - 레벨: {p2.level}, 체력: {p2.hp}')\n",
    "print('----------------')\n",
    "\n",
    "while True:    \n",
    "    p1.attack(p2)\n",
    "    if p2.hp <= 0:\n",
    "        print(f'{p2.name}가 쓰러졌습니다!')\n",
    "        break\n",
    "\n",
    "    p2.attack(p1)\n",
    "    if p1.hp <= 0:\n",
    "        print(f'{p1.name}가 쓰러졌습니다!')\n",
    "        break\n",
    "\n",
    "    p1.status()\n",
    "    p2.status()\n",
    "    print('----------------')"
   ]
  },
  {
   "cell_type": "code",
   "execution_count": 39,
   "id": "a72c67c0-6a25-4318-a61c-f1a7380b9584",
   "metadata": {},
   "outputs": [],
   "source": [
    "class Dog(Poketmon):\n",
    "    def eat(self):\n",
    "        hilling = random.choice(range(0, 5))\n",
    "        self.hp = self.level + hilling\n",
    "        if hilling == 0:\n",
    "            print(f'{self.name}가 밥을 먹지 못했습니다! 꼬르륵..')\n",
    "        else:           \n",
    "            print(f'{self.name}가 밥을 먹고 체력을 {hilling}만큼 회복했습니다!')"
   ]
  },
  {
   "cell_type": "code",
   "execution_count": 51,
   "id": "87fe9fc7-d985-4a5c-bc5b-73cfd7b55a3b",
   "metadata": {},
   "outputs": [],
   "source": [
    "d1 = Dog('소리', 25)\n",
    "d2 = Dog('호근이', 25)"
   ]
  },
  {
   "cell_type": "code",
   "execution_count": 52,
   "id": "dac85e09-ed27-4c12-93f2-d5b86bf33237",
   "metadata": {},
   "outputs": [
    {
     "name": "stdout",
     "output_type": "stream",
     "text": [
      "소리 - 레벨: 25, 체력: 78.5\n",
      "호근이 - 레벨: 25, 체력: 78.5\n",
      "---------\n",
      "배틀 시작!\n",
      "---------\n",
      "소리가 호근이에게 50의 데미지를 입혔습니다!\n",
      "호근이가 소리에게 50의 데미지를 입혔습니다!\n",
      "---------\n",
      "소리가 밥을 먹고 체력을 1만큼 회복했습니다!\n",
      "호근이가 밥을 먹고 체력을 1만큼 회복했습니다!\n",
      "---------\n",
      "소리 체력: 26\n",
      "호근이 체력: 26\n",
      "=========\n",
      "소리가 호근이에게 25의 데미지를 입혔습니다!\n",
      "호근이가 소리에게 25의 데미지를 입혔습니다!\n",
      "---------\n",
      "소리가 밥을 먹고 체력을 1만큼 회복했습니다!\n",
      "호근이가 밥을 먹고 체력을 4만큼 회복했습니다!\n",
      "---------\n",
      "소리 체력: 26\n",
      "호근이 체력: 29\n",
      "=========\n",
      "소리가 호근이에게 50의 데미지를 입혔습니다!\n",
      "호근이가 쓰러졌습니다!\n"
     ]
    }
   ],
   "source": [
    "print(f'{d1.name} - 레벨: {d1.level}, 체력: {d1.hp}')\n",
    "print(f'{d2.name} - 레벨: {d2.level}, 체력: {d2.hp}')\n",
    "print('---------')\n",
    "print('배틀 시작!')\n",
    "print('---------')\n",
    "while True:\n",
    "    d1.attack(d2)\n",
    "    if d2.hp <= 0:\n",
    "        print(f'{d2.name}가 쓰러졌습니다!')\n",
    "        break\n",
    "    \n",
    "    d2.attack(d1)\n",
    "    if d1.hp <= 0:\n",
    "        print(f'{d1.name}가 쓰러졌습니다!')\n",
    "        break\n",
    "    print('---------')    \n",
    "    d1.eat()\n",
    "    d2.eat()\n",
    "    print('---------')\n",
    "    d1.status()\n",
    "    d2.status()\n",
    "    print('=========')"
   ]
  },
  {
   "cell_type": "code",
   "execution_count": null,
   "id": "1d9a306f-901e-416d-bc62-d245074b370f",
   "metadata": {},
   "outputs": [],
   "source": []
  }
 ],
 "metadata": {
  "kernelspec": {
   "display_name": "Python 3 (ipykernel)",
   "language": "python",
   "name": "python3"
  },
  "language_info": {
   "codemirror_mode": {
    "name": "ipython",
    "version": 3
   },
   "file_extension": ".py",
   "mimetype": "text/x-python",
   "name": "python",
   "nbconvert_exporter": "python",
   "pygments_lexer": "ipython3",
   "version": "3.13.2"
  }
 },
 "nbformat": 4,
 "nbformat_minor": 5
}
